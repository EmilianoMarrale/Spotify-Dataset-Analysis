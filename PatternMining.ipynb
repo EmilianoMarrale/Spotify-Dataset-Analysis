{
 "cells": [
  {
   "cell_type": "code",
   "execution_count": 1,
   "id": "initial_id",
   "metadata": {
    "collapsed": true,
    "ExecuteTime": {
     "end_time": "2023-12-28T23:02:45.243596Z",
     "start_time": "2023-12-28T23:02:45.222964Z"
    }
   },
   "outputs": [],
   "source": [
    "from fim import apriori\n",
    "import pandas as pd\n",
    "import numpy as np\n",
    "import matplotlib.pyplot as plt\n",
    "import seaborn as sns"
   ]
  },
  {
   "cell_type": "code",
   "execution_count": 2,
   "outputs": [],
   "source": [
    "df_train = pd.read_csv('train.csv')\n",
    "df_test = pd.read_csv('test.csv')"
   ],
   "metadata": {
    "collapsed": false,
    "ExecuteTime": {
     "end_time": "2023-12-28T23:02:46.395359Z",
     "start_time": "2023-12-28T23:02:46.008139Z"
    }
   },
   "id": "c95f8b71d69ff0ef"
  },
  {
   "cell_type": "code",
   "execution_count": 5,
   "outputs": [
    {
     "data": {
      "text/plain": "                                                    name  duration_ms  \\\n0                                              Long Road       241760   \n1                   Daniâl My Son, Where Did You Vanish?       444000   \n2                                     Ondskapens Galakse       333506   \n3                                        Can't Look Away       269800   \n4                                          Thunderground       307651   \n...                                                  ...          ...   \n14995                                              Outpt       432026   \n14996  Natural Environment Sounds: To Improve Sleep a...       182746   \n14997                               Psychological Attack       400091   \n14998             Don't Hate The 808 (feat. Lafa Taylor)       197250   \n14999                                    Parchaiyon Mein       198409   \n\n       explicit  popularity                         artists  \\\n0             0          46                   Funki Porcini   \n1             0           0                   Siavash Amini   \n2             0           3                       Kvelertak   \n3             0          23               The Wood Brothers   \n4             0          25          The Darkraver;DJ Vince   \n...         ...         ...                             ...   \n14995         0           0                        Autechre   \n14996         0          44  Natural White Noise Relaxation   \n14997         0          43                         Droplex   \n14998         0          37          Bassnectar;Lafa Taylor   \n14999         0          36                   Ashwin Adwani   \n\n                                              album_name  danceability  \\\n0                                          Hed Phone Sex         0.690   \n1                                   A Trail of Laughters         0.069   \n2                                             Nattesferd         0.363   \n3                                      One Drop of Truth         0.523   \n4                                 Happy Hardcore Top 100         0.643   \n...                                                  ...           ...   \n14995                                                EP7         0.554   \n14996  Baby Sleep White Noise: Ultimate Album to Help...         0.103   \n14997                               Psychological Attack         0.799   \n14998                                    Noise vs Beauty         0.511   \n14999                                    Parchaiyon Mein         0.678   \n\n       energy  key  loudness  ...  instrumentalness  liveness  valence  \\\n0       0.513    5   -12.529  ...          0.536000    0.2810   0.6350   \n1       0.196    1   -24.801  ...          0.934000    0.3600   0.0336   \n2       0.854    2    -7.445  ...          0.800000    0.2620   0.4890   \n3       0.585    5    -5.607  ...          0.001270    0.1170   0.3850   \n4       0.687    7   -11.340  ...          0.096900    0.2990   0.6370   \n...       ...  ...       ...  ...               ...       ...      ...   \n14995   0.657    1   -14.232  ...          0.615000    0.1320   0.0335   \n14996   0.860    1   -19.627  ...          0.940000    0.1230   0.0016   \n14997   0.535    1    -9.103  ...          0.857000    0.0713   0.0708   \n14998   0.970    5    -2.299  ...          0.000014    0.4020   0.2700   \n14999   0.518    6    -7.790  ...          0.000000    0.0880   0.7840   \n\n         tempo  features_duration_ms  time_signature  n_beats  n_bars  \\\n0      142.221                241760             4.0    567.0   141.0   \n1       75.596                444000             4.0    617.0   155.0   \n2      116.628                333507             4.0    652.0   162.0   \n3      140.880                269800             4.0    619.0   155.0   \n4      143.956                307652             4.0    733.0   183.0   \n...        ...                   ...             ...      ...     ...   \n14995  117.319                432027             4.0    837.0   212.0   \n14996   92.323                182747             3.0    277.0    92.0   \n14997  126.000                400091             4.0    837.0   209.0   \n14998  160.044                197250             4.0    513.0   130.0   \n14999   88.003                198409             4.0    286.0    72.0   \n\n       processing  genre  \n0        1.279305      0  \n1        2.367412      1  \n2        3.700483      2  \n3        1.279305      3  \n4        4.067086      4  \n...           ...    ...  \n14995    2.367412     15  \n14996    2.367412      8  \n14997    2.367412      9  \n14998    1.279305     19  \n14999    1.170953     14  \n\n[15000 rows x 23 columns]",
      "text/html": "<div>\n<style scoped>\n    .dataframe tbody tr th:only-of-type {\n        vertical-align: middle;\n    }\n\n    .dataframe tbody tr th {\n        vertical-align: top;\n    }\n\n    .dataframe thead th {\n        text-align: right;\n    }\n</style>\n<table border=\"1\" class=\"dataframe\">\n  <thead>\n    <tr style=\"text-align: right;\">\n      <th></th>\n      <th>name</th>\n      <th>duration_ms</th>\n      <th>explicit</th>\n      <th>popularity</th>\n      <th>artists</th>\n      <th>album_name</th>\n      <th>danceability</th>\n      <th>energy</th>\n      <th>key</th>\n      <th>loudness</th>\n      <th>...</th>\n      <th>instrumentalness</th>\n      <th>liveness</th>\n      <th>valence</th>\n      <th>tempo</th>\n      <th>features_duration_ms</th>\n      <th>time_signature</th>\n      <th>n_beats</th>\n      <th>n_bars</th>\n      <th>processing</th>\n      <th>genre</th>\n    </tr>\n  </thead>\n  <tbody>\n    <tr>\n      <th>0</th>\n      <td>Long Road</td>\n      <td>241760</td>\n      <td>0</td>\n      <td>46</td>\n      <td>Funki Porcini</td>\n      <td>Hed Phone Sex</td>\n      <td>0.690</td>\n      <td>0.513</td>\n      <td>5</td>\n      <td>-12.529</td>\n      <td>...</td>\n      <td>0.536000</td>\n      <td>0.2810</td>\n      <td>0.6350</td>\n      <td>142.221</td>\n      <td>241760</td>\n      <td>4.0</td>\n      <td>567.0</td>\n      <td>141.0</td>\n      <td>1.279305</td>\n      <td>0</td>\n    </tr>\n    <tr>\n      <th>1</th>\n      <td>Daniâl My Son, Where Did You Vanish?</td>\n      <td>444000</td>\n      <td>0</td>\n      <td>0</td>\n      <td>Siavash Amini</td>\n      <td>A Trail of Laughters</td>\n      <td>0.069</td>\n      <td>0.196</td>\n      <td>1</td>\n      <td>-24.801</td>\n      <td>...</td>\n      <td>0.934000</td>\n      <td>0.3600</td>\n      <td>0.0336</td>\n      <td>75.596</td>\n      <td>444000</td>\n      <td>4.0</td>\n      <td>617.0</td>\n      <td>155.0</td>\n      <td>2.367412</td>\n      <td>1</td>\n    </tr>\n    <tr>\n      <th>2</th>\n      <td>Ondskapens Galakse</td>\n      <td>333506</td>\n      <td>0</td>\n      <td>3</td>\n      <td>Kvelertak</td>\n      <td>Nattesferd</td>\n      <td>0.363</td>\n      <td>0.854</td>\n      <td>2</td>\n      <td>-7.445</td>\n      <td>...</td>\n      <td>0.800000</td>\n      <td>0.2620</td>\n      <td>0.4890</td>\n      <td>116.628</td>\n      <td>333507</td>\n      <td>4.0</td>\n      <td>652.0</td>\n      <td>162.0</td>\n      <td>3.700483</td>\n      <td>2</td>\n    </tr>\n    <tr>\n      <th>3</th>\n      <td>Can't Look Away</td>\n      <td>269800</td>\n      <td>0</td>\n      <td>23</td>\n      <td>The Wood Brothers</td>\n      <td>One Drop of Truth</td>\n      <td>0.523</td>\n      <td>0.585</td>\n      <td>5</td>\n      <td>-5.607</td>\n      <td>...</td>\n      <td>0.001270</td>\n      <td>0.1170</td>\n      <td>0.3850</td>\n      <td>140.880</td>\n      <td>269800</td>\n      <td>4.0</td>\n      <td>619.0</td>\n      <td>155.0</td>\n      <td>1.279305</td>\n      <td>3</td>\n    </tr>\n    <tr>\n      <th>4</th>\n      <td>Thunderground</td>\n      <td>307651</td>\n      <td>0</td>\n      <td>25</td>\n      <td>The Darkraver;DJ Vince</td>\n      <td>Happy Hardcore Top 100</td>\n      <td>0.643</td>\n      <td>0.687</td>\n      <td>7</td>\n      <td>-11.340</td>\n      <td>...</td>\n      <td>0.096900</td>\n      <td>0.2990</td>\n      <td>0.6370</td>\n      <td>143.956</td>\n      <td>307652</td>\n      <td>4.0</td>\n      <td>733.0</td>\n      <td>183.0</td>\n      <td>4.067086</td>\n      <td>4</td>\n    </tr>\n    <tr>\n      <th>...</th>\n      <td>...</td>\n      <td>...</td>\n      <td>...</td>\n      <td>...</td>\n      <td>...</td>\n      <td>...</td>\n      <td>...</td>\n      <td>...</td>\n      <td>...</td>\n      <td>...</td>\n      <td>...</td>\n      <td>...</td>\n      <td>...</td>\n      <td>...</td>\n      <td>...</td>\n      <td>...</td>\n      <td>...</td>\n      <td>...</td>\n      <td>...</td>\n      <td>...</td>\n      <td>...</td>\n    </tr>\n    <tr>\n      <th>14995</th>\n      <td>Outpt</td>\n      <td>432026</td>\n      <td>0</td>\n      <td>0</td>\n      <td>Autechre</td>\n      <td>EP7</td>\n      <td>0.554</td>\n      <td>0.657</td>\n      <td>1</td>\n      <td>-14.232</td>\n      <td>...</td>\n      <td>0.615000</td>\n      <td>0.1320</td>\n      <td>0.0335</td>\n      <td>117.319</td>\n      <td>432027</td>\n      <td>4.0</td>\n      <td>837.0</td>\n      <td>212.0</td>\n      <td>2.367412</td>\n      <td>15</td>\n    </tr>\n    <tr>\n      <th>14996</th>\n      <td>Natural Environment Sounds: To Improve Sleep a...</td>\n      <td>182746</td>\n      <td>0</td>\n      <td>44</td>\n      <td>Natural White Noise Relaxation</td>\n      <td>Baby Sleep White Noise: Ultimate Album to Help...</td>\n      <td>0.103</td>\n      <td>0.860</td>\n      <td>1</td>\n      <td>-19.627</td>\n      <td>...</td>\n      <td>0.940000</td>\n      <td>0.1230</td>\n      <td>0.0016</td>\n      <td>92.323</td>\n      <td>182747</td>\n      <td>3.0</td>\n      <td>277.0</td>\n      <td>92.0</td>\n      <td>2.367412</td>\n      <td>8</td>\n    </tr>\n    <tr>\n      <th>14997</th>\n      <td>Psychological Attack</td>\n      <td>400091</td>\n      <td>0</td>\n      <td>43</td>\n      <td>Droplex</td>\n      <td>Psychological Attack</td>\n      <td>0.799</td>\n      <td>0.535</td>\n      <td>1</td>\n      <td>-9.103</td>\n      <td>...</td>\n      <td>0.857000</td>\n      <td>0.0713</td>\n      <td>0.0708</td>\n      <td>126.000</td>\n      <td>400091</td>\n      <td>4.0</td>\n      <td>837.0</td>\n      <td>209.0</td>\n      <td>2.367412</td>\n      <td>9</td>\n    </tr>\n    <tr>\n      <th>14998</th>\n      <td>Don't Hate The 808 (feat. Lafa Taylor)</td>\n      <td>197250</td>\n      <td>0</td>\n      <td>37</td>\n      <td>Bassnectar;Lafa Taylor</td>\n      <td>Noise vs Beauty</td>\n      <td>0.511</td>\n      <td>0.970</td>\n      <td>5</td>\n      <td>-2.299</td>\n      <td>...</td>\n      <td>0.000014</td>\n      <td>0.4020</td>\n      <td>0.2700</td>\n      <td>160.044</td>\n      <td>197250</td>\n      <td>4.0</td>\n      <td>513.0</td>\n      <td>130.0</td>\n      <td>1.279305</td>\n      <td>19</td>\n    </tr>\n    <tr>\n      <th>14999</th>\n      <td>Parchaiyon Mein</td>\n      <td>198409</td>\n      <td>0</td>\n      <td>36</td>\n      <td>Ashwin Adwani</td>\n      <td>Parchaiyon Mein</td>\n      <td>0.678</td>\n      <td>0.518</td>\n      <td>6</td>\n      <td>-7.790</td>\n      <td>...</td>\n      <td>0.000000</td>\n      <td>0.0880</td>\n      <td>0.7840</td>\n      <td>88.003</td>\n      <td>198409</td>\n      <td>4.0</td>\n      <td>286.0</td>\n      <td>72.0</td>\n      <td>1.170953</td>\n      <td>14</td>\n    </tr>\n  </tbody>\n</table>\n<p>15000 rows × 23 columns</p>\n</div>"
     },
     "execution_count": 5,
     "metadata": {},
     "output_type": "execute_result"
    }
   ],
   "source": [
    "df_train"
   ],
   "metadata": {
    "collapsed": false,
    "ExecuteTime": {
     "end_time": "2023-12-28T23:06:40.595805Z",
     "start_time": "2023-12-28T23:06:40.422514Z"
    }
   },
   "id": "adf1e3a9e3e6ee94"
  },
  {
   "cell_type": "markdown",
   "source": [
    "# Feature preprocessing (light)"
   ],
   "metadata": {
    "collapsed": false
   },
   "id": "2bd6708f0d819063"
  },
  {
   "cell_type": "code",
   "execution_count": 4,
   "outputs": [
    {
     "name": "stdout",
     "output_type": "stream",
     "text": [
      "Accuracy on test set: 0.717999434868607\n"
     ]
    }
   ],
   "source": [
    "from sklearn.metrics import accuracy_score\n",
    "from sklearn.ensemble import RandomForestClassifier\n",
    "\n",
    "genres = df_train['genre'].unique()\n",
    "# creo un dizionario per tenerli associati ad un numero\n",
    "genres_dict = dict(zip(genres, range(len(genres))))\n",
    "# Mappo i generi con i numeri\n",
    "df_train['genre'] = df_train['genre'].map(genres_dict)\n",
    "df_test['genre'] = df_test['genre'].map(genres_dict)\n",
    "\n",
    "df_train['explicit'] = df_train['explicit'].astype(int)\n",
    "df_test['explicit'] = df_test['explicit'].astype(int)\n",
    "\n",
    "#Calculating only for the missing values in time_signature column by dividing n_beats/n_bars and rounding the result\n",
    "df_train.loc[df_train['time_signature'].isna(), 'time_signature'] = round(df_train['n_beats'] / df_train['n_bars'])\n",
    "\n",
    "df_test.loc[df_test['time_signature'].isna(), 'time_signature'] = round(df_test['n_beats'] / df_test['n_bars'])\n",
    "\n",
    "\n",
    "'''\n",
    "from sklearn.preprocessing import MinMaxScaler\n",
    "\n",
    "numerical_cols_train = df_train.select_dtypes(include=[np.number]).columns\n",
    "numerical_cols_test = df_test.select_dtypes(include=[np.number]).columns\n",
    "\n",
    "\n",
    "scaler = MinMaxScaler()\n",
    "\n",
    "scaler.fit(df_train[numerical_cols_train])\n",
    "\n",
    "scaled_numerical_train = scaler.transform(df_train[numerical_cols_train])\n",
    "scaled_numerical_test = scaler.transform(df_test[numerical_cols_test])\n",
    "\n",
    "df_train[numerical_cols_train] = scaled_numerical_train\n",
    "df_test[numerical_cols_test] = scaled_numerical_test\n",
    "'''\n",
    "\n",
    "#Dropping popularity confidence column\n",
    "df_train.drop(columns=['popularity_confidence'], axis=1, inplace=True)\n",
    "df_test.drop(columns=['popularity_confidence'], axis=1, inplace=True)\n",
    "\n",
    "# Load your dataset\n",
    "df_copy = df_train.copy()\n",
    "df_copy_test = df_test.copy()\n",
    "\n",
    "# Drop unnecessary columns\n",
    "columns_to_drop = ['name', 'artists', 'album_name']\n",
    "df_copy.drop(columns=columns_to_drop, axis=1, inplace=True)\n",
    "df_copy_test.drop(columns=columns_to_drop, axis=1, inplace=True)\n",
    "\n",
    "\n",
    "# Divide the dataset: one with known mode and one with missing mode\n",
    "data_with_mode = df_copy.dropna(subset=['mode'])\n",
    "data_missing_mode = df_copy[df_copy['mode'].isna()]\n",
    "data_missing_mode_test = df_copy_test[df_copy_test['mode'].isna()]\n",
    "\n",
    "# Features and target variable for the known 'mode'\n",
    "X_known = data_with_mode.drop(columns=['mode'])\n",
    "y_known = data_with_mode['mode']\n",
    "\n",
    "# Features for the rows with missing 'mode'\n",
    "X_missing = data_missing_mode.drop(columns=['mode'])\n",
    "X_missing_test = data_missing_mode_test.drop(columns=['mode'])\n",
    "\n",
    "# Train a classifier (e.g., Random Forest) on data with known 'mode'\n",
    "clf = RandomForestClassifier(n_estimators=500, random_state=42, max_features=20)\n",
    "clf.fit(X_known, y_known)\n",
    "\n",
    "# Separate known and unknown 'mode' in test set\n",
    "test_known_mode = df_copy_test.dropna(subset=['mode'])\n",
    "test_unknown_mode = df_copy_test[df_copy_test['mode'].isna()]\n",
    "\n",
    "# Features and actual 'mode' values for known 'mode' part of test set\n",
    "X_test_known = test_known_mode.drop(columns=['mode'])\n",
    "y_test_actual = test_known_mode['mode']\n",
    "\n",
    "# Predict 'mode' for the known part of the test set\n",
    "y_test_pred = clf.predict(X_test_known)\n",
    "\n",
    "# Calculate accuracy\n",
    "accuracy = accuracy_score(y_test_actual, y_test_pred)\n",
    "print(\"Accuracy on test set:\", accuracy)\n",
    "\n",
    "# Predict 'mode' for rows with missing 'mode' in training and test set\n",
    "y_missing_pred = clf.predict(X_missing)\n",
    "y_missing_pred_test = clf.predict(X_missing_test)\n",
    "\n",
    "# Fill in the missing 'mode' values with predictions in training and test sets\n",
    "df_train.loc[df_train['mode'].isna(), 'mode'] = y_missing_pred\n",
    "df_test.loc[df_test['mode'].isna(), 'mode'] = y_missing_pred_test\n"
   ],
   "metadata": {
    "collapsed": false,
    "ExecuteTime": {
     "end_time": "2023-12-28T23:06:24.030445Z",
     "start_time": "2023-12-28T23:05:11.378522Z"
    }
   },
   "id": "6ca5e15e87663ab8"
  },
  {
   "cell_type": "code",
   "execution_count": 6,
   "outputs": [],
   "source": [
    "df_train.drop(columns=['name', 'artists', 'album_name', 'features_duration_ms', 'processing'], axis=1, inplace=True)"
   ],
   "metadata": {
    "collapsed": false,
    "ExecuteTime": {
     "end_time": "2023-12-28T23:08:06.289615Z",
     "start_time": "2023-12-28T23:08:06.258752Z"
    }
   },
   "id": "1be4e3706f782384"
  },
  {
   "cell_type": "code",
   "execution_count": 30,
   "outputs": [
    {
     "data": {
      "text/plain": "           explicit  popularity key   mode                     time_signature  \\\n0      not_explicit          46   F  major  4.0_time_signature_time_signature   \n1      not_explicit           0  C#  minor  4.0_time_signature_time_signature   \n2      not_explicit           3   D  major  4.0_time_signature_time_signature   \n3      not_explicit          23   F  major  4.0_time_signature_time_signature   \n4      not_explicit          25   G  major  4.0_time_signature_time_signature   \n...             ...         ...  ..    ...                                ...   \n14995  not_explicit           0  C#  minor  4.0_time_signature_time_signature   \n14996  not_explicit          44  C#  major  3.0_time_signature_time_signature   \n14997  not_explicit          43  C#  major  4.0_time_signature_time_signature   \n14998  not_explicit          37   F  major  4.0_time_signature_time_signature   \n14999  not_explicit          36  F#  major  4.0_time_signature_time_signature   \n\n       genre                              durationBin  \\\n0          0   (227826.0, 288903.0]_duration_duration   \n1          1  (288903.0, 4120258.0]_duration_duration   \n2          2  (288903.0, 4120258.0]_duration_duration   \n3          3   (227826.0, 288903.0]_duration_duration   \n4          4  (288903.0, 4120258.0]_duration_duration   \n...      ...                                      ...   \n14995     15  (288903.0, 4120258.0]_duration_duration   \n14996      8   (180000.0, 227826.0]_duration_duration   \n14997      9  (288903.0, 4120258.0]_duration_duration   \n14998     19   (180000.0, 227826.0]_duration_duration   \n14999     14   (180000.0, 227826.0]_duration_duration   \n\n                            n_beatsBin                      n_barsBin  \\\n0       (461.0, 625.0]_n_beats_n_beats   (117.0, 159.0]_n_bars_n_bars   \n1       (461.0, 625.0]_n_beats_n_beats   (117.0, 159.0]_n_bars_n_bars   \n2      (625.0, 7348.0]_n_beats_n_beats  (159.0, 2170.0]_n_bars_n_bars   \n3       (461.0, 625.0]_n_beats_n_beats   (117.0, 159.0]_n_bars_n_bars   \n4      (625.0, 7348.0]_n_beats_n_beats  (159.0, 2170.0]_n_bars_n_bars   \n...                                ...                            ...   \n14995  (625.0, 7348.0]_n_beats_n_beats  (159.0, 2170.0]_n_bars_n_bars   \n14996  (-0.001, 327.0]_n_beats_n_beats    (83.0, 117.0]_n_bars_n_bars   \n14997  (625.0, 7348.0]_n_beats_n_beats  (159.0, 2170.0]_n_bars_n_bars   \n14998   (461.0, 625.0]_n_beats_n_beats   (117.0, 159.0]_n_bars_n_bars   \n14999  (-0.001, 327.0]_n_beats_n_beats   (-0.001, 83.0]_n_bars_n_bars   \n\n                    danceabilityBin               energyBin  \\\n0        (0.58, 0.695]_danceability   (0.418, 0.625]_energy   \n1      (-0.001, 0.441]_danceability  (-0.001, 0.418]_energy   \n2      (-0.001, 0.441]_danceability   (0.788, 0.912]_energy   \n3        (0.441, 0.58]_danceability   (0.418, 0.625]_energy   \n4        (0.58, 0.695]_danceability   (0.625, 0.788]_energy   \n...                             ...                     ...   \n14995    (0.441, 0.58]_danceability   (0.625, 0.788]_energy   \n14996  (-0.001, 0.441]_danceability   (0.788, 0.912]_energy   \n14997    (0.695, 0.98]_danceability   (0.418, 0.625]_energy   \n14998    (0.441, 0.58]_danceability     (0.912, 1.0]_energy   \n14999    (0.58, 0.695]_danceability   (0.418, 0.625]_energy   \n\n                       loudnessBin                speechinessBin  \\\n0      (-49.532, -11.899]_loudness   (0.0601, 0.105]_speechiness   \n1      (-49.532, -11.899]_loudness   (0.0601, 0.105]_speechiness   \n2         (-8.37, -6.404]_loudness  (0.0351, 0.0446]_speechiness   \n3        (-6.404, -4.646]_loudness   (0.0601, 0.105]_speechiness   \n4        (-11.899, -8.37]_loudness  (0.0446, 0.0601]_speechiness   \n...                            ...                           ...   \n14995  (-49.532, -11.899]_loudness  (0.0446, 0.0601]_speechiness   \n14996  (-49.532, -11.899]_loudness  (0.0446, 0.0601]_speechiness   \n14997    (-11.899, -8.37]_loudness  (0.0446, 0.0601]_speechiness   \n14998     (-4.646, 3.156]_loudness  (0.0446, 0.0601]_speechiness   \n14999     (-8.37, -6.404]_loudness  (0.0351, 0.0446]_speechiness   \n\n                      acousticnessBin                 instrumentalnessBin  \\\n0           (0.3, 0.664]_acousticness     (0.089, 0.826]_instrumentalness   \n1          (0.0686, 0.3]_acousticness       (0.826, 1.0]_instrumentalness   \n2      (-0.001, 0.00394]_acousticness     (0.089, 0.826]_instrumentalness   \n3      (0.00394, 0.0686]_acousticness   (0.00011, 0.089]_instrumentalness   \n4      (-0.001, 0.00394]_acousticness     (0.089, 0.826]_instrumentalness   \n...                               ...                                 ...   \n14995  (0.00394, 0.0686]_acousticness     (0.089, 0.826]_instrumentalness   \n14996       (0.3, 0.664]_acousticness       (0.826, 1.0]_instrumentalness   \n14997  (-0.001, 0.00394]_acousticness       (0.826, 1.0]_instrumentalness   \n14998  (-0.001, 0.00394]_acousticness  (-0.001, 0.00011]_instrumentalness   \n14999       (0.3, 0.664]_acousticness  (-0.001, 0.00011]_instrumentalness   \n\n                     livenessBin               valenceBin  \\\n0        (0.168, 0.321]_liveness   (0.511, 0.715]_valence   \n1        (0.321, 0.994]_liveness  (-0.001, 0.155]_valence   \n2        (0.168, 0.321]_liveness   (0.328, 0.511]_valence   \n3        (0.113, 0.168]_liveness   (0.328, 0.511]_valence   \n4        (0.168, 0.321]_liveness   (0.511, 0.715]_valence   \n...                          ...                      ...   \n14995    (0.113, 0.168]_liveness  (-0.001, 0.155]_valence   \n14996    (0.113, 0.168]_liveness  (-0.001, 0.155]_valence   \n14997  (-0.001, 0.0913]_liveness  (-0.001, 0.155]_valence   \n14998    (0.321, 0.994]_liveness   (0.155, 0.328]_valence   \n14999  (-0.001, 0.0913]_liveness   (0.715, 0.995]_valence   \n\n                      tempoBin  \n0       (129.99, 149.82]_tempo  \n1        (-0.001, 94.81]_tempo  \n2       (94.81, 117.048]_tempo  \n3       (129.99, 149.82]_tempo  \n4       (129.99, 149.82]_tempo  \n...                        ...  \n14995  (117.048, 129.99]_tempo  \n14996    (-0.001, 94.81]_tempo  \n14997  (117.048, 129.99]_tempo  \n14998  (149.82, 220.525]_tempo  \n14999    (-0.001, 94.81]_tempo  \n\n[15000 rows x 18 columns]",
      "text/html": "<div>\n<style scoped>\n    .dataframe tbody tr th:only-of-type {\n        vertical-align: middle;\n    }\n\n    .dataframe tbody tr th {\n        vertical-align: top;\n    }\n\n    .dataframe thead th {\n        text-align: right;\n    }\n</style>\n<table border=\"1\" class=\"dataframe\">\n  <thead>\n    <tr style=\"text-align: right;\">\n      <th></th>\n      <th>explicit</th>\n      <th>popularity</th>\n      <th>key</th>\n      <th>mode</th>\n      <th>time_signature</th>\n      <th>genre</th>\n      <th>durationBin</th>\n      <th>n_beatsBin</th>\n      <th>n_barsBin</th>\n      <th>danceabilityBin</th>\n      <th>energyBin</th>\n      <th>loudnessBin</th>\n      <th>speechinessBin</th>\n      <th>acousticnessBin</th>\n      <th>instrumentalnessBin</th>\n      <th>livenessBin</th>\n      <th>valenceBin</th>\n      <th>tempoBin</th>\n    </tr>\n  </thead>\n  <tbody>\n    <tr>\n      <th>0</th>\n      <td>not_explicit</td>\n      <td>46</td>\n      <td>F</td>\n      <td>major</td>\n      <td>4.0_time_signature_time_signature</td>\n      <td>0</td>\n      <td>(227826.0, 288903.0]_duration_duration</td>\n      <td>(461.0, 625.0]_n_beats_n_beats</td>\n      <td>(117.0, 159.0]_n_bars_n_bars</td>\n      <td>(0.58, 0.695]_danceability</td>\n      <td>(0.418, 0.625]_energy</td>\n      <td>(-49.532, -11.899]_loudness</td>\n      <td>(0.0601, 0.105]_speechiness</td>\n      <td>(0.3, 0.664]_acousticness</td>\n      <td>(0.089, 0.826]_instrumentalness</td>\n      <td>(0.168, 0.321]_liveness</td>\n      <td>(0.511, 0.715]_valence</td>\n      <td>(129.99, 149.82]_tempo</td>\n    </tr>\n    <tr>\n      <th>1</th>\n      <td>not_explicit</td>\n      <td>0</td>\n      <td>C#</td>\n      <td>minor</td>\n      <td>4.0_time_signature_time_signature</td>\n      <td>1</td>\n      <td>(288903.0, 4120258.0]_duration_duration</td>\n      <td>(461.0, 625.0]_n_beats_n_beats</td>\n      <td>(117.0, 159.0]_n_bars_n_bars</td>\n      <td>(-0.001, 0.441]_danceability</td>\n      <td>(-0.001, 0.418]_energy</td>\n      <td>(-49.532, -11.899]_loudness</td>\n      <td>(0.0601, 0.105]_speechiness</td>\n      <td>(0.0686, 0.3]_acousticness</td>\n      <td>(0.826, 1.0]_instrumentalness</td>\n      <td>(0.321, 0.994]_liveness</td>\n      <td>(-0.001, 0.155]_valence</td>\n      <td>(-0.001, 94.81]_tempo</td>\n    </tr>\n    <tr>\n      <th>2</th>\n      <td>not_explicit</td>\n      <td>3</td>\n      <td>D</td>\n      <td>major</td>\n      <td>4.0_time_signature_time_signature</td>\n      <td>2</td>\n      <td>(288903.0, 4120258.0]_duration_duration</td>\n      <td>(625.0, 7348.0]_n_beats_n_beats</td>\n      <td>(159.0, 2170.0]_n_bars_n_bars</td>\n      <td>(-0.001, 0.441]_danceability</td>\n      <td>(0.788, 0.912]_energy</td>\n      <td>(-8.37, -6.404]_loudness</td>\n      <td>(0.0351, 0.0446]_speechiness</td>\n      <td>(-0.001, 0.00394]_acousticness</td>\n      <td>(0.089, 0.826]_instrumentalness</td>\n      <td>(0.168, 0.321]_liveness</td>\n      <td>(0.328, 0.511]_valence</td>\n      <td>(94.81, 117.048]_tempo</td>\n    </tr>\n    <tr>\n      <th>3</th>\n      <td>not_explicit</td>\n      <td>23</td>\n      <td>F</td>\n      <td>major</td>\n      <td>4.0_time_signature_time_signature</td>\n      <td>3</td>\n      <td>(227826.0, 288903.0]_duration_duration</td>\n      <td>(461.0, 625.0]_n_beats_n_beats</td>\n      <td>(117.0, 159.0]_n_bars_n_bars</td>\n      <td>(0.441, 0.58]_danceability</td>\n      <td>(0.418, 0.625]_energy</td>\n      <td>(-6.404, -4.646]_loudness</td>\n      <td>(0.0601, 0.105]_speechiness</td>\n      <td>(0.00394, 0.0686]_acousticness</td>\n      <td>(0.00011, 0.089]_instrumentalness</td>\n      <td>(0.113, 0.168]_liveness</td>\n      <td>(0.328, 0.511]_valence</td>\n      <td>(129.99, 149.82]_tempo</td>\n    </tr>\n    <tr>\n      <th>4</th>\n      <td>not_explicit</td>\n      <td>25</td>\n      <td>G</td>\n      <td>major</td>\n      <td>4.0_time_signature_time_signature</td>\n      <td>4</td>\n      <td>(288903.0, 4120258.0]_duration_duration</td>\n      <td>(625.0, 7348.0]_n_beats_n_beats</td>\n      <td>(159.0, 2170.0]_n_bars_n_bars</td>\n      <td>(0.58, 0.695]_danceability</td>\n      <td>(0.625, 0.788]_energy</td>\n      <td>(-11.899, -8.37]_loudness</td>\n      <td>(0.0446, 0.0601]_speechiness</td>\n      <td>(-0.001, 0.00394]_acousticness</td>\n      <td>(0.089, 0.826]_instrumentalness</td>\n      <td>(0.168, 0.321]_liveness</td>\n      <td>(0.511, 0.715]_valence</td>\n      <td>(129.99, 149.82]_tempo</td>\n    </tr>\n    <tr>\n      <th>...</th>\n      <td>...</td>\n      <td>...</td>\n      <td>...</td>\n      <td>...</td>\n      <td>...</td>\n      <td>...</td>\n      <td>...</td>\n      <td>...</td>\n      <td>...</td>\n      <td>...</td>\n      <td>...</td>\n      <td>...</td>\n      <td>...</td>\n      <td>...</td>\n      <td>...</td>\n      <td>...</td>\n      <td>...</td>\n      <td>...</td>\n    </tr>\n    <tr>\n      <th>14995</th>\n      <td>not_explicit</td>\n      <td>0</td>\n      <td>C#</td>\n      <td>minor</td>\n      <td>4.0_time_signature_time_signature</td>\n      <td>15</td>\n      <td>(288903.0, 4120258.0]_duration_duration</td>\n      <td>(625.0, 7348.0]_n_beats_n_beats</td>\n      <td>(159.0, 2170.0]_n_bars_n_bars</td>\n      <td>(0.441, 0.58]_danceability</td>\n      <td>(0.625, 0.788]_energy</td>\n      <td>(-49.532, -11.899]_loudness</td>\n      <td>(0.0446, 0.0601]_speechiness</td>\n      <td>(0.00394, 0.0686]_acousticness</td>\n      <td>(0.089, 0.826]_instrumentalness</td>\n      <td>(0.113, 0.168]_liveness</td>\n      <td>(-0.001, 0.155]_valence</td>\n      <td>(117.048, 129.99]_tempo</td>\n    </tr>\n    <tr>\n      <th>14996</th>\n      <td>not_explicit</td>\n      <td>44</td>\n      <td>C#</td>\n      <td>major</td>\n      <td>3.0_time_signature_time_signature</td>\n      <td>8</td>\n      <td>(180000.0, 227826.0]_duration_duration</td>\n      <td>(-0.001, 327.0]_n_beats_n_beats</td>\n      <td>(83.0, 117.0]_n_bars_n_bars</td>\n      <td>(-0.001, 0.441]_danceability</td>\n      <td>(0.788, 0.912]_energy</td>\n      <td>(-49.532, -11.899]_loudness</td>\n      <td>(0.0446, 0.0601]_speechiness</td>\n      <td>(0.3, 0.664]_acousticness</td>\n      <td>(0.826, 1.0]_instrumentalness</td>\n      <td>(0.113, 0.168]_liveness</td>\n      <td>(-0.001, 0.155]_valence</td>\n      <td>(-0.001, 94.81]_tempo</td>\n    </tr>\n    <tr>\n      <th>14997</th>\n      <td>not_explicit</td>\n      <td>43</td>\n      <td>C#</td>\n      <td>major</td>\n      <td>4.0_time_signature_time_signature</td>\n      <td>9</td>\n      <td>(288903.0, 4120258.0]_duration_duration</td>\n      <td>(625.0, 7348.0]_n_beats_n_beats</td>\n      <td>(159.0, 2170.0]_n_bars_n_bars</td>\n      <td>(0.695, 0.98]_danceability</td>\n      <td>(0.418, 0.625]_energy</td>\n      <td>(-11.899, -8.37]_loudness</td>\n      <td>(0.0446, 0.0601]_speechiness</td>\n      <td>(-0.001, 0.00394]_acousticness</td>\n      <td>(0.826, 1.0]_instrumentalness</td>\n      <td>(-0.001, 0.0913]_liveness</td>\n      <td>(-0.001, 0.155]_valence</td>\n      <td>(117.048, 129.99]_tempo</td>\n    </tr>\n    <tr>\n      <th>14998</th>\n      <td>not_explicit</td>\n      <td>37</td>\n      <td>F</td>\n      <td>major</td>\n      <td>4.0_time_signature_time_signature</td>\n      <td>19</td>\n      <td>(180000.0, 227826.0]_duration_duration</td>\n      <td>(461.0, 625.0]_n_beats_n_beats</td>\n      <td>(117.0, 159.0]_n_bars_n_bars</td>\n      <td>(0.441, 0.58]_danceability</td>\n      <td>(0.912, 1.0]_energy</td>\n      <td>(-4.646, 3.156]_loudness</td>\n      <td>(0.0446, 0.0601]_speechiness</td>\n      <td>(-0.001, 0.00394]_acousticness</td>\n      <td>(-0.001, 0.00011]_instrumentalness</td>\n      <td>(0.321, 0.994]_liveness</td>\n      <td>(0.155, 0.328]_valence</td>\n      <td>(149.82, 220.525]_tempo</td>\n    </tr>\n    <tr>\n      <th>14999</th>\n      <td>not_explicit</td>\n      <td>36</td>\n      <td>F#</td>\n      <td>major</td>\n      <td>4.0_time_signature_time_signature</td>\n      <td>14</td>\n      <td>(180000.0, 227826.0]_duration_duration</td>\n      <td>(-0.001, 327.0]_n_beats_n_beats</td>\n      <td>(-0.001, 83.0]_n_bars_n_bars</td>\n      <td>(0.58, 0.695]_danceability</td>\n      <td>(0.418, 0.625]_energy</td>\n      <td>(-8.37, -6.404]_loudness</td>\n      <td>(0.0351, 0.0446]_speechiness</td>\n      <td>(0.3, 0.664]_acousticness</td>\n      <td>(-0.001, 0.00011]_instrumentalness</td>\n      <td>(-0.001, 0.0913]_liveness</td>\n      <td>(0.715, 0.995]_valence</td>\n      <td>(-0.001, 94.81]_tempo</td>\n    </tr>\n  </tbody>\n</table>\n<p>15000 rows × 18 columns</p>\n</div>"
     },
     "execution_count": 30,
     "metadata": {},
     "output_type": "execute_result"
    }
   ],
   "source": [
    "df_train"
   ],
   "metadata": {
    "collapsed": false,
    "ExecuteTime": {
     "end_time": "2023-12-28T23:33:25.532941Z",
     "start_time": "2023-12-28T23:33:25.420779Z"
    }
   },
   "id": "94deea9a5d4c3a80"
  },
  {
   "cell_type": "markdown",
   "source": [
    "# Feature pattern mining preprocessing (heavy)"
   ],
   "metadata": {
    "collapsed": false
   },
   "id": "a30fa00756f44a00"
  },
  {
   "cell_type": "code",
   "execution_count": 27,
   "outputs": [
    {
     "ename": "KeyError",
     "evalue": "'danceability'",
     "output_type": "error",
     "traceback": [
      "\u001B[0;31m---------------------------------------------------------------------------\u001B[0m",
      "\u001B[0;31mKeyError\u001B[0m                                  Traceback (most recent call last)",
      "File \u001B[0;32m~/anaconda3/envs/DM1/lib/python3.11/site-packages/pandas/core/indexes/base.py:3802\u001B[0m, in \u001B[0;36mIndex.get_loc\u001B[0;34m(self, key, method, tolerance)\u001B[0m\n\u001B[1;32m   3801\u001B[0m \u001B[38;5;28;01mtry\u001B[39;00m:\n\u001B[0;32m-> 3802\u001B[0m     \u001B[38;5;28;01mreturn\u001B[39;00m \u001B[38;5;28mself\u001B[39m\u001B[38;5;241m.\u001B[39m_engine\u001B[38;5;241m.\u001B[39mget_loc(casted_key)\n\u001B[1;32m   3803\u001B[0m \u001B[38;5;28;01mexcept\u001B[39;00m \u001B[38;5;167;01mKeyError\u001B[39;00m \u001B[38;5;28;01mas\u001B[39;00m err:\n",
      "File \u001B[0;32m~/anaconda3/envs/DM1/lib/python3.11/site-packages/pandas/_libs/index.pyx:138\u001B[0m, in \u001B[0;36mpandas._libs.index.IndexEngine.get_loc\u001B[0;34m()\u001B[0m\n",
      "File \u001B[0;32m~/anaconda3/envs/DM1/lib/python3.11/site-packages/pandas/_libs/index.pyx:165\u001B[0m, in \u001B[0;36mpandas._libs.index.IndexEngine.get_loc\u001B[0;34m()\u001B[0m\n",
      "File \u001B[0;32mpandas/_libs/hashtable_class_helper.pxi:5745\u001B[0m, in \u001B[0;36mpandas._libs.hashtable.PyObjectHashTable.get_item\u001B[0;34m()\u001B[0m\n",
      "File \u001B[0;32mpandas/_libs/hashtable_class_helper.pxi:5753\u001B[0m, in \u001B[0;36mpandas._libs.hashtable.PyObjectHashTable.get_item\u001B[0;34m()\u001B[0m\n",
      "\u001B[0;31mKeyError\u001B[0m: 'danceability'",
      "\nThe above exception was the direct cause of the following exception:\n",
      "\u001B[0;31mKeyError\u001B[0m                                  Traceback (most recent call last)",
      "Cell \u001B[0;32mIn[27], line 4\u001B[0m\n\u001B[1;32m      1\u001B[0m \u001B[38;5;66;03m#df_train['durationBin'] = pd.qcut(df_train['duration_ms'], 4)\u001B[39;00m\n\u001B[1;32m      2\u001B[0m \u001B[38;5;66;03m#df_train['n_beatsBin'] = pd.qcut(df_train['n_beats'], 4)\u001B[39;00m\n\u001B[1;32m      3\u001B[0m \u001B[38;5;66;03m#df_train['n_barsBin'] = pd.qcut(df_train['n_bars'], 4)\u001B[39;00m\n\u001B[0;32m----> 4\u001B[0m df_train[\u001B[38;5;124m'\u001B[39m\u001B[38;5;124mdanceabilityBin\u001B[39m\u001B[38;5;124m'\u001B[39m] \u001B[38;5;241m=\u001B[39m pd\u001B[38;5;241m.\u001B[39mqcut(df_train[\u001B[38;5;124m'\u001B[39m\u001B[38;5;124mdanceability\u001B[39m\u001B[38;5;124m'\u001B[39m], \u001B[38;5;241m4\u001B[39m)\n\u001B[1;32m      5\u001B[0m df_train[\u001B[38;5;124m'\u001B[39m\u001B[38;5;124menergyBin\u001B[39m\u001B[38;5;124m'\u001B[39m] \u001B[38;5;241m=\u001B[39m pd\u001B[38;5;241m.\u001B[39mqcut(df_train[\u001B[38;5;124m'\u001B[39m\u001B[38;5;124menergy\u001B[39m\u001B[38;5;124m'\u001B[39m], \u001B[38;5;241m5\u001B[39m)\n\u001B[1;32m      6\u001B[0m df_train[\u001B[38;5;124m'\u001B[39m\u001B[38;5;124mloudnessBin\u001B[39m\u001B[38;5;124m'\u001B[39m] \u001B[38;5;241m=\u001B[39m pd\u001B[38;5;241m.\u001B[39mqcut(df_train[\u001B[38;5;124m'\u001B[39m\u001B[38;5;124mloudness\u001B[39m\u001B[38;5;124m'\u001B[39m], \u001B[38;5;241m5\u001B[39m)\n",
      "File \u001B[0;32m~/anaconda3/envs/DM1/lib/python3.11/site-packages/pandas/core/frame.py:3807\u001B[0m, in \u001B[0;36mDataFrame.__getitem__\u001B[0;34m(self, key)\u001B[0m\n\u001B[1;32m   3805\u001B[0m \u001B[38;5;28;01mif\u001B[39;00m \u001B[38;5;28mself\u001B[39m\u001B[38;5;241m.\u001B[39mcolumns\u001B[38;5;241m.\u001B[39mnlevels \u001B[38;5;241m>\u001B[39m \u001B[38;5;241m1\u001B[39m:\n\u001B[1;32m   3806\u001B[0m     \u001B[38;5;28;01mreturn\u001B[39;00m \u001B[38;5;28mself\u001B[39m\u001B[38;5;241m.\u001B[39m_getitem_multilevel(key)\n\u001B[0;32m-> 3807\u001B[0m indexer \u001B[38;5;241m=\u001B[39m \u001B[38;5;28mself\u001B[39m\u001B[38;5;241m.\u001B[39mcolumns\u001B[38;5;241m.\u001B[39mget_loc(key)\n\u001B[1;32m   3808\u001B[0m \u001B[38;5;28;01mif\u001B[39;00m is_integer(indexer):\n\u001B[1;32m   3809\u001B[0m     indexer \u001B[38;5;241m=\u001B[39m [indexer]\n",
      "File \u001B[0;32m~/anaconda3/envs/DM1/lib/python3.11/site-packages/pandas/core/indexes/base.py:3804\u001B[0m, in \u001B[0;36mIndex.get_loc\u001B[0;34m(self, key, method, tolerance)\u001B[0m\n\u001B[1;32m   3802\u001B[0m     \u001B[38;5;28;01mreturn\u001B[39;00m \u001B[38;5;28mself\u001B[39m\u001B[38;5;241m.\u001B[39m_engine\u001B[38;5;241m.\u001B[39mget_loc(casted_key)\n\u001B[1;32m   3803\u001B[0m \u001B[38;5;28;01mexcept\u001B[39;00m \u001B[38;5;167;01mKeyError\u001B[39;00m \u001B[38;5;28;01mas\u001B[39;00m err:\n\u001B[0;32m-> 3804\u001B[0m     \u001B[38;5;28;01mraise\u001B[39;00m \u001B[38;5;167;01mKeyError\u001B[39;00m(key) \u001B[38;5;28;01mfrom\u001B[39;00m \u001B[38;5;21;01merr\u001B[39;00m\n\u001B[1;32m   3805\u001B[0m \u001B[38;5;28;01mexcept\u001B[39;00m \u001B[38;5;167;01mTypeError\u001B[39;00m:\n\u001B[1;32m   3806\u001B[0m     \u001B[38;5;66;03m# If we have a listlike key, _check_indexing_error will raise\u001B[39;00m\n\u001B[1;32m   3807\u001B[0m     \u001B[38;5;66;03m#  InvalidIndexError. Otherwise we fall through and re-raise\u001B[39;00m\n\u001B[1;32m   3808\u001B[0m     \u001B[38;5;66;03m#  the TypeError.\u001B[39;00m\n\u001B[1;32m   3809\u001B[0m     \u001B[38;5;28mself\u001B[39m\u001B[38;5;241m.\u001B[39m_check_indexing_error(key)\n",
      "\u001B[0;31mKeyError\u001B[0m: 'danceability'"
     ]
    }
   ],
   "source": [
    "df_train['durationBin'] = pd.qcut(df_train['duration_ms'], 4)\n",
    "df_train['n_beatsBin'] = pd.qcut(df_train['n_beats'], 4)\n",
    "df_train['n_barsBin'] = pd.qcut(df_train['n_bars'], 4)\n",
    "df_train['danceabilityBin'] = pd.qcut(df_train['danceability'], 4)\n",
    "df_train['energyBin'] = pd.qcut(df_train['energy'], 5)\n",
    "df_train['loudnessBin'] = pd.qcut(df_train['loudness'], 5)\n",
    "df_train['speechinessBin'] = pd.qcut(df_train['speechiness'], 5)\n",
    "df_train['acousticnessBin'] = pd.qcut(df_train['acousticness'], 5)\n",
    "df_train['instrumentalnessBin'] = pd.qcut(df_train['instrumentalness'], 5, duplicates='drop')\n",
    "df_train['livenessBin'] = pd.qcut(df_train['liveness'], 5)\n",
    "df_train['valenceBin'] = pd.qcut(df_train['valence'], 5)\n",
    "df_train['tempoBin'] = pd.qcut(df_train['tempo'], 5)\n",
    "\n",
    "df_train.drop(columns=['danceability', 'energy', 'loudness', 'speechiness', 'acousticness', 'instrumentalness', 'liveness', 'valence', 'tempo'], axis=1, inplace=True)\n",
    "#df_train.drop(columns=['duration_ms', 'n_beats', 'n_bars'], axis=1, inplace=True)"
   ],
   "metadata": {
    "collapsed": false,
    "ExecuteTime": {
     "end_time": "2023-12-28T23:32:53.165898Z",
     "start_time": "2023-12-28T23:32:52.829171Z"
    }
   },
   "id": "de99be5619ac50d6"
  },
  {
   "cell_type": "code",
   "execution_count": 29,
   "outputs": [],
   "source": [
    "df_train['durationBin'] = df_train['durationBin'].astype(str) + '_duration'\n",
    "df_train['n_beatsBin'] = df_train['n_beatsBin'].astype(str) + '_n_beats'\n",
    "df_train['n_barsBin'] = df_train['n_barsBin'].astype(str) + '_n_bars'\n",
    "df_train['time_signature'] = df_train['time_signature'].astype(str) + '_time_signature'\n",
    "df_train['danceabilityBin'] = df_train['danceabilityBin'].astype(str) + '_danceability'\n",
    "df_train['energyBin'] = df_train['energyBin'].astype(str) + '_energy'\n",
    "df_train['loudnessBin'] = df_train['loudnessBin'].astype(str) + '_loudness'\n",
    "df_train['speechinessBin'] = df_train['speechinessBin'].astype(str) + '_speechiness'\n",
    "df_train['acousticnessBin'] = df_train['acousticnessBin'].astype(str) + '_acousticness'\n",
    "df_train['instrumentalnessBin'] = df_train['instrumentalnessBin'].astype(str) + '_instrumentalness'\n",
    "df_train['livenessBin'] = df_train['livenessBin'].astype(str) + '_liveness'\n",
    "df_train['valenceBin'] = df_train['valenceBin'].astype(str) + '_valence'\n",
    "df_train['tempoBin'] = df_train['tempoBin'].astype(str) + '_tempo'"
   ],
   "metadata": {
    "collapsed": false,
    "ExecuteTime": {
     "end_time": "2023-12-28T23:33:21.023565Z",
     "start_time": "2023-12-28T23:33:20.931809Z"
    }
   },
   "id": "5560a53c93e4f3c7"
  },
  {
   "cell_type": "code",
   "execution_count": 17,
   "outputs": [],
   "source": [
    "explicit_dict = {0: 'not_explicit', 1: 'explicit'}\n",
    "df_train['explicit'] = df_train['explicit'].map(explicit_dict)\n",
    "\n",
    "mode_dict = {0: 'minor', 1: 'major'}\n",
    "df_train['mode'] = df_train['mode'].map(mode_dict)\n",
    "\n",
    "key_dict = {0: 'C', 1: 'C#', 2: 'D', 3: 'D#', 4: 'E', 5: 'F', 6: 'F#', 7: 'G', 8: 'G#', 9: 'A', 10: 'A#', 11: 'B'}\n",
    "df_train['key'] = df_train['key'].map(key_dict)"
   ],
   "metadata": {
    "collapsed": false,
    "ExecuteTime": {
     "end_time": "2023-12-28T23:19:26.591662Z",
     "start_time": "2023-12-28T23:19:26.556799Z"
    }
   },
   "id": "5ea394e7524fc154"
  },
  {
   "cell_type": "markdown",
   "source": [
    "# Pattern Mining - Apriori"
   ],
   "metadata": {
    "collapsed": false
   },
   "id": "533268467d7de758"
  },
  {
   "cell_type": "code",
   "execution_count": 37,
   "outputs": [],
   "source": [
    "# Convert DataFrame rows to list of lists\n",
    "transactions = df_train.values.tolist()\n",
    "\n",
    "# Convert inner lists to string type\n",
    "transactions = [[str(item) for item in transaction] for transaction in transactions]"
   ],
   "metadata": {
    "collapsed": false,
    "ExecuteTime": {
     "end_time": "2023-12-28T23:42:28.855812Z",
     "start_time": "2023-12-28T23:42:26.812696Z"
    }
   },
   "id": "be5dc55e37e1151b"
  },
  {
   "cell_type": "markdown",
   "source": [
    "## Frequent itemsets - that means >= min_sup"
   ],
   "metadata": {
    "collapsed": false
   },
   "id": "77ecf321b644f67f"
  },
  {
   "cell_type": "code",
   "execution_count": 40,
   "outputs": [
    {
     "data": {
      "text/plain": "                                       frequent_itemsets    support\n0                (25, 4.0_time_signature_time_signature)   2.013333\n1                                     (25, not_explicit)   2.040000\n2                (24, 4.0_time_signature_time_signature)   2.160000\n3      (24, 4.0_time_signature_time_signature, not_ex...   2.046667\n4                                     (24, not_explicit)   2.253333\n...                                                  ...        ...\n26014  ((-0.001, 0.00011]_instrumentalness, not_expli...  36.113333\n26015         (major, 4.0_time_signature_time_signature)  58.373333\n26016  (major, 4.0_time_signature_time_signature, not...  55.160000\n26017                              (major, not_explicit)  62.746667\n26018  (4.0_time_signature_time_signature, not_explicit)  82.640000\n\n[26019 rows x 2 columns]",
      "text/html": "<div>\n<style scoped>\n    .dataframe tbody tr th:only-of-type {\n        vertical-align: middle;\n    }\n\n    .dataframe tbody tr th {\n        vertical-align: top;\n    }\n\n    .dataframe thead th {\n        text-align: right;\n    }\n</style>\n<table border=\"1\" class=\"dataframe\">\n  <thead>\n    <tr style=\"text-align: right;\">\n      <th></th>\n      <th>frequent_itemsets</th>\n      <th>support</th>\n    </tr>\n  </thead>\n  <tbody>\n    <tr>\n      <th>0</th>\n      <td>(25, 4.0_time_signature_time_signature)</td>\n      <td>2.013333</td>\n    </tr>\n    <tr>\n      <th>1</th>\n      <td>(25, not_explicit)</td>\n      <td>2.040000</td>\n    </tr>\n    <tr>\n      <th>2</th>\n      <td>(24, 4.0_time_signature_time_signature)</td>\n      <td>2.160000</td>\n    </tr>\n    <tr>\n      <th>3</th>\n      <td>(24, 4.0_time_signature_time_signature, not_ex...</td>\n      <td>2.046667</td>\n    </tr>\n    <tr>\n      <th>4</th>\n      <td>(24, not_explicit)</td>\n      <td>2.253333</td>\n    </tr>\n    <tr>\n      <th>...</th>\n      <td>...</td>\n      <td>...</td>\n    </tr>\n    <tr>\n      <th>26014</th>\n      <td>((-0.001, 0.00011]_instrumentalness, not_expli...</td>\n      <td>36.113333</td>\n    </tr>\n    <tr>\n      <th>26015</th>\n      <td>(major, 4.0_time_signature_time_signature)</td>\n      <td>58.373333</td>\n    </tr>\n    <tr>\n      <th>26016</th>\n      <td>(major, 4.0_time_signature_time_signature, not...</td>\n      <td>55.160000</td>\n    </tr>\n    <tr>\n      <th>26017</th>\n      <td>(major, not_explicit)</td>\n      <td>62.746667</td>\n    </tr>\n    <tr>\n      <th>26018</th>\n      <td>(4.0_time_signature_time_signature, not_explicit)</td>\n      <td>82.640000</td>\n    </tr>\n  </tbody>\n</table>\n<p>26019 rows × 2 columns</p>\n</div>"
     },
     "execution_count": 40,
     "metadata": {},
     "output_type": "execute_result"
    }
   ],
   "source": [
    "supp = 2\n",
    "zmin = 2\n",
    "\n",
    "itemsets = apriori(transactions, target=\"s\", supp=supp, zmin=zmin, report='S')\n",
    "pd.DataFrame(itemsets, columns=['frequent_itemsets', 'support'])"
   ],
   "metadata": {
    "collapsed": false,
    "ExecuteTime": {
     "end_time": "2023-12-28T23:46:53.727716Z",
     "start_time": "2023-12-28T23:46:53.617991Z"
    }
   },
   "id": "d985c4461373e3fc"
  },
  {
   "cell_type": "markdown",
   "source": [
    "## Closed Itemsets "
   ],
   "metadata": {
    "collapsed": false
   },
   "id": "eab46d11f53a6d93"
  },
  {
   "cell_type": "markdown",
   "source": [
    "An item set is closed if non of its immediate supersets has the same support as the item set."
   ],
   "metadata": {
    "collapsed": false
   },
   "id": "fe3b46c28b82c212"
  },
  {
   "cell_type": "code",
   "execution_count": 41,
   "outputs": [
    {
     "data": {
      "text/plain": "                                      closed_itemsets    support\n0   ((117.0, 159.0]_n_bars_n_bars, (461.0, 625.0]_...  22.146667\n1   ((117.0, 159.0]_n_bars_n_bars, (461.0, 625.0]_...  21.580000\n2   ((117.0, 159.0]_n_bars_n_bars, (461.0, 625.0]_...  20.253333\n3   ((117.0, 159.0]_n_bars_n_bars, (461.0, 625.0]_...  20.793333\n4   ((117.0, 159.0]_n_bars_n_bars, 4.0_time_signat...  22.800000\n..                                                ...        ...\n65  ((-0.001, 0.00011]_instrumentalness, not_expli...  36.113333\n66         (major, 4.0_time_signature_time_signature)  58.373333\n67  (major, 4.0_time_signature_time_signature, not...  55.160000\n68                              (major, not_explicit)  62.746667\n69  (4.0_time_signature_time_signature, not_explicit)  82.640000\n\n[70 rows x 2 columns]",
      "text/html": "<div>\n<style scoped>\n    .dataframe tbody tr th:only-of-type {\n        vertical-align: middle;\n    }\n\n    .dataframe tbody tr th {\n        vertical-align: top;\n    }\n\n    .dataframe thead th {\n        text-align: right;\n    }\n</style>\n<table border=\"1\" class=\"dataframe\">\n  <thead>\n    <tr style=\"text-align: right;\">\n      <th></th>\n      <th>closed_itemsets</th>\n      <th>support</th>\n    </tr>\n  </thead>\n  <tbody>\n    <tr>\n      <th>0</th>\n      <td>((117.0, 159.0]_n_bars_n_bars, (461.0, 625.0]_...</td>\n      <td>22.146667</td>\n    </tr>\n    <tr>\n      <th>1</th>\n      <td>((117.0, 159.0]_n_bars_n_bars, (461.0, 625.0]_...</td>\n      <td>21.580000</td>\n    </tr>\n    <tr>\n      <th>2</th>\n      <td>((117.0, 159.0]_n_bars_n_bars, (461.0, 625.0]_...</td>\n      <td>20.253333</td>\n    </tr>\n    <tr>\n      <th>3</th>\n      <td>((117.0, 159.0]_n_bars_n_bars, (461.0, 625.0]_...</td>\n      <td>20.793333</td>\n    </tr>\n    <tr>\n      <th>4</th>\n      <td>((117.0, 159.0]_n_bars_n_bars, 4.0_time_signat...</td>\n      <td>22.800000</td>\n    </tr>\n    <tr>\n      <th>...</th>\n      <td>...</td>\n      <td>...</td>\n    </tr>\n    <tr>\n      <th>65</th>\n      <td>((-0.001, 0.00011]_instrumentalness, not_expli...</td>\n      <td>36.113333</td>\n    </tr>\n    <tr>\n      <th>66</th>\n      <td>(major, 4.0_time_signature_time_signature)</td>\n      <td>58.373333</td>\n    </tr>\n    <tr>\n      <th>67</th>\n      <td>(major, 4.0_time_signature_time_signature, not...</td>\n      <td>55.160000</td>\n    </tr>\n    <tr>\n      <th>68</th>\n      <td>(major, not_explicit)</td>\n      <td>62.746667</td>\n    </tr>\n    <tr>\n      <th>69</th>\n      <td>(4.0_time_signature_time_signature, not_explicit)</td>\n      <td>82.640000</td>\n    </tr>\n  </tbody>\n</table>\n<p>70 rows × 2 columns</p>\n</div>"
     },
     "execution_count": 41,
     "metadata": {},
     "output_type": "execute_result"
    }
   ],
   "source": [
    "supp = 20\n",
    "zmin = 2\n",
    "\n",
    "itemsets = apriori(transactions, target=\"c\", supp=supp, zmin=zmin, report='S')\n",
    "pd.DataFrame(itemsets, columns=['closed_itemsets', 'support'])"
   ],
   "metadata": {
    "collapsed": false,
    "ExecuteTime": {
     "end_time": "2023-12-28T23:46:57.868286Z",
     "start_time": "2023-12-28T23:46:57.636050Z"
    }
   },
   "id": "6660c8a14a147901"
  },
  {
   "cell_type": "markdown",
   "source": [
    "## Maximal Itemsets"
   ],
   "metadata": {
    "collapsed": false
   },
   "id": "a016df4f2a9fe955"
  },
  {
   "cell_type": "code",
   "execution_count": 47,
   "outputs": [
    {
     "data": {
      "text/plain": "                                    maximal_itemsets    support\n0  (minor, 4.0_time_signature_time_signature, not...  27.480000\n1  ((-0.001, 0.00011]_instrumentalness, major, 4....  26.653333\n2  ((-0.001, 0.00011]_instrumentalness, major, no...  27.153333\n3  ((-0.001, 0.00011]_instrumentalness, 4.0_time_...  33.180000\n4  (major, 4.0_time_signature_time_signature, not...  55.160000",
      "text/html": "<div>\n<style scoped>\n    .dataframe tbody tr th:only-of-type {\n        vertical-align: middle;\n    }\n\n    .dataframe tbody tr th {\n        vertical-align: top;\n    }\n\n    .dataframe thead th {\n        text-align: right;\n    }\n</style>\n<table border=\"1\" class=\"dataframe\">\n  <thead>\n    <tr style=\"text-align: right;\">\n      <th></th>\n      <th>maximal_itemsets</th>\n      <th>support</th>\n    </tr>\n  </thead>\n  <tbody>\n    <tr>\n      <th>0</th>\n      <td>(minor, 4.0_time_signature_time_signature, not...</td>\n      <td>27.480000</td>\n    </tr>\n    <tr>\n      <th>1</th>\n      <td>((-0.001, 0.00011]_instrumentalness, major, 4....</td>\n      <td>26.653333</td>\n    </tr>\n    <tr>\n      <th>2</th>\n      <td>((-0.001, 0.00011]_instrumentalness, major, no...</td>\n      <td>27.153333</td>\n    </tr>\n    <tr>\n      <th>3</th>\n      <td>((-0.001, 0.00011]_instrumentalness, 4.0_time_...</td>\n      <td>33.180000</td>\n    </tr>\n    <tr>\n      <th>4</th>\n      <td>(major, 4.0_time_signature_time_signature, not...</td>\n      <td>55.160000</td>\n    </tr>\n  </tbody>\n</table>\n</div>"
     },
     "execution_count": 47,
     "metadata": {},
     "output_type": "execute_result"
    }
   ],
   "source": [
    "supp = 25\n",
    "zmin = 2\n",
    "\n",
    "itemsets = apriori(transactions, target=\"m\", supp=supp, zmin=zmin, report='S')\n",
    "pd.DataFrame(itemsets, columns=['maximal_itemsets', 'support'])"
   ],
   "metadata": {
    "collapsed": false,
    "ExecuteTime": {
     "end_time": "2023-12-28T23:48:21.423498Z",
     "start_time": "2023-12-28T23:48:21.400276Z"
    }
   },
   "id": "2625f8e63b9ee58d"
  },
  {
   "cell_type": "code",
   "execution_count": null,
   "outputs": [],
   "source": [],
   "metadata": {
    "collapsed": false
   },
   "id": "eb5c6eeec7dc490b"
  }
 ],
 "metadata": {
  "kernelspec": {
   "display_name": "Python 3",
   "language": "python",
   "name": "python3"
  },
  "language_info": {
   "codemirror_mode": {
    "name": "ipython",
    "version": 2
   },
   "file_extension": ".py",
   "mimetype": "text/x-python",
   "name": "python",
   "nbconvert_exporter": "python",
   "pygments_lexer": "ipython2",
   "version": "2.7.6"
  }
 },
 "nbformat": 4,
 "nbformat_minor": 5
}
