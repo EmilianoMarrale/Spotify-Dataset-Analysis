{
 "cells": [
  {
   "cell_type": "code",
   "execution_count": 1,
   "id": "initial_id",
   "metadata": {
    "collapsed": true,
    "ExecuteTime": {
     "end_time": "2024-01-15T22:11:54.640789Z",
     "start_time": "2024-01-15T22:11:51.528379Z"
    }
   },
   "outputs": [],
   "source": [
    "from fim import apriori\n",
    "import pandas as pd\n",
    "import numpy as np\n",
    "import matplotlib.pyplot as plt\n",
    "import seaborn as sns\n",
    "from fim import fpgrowth\n",
    "from sklearn.metrics import precision_score, recall_score, confusion_matrix\n"
   ]
  },
  {
   "cell_type": "code",
   "execution_count": 311,
   "outputs": [],
   "source": [
    "df_train = pd.read_csv('train.csv')\n",
    "df_test = pd.read_csv('test.csv')"
   ],
   "metadata": {
    "collapsed": false,
    "ExecuteTime": {
     "end_time": "2023-12-31T14:01:40.720210Z",
     "start_time": "2023-12-31T14:01:39.990201Z"
    }
   },
   "id": "c95f8b71d69ff0ef"
  },
  {
   "cell_type": "code",
   "execution_count": 309,
   "outputs": [],
   "source": [
    "df_test = pd.read_csv('test.csv')\n",
    "#not used"
   ],
   "metadata": {
    "collapsed": false,
    "ExecuteTime": {
     "end_time": "2023-12-31T13:59:50.191320Z",
     "start_time": "2023-12-31T13:59:50.012706Z"
    }
   },
   "id": "5570e8acc27b986d"
  },
  {
   "cell_type": "code",
   "execution_count": 100,
   "outputs": [
    {
     "data": {
      "text/plain": "                                                    name  duration_ms  \\\n0                                              Long Road       241760   \n1                   Daniâl My Son, Where Did You Vanish?       444000   \n2                                     Ondskapens Galakse       333506   \n3                                        Can't Look Away       269800   \n4                                          Thunderground       307651   \n...                                                  ...          ...   \n14995                                              Outpt       432026   \n14996  Natural Environment Sounds: To Improve Sleep a...       182746   \n14997                               Psychological Attack       400091   \n14998             Don't Hate The 808 (feat. Lafa Taylor)       197250   \n14999                                    Parchaiyon Mein       198409   \n\n       explicit  popularity                         artists  \\\n0         False          46                   Funki Porcini   \n1         False           0                   Siavash Amini   \n2         False           3                       Kvelertak   \n3         False          23               The Wood Brothers   \n4         False          25          The Darkraver;DJ Vince   \n...         ...         ...                             ...   \n14995     False           0                        Autechre   \n14996     False          44  Natural White Noise Relaxation   \n14997     False          43                         Droplex   \n14998     False          37          Bassnectar;Lafa Taylor   \n14999     False          36                   Ashwin Adwani   \n\n                                              album_name  danceability  \\\n0                                          Hed Phone Sex         0.690   \n1                                   A Trail of Laughters         0.069   \n2                                             Nattesferd         0.363   \n3                                      One Drop of Truth         0.523   \n4                                 Happy Hardcore Top 100         0.643   \n...                                                  ...           ...   \n14995                                                EP7         0.554   \n14996  Baby Sleep White Noise: Ultimate Album to Help...         0.103   \n14997                               Psychological Attack         0.799   \n14998                                    Noise vs Beauty         0.511   \n14999                                    Parchaiyon Mein         0.678   \n\n       energy  key  loudness  ...  liveness  valence    tempo  \\\n0       0.513    5   -12.529  ...    0.2810   0.6350  142.221   \n1       0.196    1   -24.801  ...    0.3600   0.0336   75.596   \n2       0.854    2    -7.445  ...    0.2620   0.4890  116.628   \n3       0.585    5    -5.607  ...    0.1170   0.3850  140.880   \n4       0.687    7   -11.340  ...    0.2990   0.6370  143.956   \n...       ...  ...       ...  ...       ...      ...      ...   \n14995   0.657    1   -14.232  ...    0.1320   0.0335  117.319   \n14996   0.860    1   -19.627  ...    0.1230   0.0016   92.323   \n14997   0.535    1    -9.103  ...    0.0713   0.0708  126.000   \n14998   0.970    5    -2.299  ...    0.4020   0.2700  160.044   \n14999   0.518    6    -7.790  ...    0.0880   0.7840   88.003   \n\n       features_duration_ms  time_signature  n_beats  n_bars  \\\n0                    241760             4.0    567.0   141.0   \n1                    444000             4.0    617.0   155.0   \n2                    333507             4.0    652.0   162.0   \n3                    269800             4.0    619.0   155.0   \n4                    307652             4.0    733.0   183.0   \n...                     ...             ...      ...     ...   \n14995                432027             NaN    837.0   212.0   \n14996                182747             3.0    277.0    92.0   \n14997                400091             4.0    837.0   209.0   \n14998                197250             4.0    513.0   130.0   \n14999                198409             4.0    286.0    72.0   \n\n       popularity_confidence  processing        genre  \n0                        NaN    1.279305      j-dance  \n1                        NaN    2.367412      iranian  \n2                        NaN    3.700483  black-metal  \n3                      0.469    1.279305    bluegrass  \n4                        NaN    4.067086        happy  \n...                      ...         ...          ...  \n14995                    NaN    2.367412          idm  \n14996                    NaN    2.367412        sleep  \n14997                    NaN    2.367412       techno  \n14998                    NaN    1.279305    breakbeat  \n14999                    NaN    1.170953       indian  \n\n[15000 rows x 24 columns]",
      "text/html": "<div>\n<style scoped>\n    .dataframe tbody tr th:only-of-type {\n        vertical-align: middle;\n    }\n\n    .dataframe tbody tr th {\n        vertical-align: top;\n    }\n\n    .dataframe thead th {\n        text-align: right;\n    }\n</style>\n<table border=\"1\" class=\"dataframe\">\n  <thead>\n    <tr style=\"text-align: right;\">\n      <th></th>\n      <th>name</th>\n      <th>duration_ms</th>\n      <th>explicit</th>\n      <th>popularity</th>\n      <th>artists</th>\n      <th>album_name</th>\n      <th>danceability</th>\n      <th>energy</th>\n      <th>key</th>\n      <th>loudness</th>\n      <th>...</th>\n      <th>liveness</th>\n      <th>valence</th>\n      <th>tempo</th>\n      <th>features_duration_ms</th>\n      <th>time_signature</th>\n      <th>n_beats</th>\n      <th>n_bars</th>\n      <th>popularity_confidence</th>\n      <th>processing</th>\n      <th>genre</th>\n    </tr>\n  </thead>\n  <tbody>\n    <tr>\n      <th>0</th>\n      <td>Long Road</td>\n      <td>241760</td>\n      <td>False</td>\n      <td>46</td>\n      <td>Funki Porcini</td>\n      <td>Hed Phone Sex</td>\n      <td>0.690</td>\n      <td>0.513</td>\n      <td>5</td>\n      <td>-12.529</td>\n      <td>...</td>\n      <td>0.2810</td>\n      <td>0.6350</td>\n      <td>142.221</td>\n      <td>241760</td>\n      <td>4.0</td>\n      <td>567.0</td>\n      <td>141.0</td>\n      <td>NaN</td>\n      <td>1.279305</td>\n      <td>j-dance</td>\n    </tr>\n    <tr>\n      <th>1</th>\n      <td>Daniâl My Son, Where Did You Vanish?</td>\n      <td>444000</td>\n      <td>False</td>\n      <td>0</td>\n      <td>Siavash Amini</td>\n      <td>A Trail of Laughters</td>\n      <td>0.069</td>\n      <td>0.196</td>\n      <td>1</td>\n      <td>-24.801</td>\n      <td>...</td>\n      <td>0.3600</td>\n      <td>0.0336</td>\n      <td>75.596</td>\n      <td>444000</td>\n      <td>4.0</td>\n      <td>617.0</td>\n      <td>155.0</td>\n      <td>NaN</td>\n      <td>2.367412</td>\n      <td>iranian</td>\n    </tr>\n    <tr>\n      <th>2</th>\n      <td>Ondskapens Galakse</td>\n      <td>333506</td>\n      <td>False</td>\n      <td>3</td>\n      <td>Kvelertak</td>\n      <td>Nattesferd</td>\n      <td>0.363</td>\n      <td>0.854</td>\n      <td>2</td>\n      <td>-7.445</td>\n      <td>...</td>\n      <td>0.2620</td>\n      <td>0.4890</td>\n      <td>116.628</td>\n      <td>333507</td>\n      <td>4.0</td>\n      <td>652.0</td>\n      <td>162.0</td>\n      <td>NaN</td>\n      <td>3.700483</td>\n      <td>black-metal</td>\n    </tr>\n    <tr>\n      <th>3</th>\n      <td>Can't Look Away</td>\n      <td>269800</td>\n      <td>False</td>\n      <td>23</td>\n      <td>The Wood Brothers</td>\n      <td>One Drop of Truth</td>\n      <td>0.523</td>\n      <td>0.585</td>\n      <td>5</td>\n      <td>-5.607</td>\n      <td>...</td>\n      <td>0.1170</td>\n      <td>0.3850</td>\n      <td>140.880</td>\n      <td>269800</td>\n      <td>4.0</td>\n      <td>619.0</td>\n      <td>155.0</td>\n      <td>0.469</td>\n      <td>1.279305</td>\n      <td>bluegrass</td>\n    </tr>\n    <tr>\n      <th>4</th>\n      <td>Thunderground</td>\n      <td>307651</td>\n      <td>False</td>\n      <td>25</td>\n      <td>The Darkraver;DJ Vince</td>\n      <td>Happy Hardcore Top 100</td>\n      <td>0.643</td>\n      <td>0.687</td>\n      <td>7</td>\n      <td>-11.340</td>\n      <td>...</td>\n      <td>0.2990</td>\n      <td>0.6370</td>\n      <td>143.956</td>\n      <td>307652</td>\n      <td>4.0</td>\n      <td>733.0</td>\n      <td>183.0</td>\n      <td>NaN</td>\n      <td>4.067086</td>\n      <td>happy</td>\n    </tr>\n    <tr>\n      <th>...</th>\n      <td>...</td>\n      <td>...</td>\n      <td>...</td>\n      <td>...</td>\n      <td>...</td>\n      <td>...</td>\n      <td>...</td>\n      <td>...</td>\n      <td>...</td>\n      <td>...</td>\n      <td>...</td>\n      <td>...</td>\n      <td>...</td>\n      <td>...</td>\n      <td>...</td>\n      <td>...</td>\n      <td>...</td>\n      <td>...</td>\n      <td>...</td>\n      <td>...</td>\n      <td>...</td>\n    </tr>\n    <tr>\n      <th>14995</th>\n      <td>Outpt</td>\n      <td>432026</td>\n      <td>False</td>\n      <td>0</td>\n      <td>Autechre</td>\n      <td>EP7</td>\n      <td>0.554</td>\n      <td>0.657</td>\n      <td>1</td>\n      <td>-14.232</td>\n      <td>...</td>\n      <td>0.1320</td>\n      <td>0.0335</td>\n      <td>117.319</td>\n      <td>432027</td>\n      <td>NaN</td>\n      <td>837.0</td>\n      <td>212.0</td>\n      <td>NaN</td>\n      <td>2.367412</td>\n      <td>idm</td>\n    </tr>\n    <tr>\n      <th>14996</th>\n      <td>Natural Environment Sounds: To Improve Sleep a...</td>\n      <td>182746</td>\n      <td>False</td>\n      <td>44</td>\n      <td>Natural White Noise Relaxation</td>\n      <td>Baby Sleep White Noise: Ultimate Album to Help...</td>\n      <td>0.103</td>\n      <td>0.860</td>\n      <td>1</td>\n      <td>-19.627</td>\n      <td>...</td>\n      <td>0.1230</td>\n      <td>0.0016</td>\n      <td>92.323</td>\n      <td>182747</td>\n      <td>3.0</td>\n      <td>277.0</td>\n      <td>92.0</td>\n      <td>NaN</td>\n      <td>2.367412</td>\n      <td>sleep</td>\n    </tr>\n    <tr>\n      <th>14997</th>\n      <td>Psychological Attack</td>\n      <td>400091</td>\n      <td>False</td>\n      <td>43</td>\n      <td>Droplex</td>\n      <td>Psychological Attack</td>\n      <td>0.799</td>\n      <td>0.535</td>\n      <td>1</td>\n      <td>-9.103</td>\n      <td>...</td>\n      <td>0.0713</td>\n      <td>0.0708</td>\n      <td>126.000</td>\n      <td>400091</td>\n      <td>4.0</td>\n      <td>837.0</td>\n      <td>209.0</td>\n      <td>NaN</td>\n      <td>2.367412</td>\n      <td>techno</td>\n    </tr>\n    <tr>\n      <th>14998</th>\n      <td>Don't Hate The 808 (feat. Lafa Taylor)</td>\n      <td>197250</td>\n      <td>False</td>\n      <td>37</td>\n      <td>Bassnectar;Lafa Taylor</td>\n      <td>Noise vs Beauty</td>\n      <td>0.511</td>\n      <td>0.970</td>\n      <td>5</td>\n      <td>-2.299</td>\n      <td>...</td>\n      <td>0.4020</td>\n      <td>0.2700</td>\n      <td>160.044</td>\n      <td>197250</td>\n      <td>4.0</td>\n      <td>513.0</td>\n      <td>130.0</td>\n      <td>NaN</td>\n      <td>1.279305</td>\n      <td>breakbeat</td>\n    </tr>\n    <tr>\n      <th>14999</th>\n      <td>Parchaiyon Mein</td>\n      <td>198409</td>\n      <td>False</td>\n      <td>36</td>\n      <td>Ashwin Adwani</td>\n      <td>Parchaiyon Mein</td>\n      <td>0.678</td>\n      <td>0.518</td>\n      <td>6</td>\n      <td>-7.790</td>\n      <td>...</td>\n      <td>0.0880</td>\n      <td>0.7840</td>\n      <td>88.003</td>\n      <td>198409</td>\n      <td>4.0</td>\n      <td>286.0</td>\n      <td>72.0</td>\n      <td>NaN</td>\n      <td>1.170953</td>\n      <td>indian</td>\n    </tr>\n  </tbody>\n</table>\n<p>15000 rows × 24 columns</p>\n</div>"
     },
     "execution_count": 100,
     "metadata": {},
     "output_type": "execute_result"
    }
   ],
   "source": [
    "df_train\n",
    "#train dataset"
   ],
   "metadata": {
    "collapsed": false,
    "ExecuteTime": {
     "end_time": "2023-12-29T16:11:54.063584Z",
     "start_time": "2023-12-29T16:11:53.707239Z"
    }
   },
   "id": "adf1e3a9e3e6ee94"
  },
  {
   "cell_type": "markdown",
   "source": [
    "# Feature preprocessing (light)"
   ],
   "metadata": {
    "collapsed": false
   },
   "id": "2bd6708f0d819063"
  },
  {
   "cell_type": "code",
   "execution_count": 312,
   "outputs": [
    {
     "name": "stdout",
     "output_type": "stream",
     "text": [
      "Accuracy on test set: 0.717999434868607\n"
     ]
    }
   ],
   "source": [
    "from sklearn.metrics import accuracy_score\n",
    "from sklearn.ensemble import RandomForestClassifier\n",
    "\n",
    "genres = df_train['genre'].unique()\n",
    "# creo un dizionario per tenerli associati ad un numero\n",
    "genres_dict = dict(zip(genres, range(len(genres))))\n",
    "# Mappo i generi con i numeri\n",
    "df_train['genre'] = df_train['genre'].map(genres_dict)\n",
    "df_test['genre'] = df_test['genre'].map(genres_dict)\n",
    "\n",
    "df_train['explicit'] = df_train['explicit'].astype(int)\n",
    "df_test['explicit'] = df_test['explicit'].astype(int)\n",
    "\n",
    "#Calculating only for the missing values in time_signature column by dividing n_beats/n_bars and rounding the result\n",
    "df_train.loc[df_train['time_signature'].isna(), 'time_signature'] = round(df_train['n_beats'] / df_train['n_bars'])\n",
    "\n",
    "df_test.loc[df_test['time_signature'].isna(), 'time_signature'] = round(df_test['n_beats'] / df_test['n_bars'])\n",
    "\n",
    "\n",
    "'''\n",
    "from sklearn.preprocessing import MinMaxScaler\n",
    "\n",
    "numerical_cols_train = df_train.select_dtypes(include=[np.number]).columns\n",
    "numerical_cols_test = df_test.select_dtypes(include=[np.number]).columns\n",
    "\n",
    "\n",
    "scaler = MinMaxScaler()\n",
    "\n",
    "scaler.fit(df_train[numerical_cols_train])\n",
    "\n",
    "scaled_numerical_train = scaler.transform(df_train[numerical_cols_train])\n",
    "scaled_numerical_test = scaler.transform(df_test[numerical_cols_test])\n",
    "\n",
    "df_train[numerical_cols_train] = scaled_numerical_train\n",
    "df_test[numerical_cols_test] = scaled_numerical_test\n",
    "'''\n",
    "\n",
    "#Dropping popularity confidence column\n",
    "df_train.drop(columns=['popularity_confidence'], axis=1, inplace=True)\n",
    "df_test.drop(columns=['popularity_confidence'], axis=1, inplace=True)\n",
    "\n",
    "# Load your dataset\n",
    "df_copy = df_train.copy()\n",
    "df_copy_test = df_test.copy()\n",
    "\n",
    "# Drop unnecessary columns\n",
    "columns_to_drop = ['name', 'artists', 'album_name']\n",
    "df_copy.drop(columns=columns_to_drop, axis=1, inplace=True)\n",
    "df_copy_test.drop(columns=columns_to_drop, axis=1, inplace=True)\n",
    "\n",
    "\n",
    "# Divide the dataset: one with known mode and one with missing mode\n",
    "data_with_mode = df_copy.dropna(subset=['mode'])\n",
    "data_missing_mode = df_copy[df_copy['mode'].isna()]\n",
    "data_missing_mode_test = df_copy_test[df_copy_test['mode'].isna()]\n",
    "\n",
    "# Features and target variable for the known 'mode'\n",
    "X_known = data_with_mode.drop(columns=['mode'])\n",
    "y_known = data_with_mode['mode']\n",
    "\n",
    "# Features for the rows with missing 'mode'\n",
    "X_missing = data_missing_mode.drop(columns=['mode'])\n",
    "X_missing_test = data_missing_mode_test.drop(columns=['mode'])\n",
    "\n",
    "# Train a classifier (e.g., Random Forest) on data with known 'mode'\n",
    "clf = RandomForestClassifier(n_estimators=500, random_state=42, max_features=20)\n",
    "clf.fit(X_known, y_known)\n",
    "\n",
    "# Separate known and unknown 'mode' in test set\n",
    "test_known_mode = df_copy_test.dropna(subset=['mode'])\n",
    "test_unknown_mode = df_copy_test[df_copy_test['mode'].isna()]\n",
    "\n",
    "# Features and actual 'mode' values for known 'mode' part of test set\n",
    "X_test_known = test_known_mode.drop(columns=['mode'])\n",
    "y_test_actual = test_known_mode['mode']\n",
    "\n",
    "# Predict 'mode' for the known part of the test set\n",
    "y_test_pred = clf.predict(X_test_known)\n",
    "\n",
    "# Calculate accuracy\n",
    "accuracy = accuracy_score(y_test_actual, y_test_pred)\n",
    "print(\"Accuracy on test set:\", accuracy)\n",
    "\n",
    "# Predict 'mode' for rows with missing 'mode' in training and test set\n",
    "y_missing_pred = clf.predict(X_missing)\n",
    "y_missing_pred_test = clf.predict(X_missing_test)\n",
    "\n",
    "# Fill in the missing 'mode' values with predictions in training and test sets\n",
    "df_train.loc[df_train['mode'].isna(), 'mode'] = y_missing_pred\n",
    "df_test.loc[df_test['mode'].isna(), 'mode'] = y_missing_pred_test\n"
   ],
   "metadata": {
    "collapsed": false,
    "ExecuteTime": {
     "end_time": "2023-12-31T14:03:03.181400Z",
     "start_time": "2023-12-31T14:01:45.771279Z"
    }
   },
   "id": "6ca5e15e87663ab8"
  },
  {
   "cell_type": "code",
   "execution_count": 223,
   "outputs": [],
   "source": [
    "df_train.drop(columns=['name', 'artists', 'album_name', 'features_duration_ms', 'processing'], axis=1, inplace=True)\n",
    "df_test.drop(columns=['name', 'artists', 'album_name', 'features_duration_ms', 'processing'], axis=1, inplace=True)\n",
    "\n",
    "#transform genre back to string\n",
    "df_train['genre'] = df_train['genre'].map({v: k for k, v in genres_dict.items()})\n",
    "df_test['genre'] = df_test['genre'].map({v: k for k, v in genres_dict.items()})"
   ],
   "metadata": {
    "collapsed": false,
    "ExecuteTime": {
     "end_time": "2023-12-30T16:09:48.064990Z",
     "start_time": "2023-12-30T16:09:47.954229Z"
    }
   },
   "id": "1be4e3706f782384"
  },
  {
   "cell_type": "markdown",
   "source": [
    "# Feature pattern mining preprocessing (heavy)"
   ],
   "metadata": {
    "collapsed": false
   },
   "id": "a30fa00756f44a00"
  },
  {
   "cell_type": "code",
   "execution_count": 224,
   "outputs": [],
   "source": [
    "df_train['durationBin'] = pd.qcut(df_train['duration_ms'], 4)\n",
    "df_train['n_beatsBin'] = pd.qcut(df_train['n_beats'], 4)\n",
    "df_train['n_barsBin'] = pd.qcut(df_train['n_bars'], 4)\n",
    "df_train['danceabilityBin'] = pd.qcut(df_train['danceability'], 4)\n",
    "df_train['energyBin'] = pd.qcut(df_train['energy'], 3)\n",
    "df_train['loudnessBin'] = pd.qcut(df_train['loudness'], 3)\n",
    "df_train['speechinessBin'] = pd.qcut(df_train['speechiness'], 3)\n",
    "df_train['acousticnessBin'] = pd.qcut(df_train['acousticness'], 3)\n",
    "df_train['instrumentalnessBin'] = pd.qcut(df_train['instrumentalness'], 3, duplicates='drop')\n",
    "df_train['livenessBin'] = pd.qcut(df_train['liveness'], 4)\n",
    "df_train['valenceBin'] = pd.qcut(df_train['valence'], 4)\n",
    "df_train['tempoBin'] = pd.qcut(df_train['tempo'], 5)\n",
    "df_train['popularityBin'] = pd.qcut(df_train['popularity'], 5)\n",
    "\n",
    "df_test['durationBin'] = pd.qcut(df_test['duration_ms'], 4)\n",
    "df_test['n_beatsBin'] = pd.qcut(df_test['n_beats'], 4)\n",
    "df_test['n_barsBin'] = pd.qcut(df_test['n_bars'], 4)\n",
    "df_test['danceabilityBin'] = pd.qcut(df_test['danceability'], 4)\n",
    "df_test['energyBin'] = pd.qcut(df_test['energy'], 3)\n",
    "df_test['loudnessBin'] = pd.qcut(df_test['loudness'], 3)\n",
    "df_test['speechinessBin'] = pd.qcut(df_test['speechiness'], 3)\n",
    "df_test['acousticnessBin'] = pd.qcut(df_test['acousticness'], 3)\n",
    "df_test['instrumentalnessBin'] = pd.qcut(df_test['instrumentalness'], 3, duplicates='drop')\n",
    "df_test['livenessBin'] = pd.qcut(df_test['liveness'], 4)\n",
    "df_test['valenceBin'] = pd.qcut(df_test['valence'], 4)\n",
    "df_test['tempoBin'] = pd.qcut(df_test['tempo'], 5)\n",
    "df_test['popularityBin'] = pd.qcut(df_test['popularity'], 5)\n",
    "\n",
    "\n",
    "df_test.drop(columns=['duration_ms', 'n_beats', 'n_bars'], axis=1, inplace=True)\n",
    "df_test.drop(columns=['danceability', 'energy', 'loudness', 'speechiness', 'acousticness', 'instrumentalness', 'liveness', 'valence', 'tempo', 'popularity'], axis=1, inplace=True)\n",
    "\n",
    "df_train.drop(columns=['danceability', 'energy', 'loudness', 'speechiness', 'acousticness', 'instrumentalness', 'liveness', 'valence', 'tempo', 'popularity'], axis=1, inplace=True)\n",
    "df_train.drop(columns=['duration_ms', 'n_beats', 'n_bars'], axis=1, inplace=True)"
   ],
   "metadata": {
    "collapsed": false,
    "ExecuteTime": {
     "end_time": "2023-12-30T16:09:50.832463Z",
     "start_time": "2023-12-30T16:09:50.569538Z"
    }
   },
   "id": "de99be5619ac50d6"
  },
  {
   "cell_type": "code",
   "execution_count": 225,
   "outputs": [],
   "source": [
    "df_train['durationBin'] = df_train['durationBin'].astype(str) + '_duration'\n",
    "df_train['n_beatsBin'] = df_train['n_beatsBin'].astype(str) + '_n_beats'\n",
    "df_train['n_barsBin'] = df_train['n_barsBin'].astype(str) + '_n_bars'\n",
    "df_train['time_signature'] = df_train['time_signature'].astype(str) + '_time_signature'\n",
    "df_train['danceabilityBin'] = df_train['danceabilityBin'].astype(str) + '_danceability'\n",
    "df_train['energyBin'] = df_train['energyBin'].astype(str) + '_energy'\n",
    "df_train['loudnessBin'] = df_train['loudnessBin'].astype(str) + '_loudness'\n",
    "df_train['speechinessBin'] = df_train['speechinessBin'].astype(str) + '_speechiness'\n",
    "df_train['acousticnessBin'] = df_train['acousticnessBin'].astype(str) + '_acousticness'\n",
    "df_train['instrumentalnessBin'] = df_train['instrumentalnessBin'].astype(str) + '_instrumentalness'\n",
    "df_train['livenessBin'] = df_train['livenessBin'].astype(str) + '_liveness'\n",
    "df_train['valenceBin'] = df_train['valenceBin'].astype(str) + '_valence'\n",
    "df_train['tempoBin'] = df_train['tempoBin'].astype(str) + '_tempo'\n",
    "df_train['popularityBin'] = df_train['popularityBin'].astype(str) + '_popularity'\n",
    "\n",
    "df_test['durationBin'] = df_test['durationBin'].astype(str) + '_duration'\n",
    "df_test['n_beatsBin'] = df_test['n_beatsBin'].astype(str) + '_n_beats'\n",
    "df_test['n_barsBin'] = df_test['n_barsBin'].astype(str) + '_n_bars'\n",
    "df_test['time_signature'] = df_test['time_signature'].astype(str) + '_time_signature'\n",
    "df_test['danceabilityBin'] = df_test['danceabilityBin'].astype(str) + '_danceability'\n",
    "df_test['energyBin'] = df_test['energyBin'].astype(str) + '_energy'\n",
    "df_test['loudnessBin'] = df_test['loudnessBin'].astype(str) + '_loudness'\n",
    "df_test['speechinessBin'] = df_test['speechinessBin'].astype(str) + '_speechiness'\n",
    "df_test['acousticnessBin'] = df_test['acousticnessBin'].astype(str) + '_acousticness'\n",
    "df_test['instrumentalnessBin'] = df_test['instrumentalnessBin'].astype(str) + '_instrumentalness'\n",
    "df_test['livenessBin'] = df_test['livenessBin'].astype(str) + '_liveness'\n",
    "df_test['valenceBin'] = df_test['valenceBin'].astype(str) + '_valence'\n",
    "df_test['tempoBin'] = df_test['tempoBin'].astype(str) + '_tempo'\n",
    "df_test['popularityBin'] = df_test['popularityBin'].astype(str) + '_popularity'"
   ],
   "metadata": {
    "collapsed": false,
    "ExecuteTime": {
     "end_time": "2023-12-30T16:09:53.934845Z",
     "start_time": "2023-12-30T16:09:53.094747Z"
    }
   },
   "id": "5560a53c93e4f3c7"
  },
  {
   "cell_type": "code",
   "execution_count": 226,
   "outputs": [],
   "source": [
    "explicit_dict = {0: 'not_explicit', 1: 'explicit'}\n",
    "df_train['explicit'] = df_train['explicit'].map(explicit_dict)\n",
    "df_test['explicit'] = df_test['explicit'].map(explicit_dict)\n",
    "\n",
    "mode_dict = {0: 'minor', 1: 'major'}\n",
    "df_train['mode'] = df_train['mode'].map(mode_dict)\n",
    "df_test['mode'] = df_test['mode'].map(mode_dict)\n",
    "\n",
    "key_dict = {0: 'C', 1: 'C#', 2: 'D', 3: 'D#', 4: 'E', 5: 'F', 6: 'F#', 7: 'G', 8: 'G#', 9: 'A', 10: 'A#', 11: 'B'}\n",
    "df_train['key'] = df_train['key'].map(key_dict)\n",
    "df_test['key'] = df_test['key'].map(key_dict)\n",
    "\n",
    "\n"
   ],
   "metadata": {
    "collapsed": false,
    "ExecuteTime": {
     "end_time": "2023-12-30T16:09:56.147908Z",
     "start_time": "2023-12-30T16:09:56.042509Z"
    }
   },
   "id": "5ea394e7524fc154"
  },
  {
   "cell_type": "code",
   "execution_count": 227,
   "outputs": [],
   "source": [
    "#df_train.drop(columns=['explicit', 'durationBin', 'speechinessBin', 'livenessBin', 'n_barsBin', 'n_beatsBin', 'livenessBin'], axis=1, inplace=True)\n",
    "df_train.drop(columns=['time_signature', 'n_barsBin'], axis=1, inplace=True)\n",
    "df_test.drop(columns=['time_signature', 'n_barsBin'], axis=1, inplace=True)"
   ],
   "metadata": {
    "collapsed": false,
    "ExecuteTime": {
     "end_time": "2023-12-30T16:09:58.326085Z",
     "start_time": "2023-12-30T16:09:58.244829Z"
    }
   },
   "id": "3359f60fc55f97ac"
  },
  {
   "cell_type": "markdown",
   "source": [
    "# Pattern Mining - Apriori"
   ],
   "metadata": {
    "collapsed": false
   },
   "id": "533268467d7de758"
  },
  {
   "cell_type": "code",
   "execution_count": 109,
   "outputs": [],
   "source": [
    "# Convert DataFrame rows to list of lists\n",
    "transactions = df_train.values.tolist()\n",
    "\n",
    "# Convert inner lists to string type\n",
    "#transactions = [[str(item) for item in transaction] for transaction in transactions]"
   ],
   "metadata": {
    "collapsed": false,
    "ExecuteTime": {
     "end_time": "2023-12-29T16:16:01.543796Z",
     "start_time": "2023-12-29T16:16:01.486243Z"
    }
   },
   "id": "be5dc55e37e1151b"
  },
  {
   "cell_type": "markdown",
   "source": [
    "## Frequent itemsets - that means >= min_sup"
   ],
   "metadata": {
    "collapsed": false
   },
   "id": "77ecf321b644f67f"
  },
  {
   "cell_type": "code",
   "execution_count": 140,
   "outputs": [
    {
     "data": {
      "text/plain": "                                    frequent_itemsets    support\n0       ((0.131, 0.28]_liveness, major, not_explicit)  15.346667\n1   ((625.0, 7348.0]_n_beats, (288903.0, 4120258.0...  18.066667\n2      ((625.0, 7348.0]_n_beats, major, not_explicit)  15.246667\n3       ((0.664, 0.995]_valence, major, not_explicit)  15.326667\n4   ((0.58, 0.695]_danceability, major, not_explicit)  15.686667\n5       ((327.0, 461.0]_n_beats, major, not_explicit)  15.833333\n6       ((0.28, 0.994]_liveness, major, not_explicit)  15.693333\n7   ((180000.0, 227826.0]_duration, major, not_exp...  15.586667\n8   ((227826.0, 288903.0]_duration, major, not_exp...  16.460000\n9   ((288903.0, 4120258.0]_duration, major, not_ex...  15.166667\n10      ((461.0, 625.0]_n_beats, major, not_explicit)  15.800000\n11      ((0.416, 0.664]_valence, major, not_explicit)  15.813333\n12      ((0.196, 0.416]_valence, major, not_explicit)  16.046667\n13  ((8585.999, 180000.0]_duration, (-0.001, 327.0...  16.580000\n14  ((8585.999, 180000.0]_duration, major, not_exp...  15.533333\n15     ((-0.001, 0.196]_valence, major, not_explicit)  15.560000\n16  ((-0.001, 0.441]_danceability, major, not_expl...  16.993333\n17  ((0.441, 0.58]_danceability, major, not_explicit)  16.753333\n18     ((-0.001, 327.0]_n_beats, major, not_explicit)  15.866667\n19    ((0.0979, 0.131]_liveness, major, not_explicit)  16.793333\n20  ((0.0412, 0.0698]_speechiness, major, not_expl...  20.600000\n21  ((0.834, 1.0]_energy, (-5.791, 3.156]_loudness...  19.666667\n22  ((0.834, 1.0]_energy, (-0.001, 0.0316]_acousti...  18.160000\n23         ((0.834, 1.0]_energy, major, not_explicit)  18.960000\n24  ((0.415, 0.996]_acousticness, (-49.532, -9.214...  17.840000\n25  ((0.415, 0.996]_acousticness, (-49.532, -9.214...  17.646667\n26  ((0.415, 0.996]_acousticness, (-49.532, -9.214...  19.700000\n27  ((0.415, 0.996]_acousticness, (-0.001, 0.562]_...  17.513333\n28  ((0.415, 0.996]_acousticness, (-0.001, 0.562]_...  17.346667\n29  ((0.415, 0.996]_acousticness, (-0.001, 0.562]_...  22.813333\n30  ((0.415, 0.996]_acousticness, (-0.001, 0.0412]...  15.913333\n31  ((0.415, 0.996]_acousticness, major, not_expli...  23.886667\n32  ((1.27e-05, 0.377]_instrumentalness, major, no...  20.320000\n33  ((0.0698, 0.939]_speechiness, major, not_expli...  17.440000\n34   ((-9.214, -5.791]_loudness, major, not_explicit)  20.453333\n35  ((-49.532, -9.214]_loudness, (0.377, 1.0]_inst...  18.526667\n36  ((-49.532, -9.214]_loudness, (-0.001, 0.562]_e...  17.426667\n37  ((-49.532, -9.214]_loudness, (-0.001, 0.562]_e...  17.246667\n38  ((-49.532, -9.214]_loudness, (-0.001, 0.562]_e...  23.760000\n39  ((-49.532, -9.214]_loudness, major, not_explicit)  22.580000\n40  ((0.377, 1.0]_instrumentalness, major, not_exp...  19.633333\n41    ((-5.791, 3.156]_loudness, major, not_explicit)  19.713333\n42  ((-0.001, 0.0316]_acousticness, major, not_exp...  18.586667\n43  ((-0.001, 1.27e-05]_instrumentalness, major, n...  22.793333\n44  ((0.0316, 0.415]_acousticness, major, not_expl...  20.273333\n45  ((-0.001, 0.562]_energy, (-0.001, 0.0412]_spee...  16.606667\n46      ((-0.001, 0.562]_energy, major, not_explicit)  23.940000\n47       ((0.562, 0.834]_energy, major, not_explicit)  19.846667\n48  ((-0.001, 0.0412]_speechiness, major, not_expl...  24.706667",
      "text/html": "<div>\n<style scoped>\n    .dataframe tbody tr th:only-of-type {\n        vertical-align: middle;\n    }\n\n    .dataframe tbody tr th {\n        vertical-align: top;\n    }\n\n    .dataframe thead th {\n        text-align: right;\n    }\n</style>\n<table border=\"1\" class=\"dataframe\">\n  <thead>\n    <tr style=\"text-align: right;\">\n      <th></th>\n      <th>frequent_itemsets</th>\n      <th>support</th>\n    </tr>\n  </thead>\n  <tbody>\n    <tr>\n      <th>0</th>\n      <td>((0.131, 0.28]_liveness, major, not_explicit)</td>\n      <td>15.346667</td>\n    </tr>\n    <tr>\n      <th>1</th>\n      <td>((625.0, 7348.0]_n_beats, (288903.0, 4120258.0...</td>\n      <td>18.066667</td>\n    </tr>\n    <tr>\n      <th>2</th>\n      <td>((625.0, 7348.0]_n_beats, major, not_explicit)</td>\n      <td>15.246667</td>\n    </tr>\n    <tr>\n      <th>3</th>\n      <td>((0.664, 0.995]_valence, major, not_explicit)</td>\n      <td>15.326667</td>\n    </tr>\n    <tr>\n      <th>4</th>\n      <td>((0.58, 0.695]_danceability, major, not_explicit)</td>\n      <td>15.686667</td>\n    </tr>\n    <tr>\n      <th>5</th>\n      <td>((327.0, 461.0]_n_beats, major, not_explicit)</td>\n      <td>15.833333</td>\n    </tr>\n    <tr>\n      <th>6</th>\n      <td>((0.28, 0.994]_liveness, major, not_explicit)</td>\n      <td>15.693333</td>\n    </tr>\n    <tr>\n      <th>7</th>\n      <td>((180000.0, 227826.0]_duration, major, not_exp...</td>\n      <td>15.586667</td>\n    </tr>\n    <tr>\n      <th>8</th>\n      <td>((227826.0, 288903.0]_duration, major, not_exp...</td>\n      <td>16.460000</td>\n    </tr>\n    <tr>\n      <th>9</th>\n      <td>((288903.0, 4120258.0]_duration, major, not_ex...</td>\n      <td>15.166667</td>\n    </tr>\n    <tr>\n      <th>10</th>\n      <td>((461.0, 625.0]_n_beats, major, not_explicit)</td>\n      <td>15.800000</td>\n    </tr>\n    <tr>\n      <th>11</th>\n      <td>((0.416, 0.664]_valence, major, not_explicit)</td>\n      <td>15.813333</td>\n    </tr>\n    <tr>\n      <th>12</th>\n      <td>((0.196, 0.416]_valence, major, not_explicit)</td>\n      <td>16.046667</td>\n    </tr>\n    <tr>\n      <th>13</th>\n      <td>((8585.999, 180000.0]_duration, (-0.001, 327.0...</td>\n      <td>16.580000</td>\n    </tr>\n    <tr>\n      <th>14</th>\n      <td>((8585.999, 180000.0]_duration, major, not_exp...</td>\n      <td>15.533333</td>\n    </tr>\n    <tr>\n      <th>15</th>\n      <td>((-0.001, 0.196]_valence, major, not_explicit)</td>\n      <td>15.560000</td>\n    </tr>\n    <tr>\n      <th>16</th>\n      <td>((-0.001, 0.441]_danceability, major, not_expl...</td>\n      <td>16.993333</td>\n    </tr>\n    <tr>\n      <th>17</th>\n      <td>((0.441, 0.58]_danceability, major, not_explicit)</td>\n      <td>16.753333</td>\n    </tr>\n    <tr>\n      <th>18</th>\n      <td>((-0.001, 327.0]_n_beats, major, not_explicit)</td>\n      <td>15.866667</td>\n    </tr>\n    <tr>\n      <th>19</th>\n      <td>((0.0979, 0.131]_liveness, major, not_explicit)</td>\n      <td>16.793333</td>\n    </tr>\n    <tr>\n      <th>20</th>\n      <td>((0.0412, 0.0698]_speechiness, major, not_expl...</td>\n      <td>20.600000</td>\n    </tr>\n    <tr>\n      <th>21</th>\n      <td>((0.834, 1.0]_energy, (-5.791, 3.156]_loudness...</td>\n      <td>19.666667</td>\n    </tr>\n    <tr>\n      <th>22</th>\n      <td>((0.834, 1.0]_energy, (-0.001, 0.0316]_acousti...</td>\n      <td>18.160000</td>\n    </tr>\n    <tr>\n      <th>23</th>\n      <td>((0.834, 1.0]_energy, major, not_explicit)</td>\n      <td>18.960000</td>\n    </tr>\n    <tr>\n      <th>24</th>\n      <td>((0.415, 0.996]_acousticness, (-49.532, -9.214...</td>\n      <td>17.840000</td>\n    </tr>\n    <tr>\n      <th>25</th>\n      <td>((0.415, 0.996]_acousticness, (-49.532, -9.214...</td>\n      <td>17.646667</td>\n    </tr>\n    <tr>\n      <th>26</th>\n      <td>((0.415, 0.996]_acousticness, (-49.532, -9.214...</td>\n      <td>19.700000</td>\n    </tr>\n    <tr>\n      <th>27</th>\n      <td>((0.415, 0.996]_acousticness, (-0.001, 0.562]_...</td>\n      <td>17.513333</td>\n    </tr>\n    <tr>\n      <th>28</th>\n      <td>((0.415, 0.996]_acousticness, (-0.001, 0.562]_...</td>\n      <td>17.346667</td>\n    </tr>\n    <tr>\n      <th>29</th>\n      <td>((0.415, 0.996]_acousticness, (-0.001, 0.562]_...</td>\n      <td>22.813333</td>\n    </tr>\n    <tr>\n      <th>30</th>\n      <td>((0.415, 0.996]_acousticness, (-0.001, 0.0412]...</td>\n      <td>15.913333</td>\n    </tr>\n    <tr>\n      <th>31</th>\n      <td>((0.415, 0.996]_acousticness, major, not_expli...</td>\n      <td>23.886667</td>\n    </tr>\n    <tr>\n      <th>32</th>\n      <td>((1.27e-05, 0.377]_instrumentalness, major, no...</td>\n      <td>20.320000</td>\n    </tr>\n    <tr>\n      <th>33</th>\n      <td>((0.0698, 0.939]_speechiness, major, not_expli...</td>\n      <td>17.440000</td>\n    </tr>\n    <tr>\n      <th>34</th>\n      <td>((-9.214, -5.791]_loudness, major, not_explicit)</td>\n      <td>20.453333</td>\n    </tr>\n    <tr>\n      <th>35</th>\n      <td>((-49.532, -9.214]_loudness, (0.377, 1.0]_inst...</td>\n      <td>18.526667</td>\n    </tr>\n    <tr>\n      <th>36</th>\n      <td>((-49.532, -9.214]_loudness, (-0.001, 0.562]_e...</td>\n      <td>17.426667</td>\n    </tr>\n    <tr>\n      <th>37</th>\n      <td>((-49.532, -9.214]_loudness, (-0.001, 0.562]_e...</td>\n      <td>17.246667</td>\n    </tr>\n    <tr>\n      <th>38</th>\n      <td>((-49.532, -9.214]_loudness, (-0.001, 0.562]_e...</td>\n      <td>23.760000</td>\n    </tr>\n    <tr>\n      <th>39</th>\n      <td>((-49.532, -9.214]_loudness, major, not_explicit)</td>\n      <td>22.580000</td>\n    </tr>\n    <tr>\n      <th>40</th>\n      <td>((0.377, 1.0]_instrumentalness, major, not_exp...</td>\n      <td>19.633333</td>\n    </tr>\n    <tr>\n      <th>41</th>\n      <td>((-5.791, 3.156]_loudness, major, not_explicit)</td>\n      <td>19.713333</td>\n    </tr>\n    <tr>\n      <th>42</th>\n      <td>((-0.001, 0.0316]_acousticness, major, not_exp...</td>\n      <td>18.586667</td>\n    </tr>\n    <tr>\n      <th>43</th>\n      <td>((-0.001, 1.27e-05]_instrumentalness, major, n...</td>\n      <td>22.793333</td>\n    </tr>\n    <tr>\n      <th>44</th>\n      <td>((0.0316, 0.415]_acousticness, major, not_expl...</td>\n      <td>20.273333</td>\n    </tr>\n    <tr>\n      <th>45</th>\n      <td>((-0.001, 0.562]_energy, (-0.001, 0.0412]_spee...</td>\n      <td>16.606667</td>\n    </tr>\n    <tr>\n      <th>46</th>\n      <td>((-0.001, 0.562]_energy, major, not_explicit)</td>\n      <td>23.940000</td>\n    </tr>\n    <tr>\n      <th>47</th>\n      <td>((0.562, 0.834]_energy, major, not_explicit)</td>\n      <td>19.846667</td>\n    </tr>\n    <tr>\n      <th>48</th>\n      <td>((-0.001, 0.0412]_speechiness, major, not_expl...</td>\n      <td>24.706667</td>\n    </tr>\n  </tbody>\n</table>\n</div>"
     },
     "execution_count": 140,
     "metadata": {},
     "output_type": "execute_result"
    }
   ],
   "source": [
    "supp = 15\n",
    "zmin = 3\n",
    "\n",
    "itemsets = apriori(transactions, target=\"s\", supp=supp, zmin=zmin, report='S')\n",
    "frequent_itemsets_df = pd.DataFrame(itemsets, columns=['frequent_itemsets', 'support'])\n",
    "\n",
    "frequent_itemsets_df"
   ],
   "metadata": {
    "collapsed": false,
    "ExecuteTime": {
     "end_time": "2023-12-29T17:39:06.076555Z",
     "start_time": "2023-12-29T17:39:06.024616Z"
    }
   },
   "id": "d985c4461373e3fc"
  },
  {
   "cell_type": "code",
   "execution_count": 135,
   "outputs": [
    {
     "data": {
      "text/plain": "<Figure size 2000x2000 with 1 Axes>",
      "image/png": "[encoded data removed]"
     },
     "metadata": {},
     "output_type": "display_data"
    }
   ],
   "source": [
    "#plot the histogram of the support\n"
   ],
   "metadata": {
    "collapsed": false,
    "ExecuteTime": {
     "end_time": "2023-12-29T17:22:03.665318Z",
     "start_time": "2023-12-29T17:22:01.737287Z"
    }
   },
   "id": "63b79821ad05cc2d"
  },
  {
   "cell_type": "markdown",
   "source": [
    "Now the same but insead of the apriori function we use the fpgrowth function"
   ],
   "metadata": {
    "collapsed": false
   },
   "id": "ac639cecc4a91400"
  },
  {
   "cell_type": "code",
   "execution_count": 136,
   "outputs": [
    {
     "data": {
      "text/plain": "                                    frequent_itemsets    support\n0   ((-0.001, 0.0412]_speechiness, major, not_expl...  24.706667\n1        ((0.562, 0.834]_energy, major, not_explicit)  19.846667\n2       ((-0.001, 0.562]_energy, major, not_explicit)  23.940000\n3   ((-0.001, 0.562]_energy, (-0.001, 0.0412]_spee...  16.606667\n4   ((0.0316, 0.415]_acousticness, major, not_expl...  20.273333\n5   ((-0.001, 1.27e-05]_instrumentalness, major, n...  22.793333\n6    ((-9.214, -5.791]_loudness, major, not_explicit)  20.453333\n7   ((-0.001, 0.0316]_acousticness, major, not_exp...  18.586667\n8     ((-5.791, 3.156]_loudness, major, not_explicit)  19.713333\n9   ((0.377, 1.0]_instrumentalness, major, not_exp...  19.633333\n10  ((-49.532, -9.214]_loudness, major, not_explicit)  22.580000\n11  ((-49.532, -9.214]_loudness, (-0.001, 0.562]_e...  23.760000\n12  ((-49.532, -9.214]_loudness, (-0.001, 0.562]_e...  17.246667\n13  ((-49.532, -9.214]_loudness, (-0.001, 0.562]_e...  17.426667\n14  ((-49.532, -9.214]_loudness, (0.377, 1.0]_inst...  18.526667\n15  ((0.0698, 0.939]_speechiness, major, not_expli...  17.440000\n16  ((1.27e-05, 0.377]_instrumentalness, major, no...  20.320000\n17  ((0.415, 0.996]_acousticness, major, not_expli...  23.886667\n18  ((0.415, 0.996]_acousticness, (-0.001, 0.0412]...  15.913333\n19  ((0.415, 0.996]_acousticness, (-0.001, 0.562]_...  22.813333\n20  ((0.415, 0.996]_acousticness, (-0.001, 0.562]_...  17.346667\n21  ((0.415, 0.996]_acousticness, (-0.001, 0.562]_...  17.513333\n22  ((0.415, 0.996]_acousticness, (-49.532, -9.214...  19.700000\n23  ((0.415, 0.996]_acousticness, (-49.532, -9.214...  17.646667\n24  ((0.415, 0.996]_acousticness, (-49.532, -9.214...  17.840000\n25         ((0.834, 1.0]_energy, major, not_explicit)  18.960000\n26  ((0.834, 1.0]_energy, (-0.001, 0.0316]_acousti...  18.160000\n27  ((0.834, 1.0]_energy, (-5.791, 3.156]_loudness...  19.666667\n28  ((0.0412, 0.0698]_speechiness, major, not_expl...  20.600000\n29    ((0.0979, 0.131]_liveness, major, not_explicit)  16.793333\n30     ((-0.001, 327.0]_n_beats, major, not_explicit)  15.866667\n31  ((0.441, 0.58]_danceability, major, not_explicit)  16.753333\n32  ((-0.001, 0.441]_danceability, major, not_expl...  16.993333\n33     ((-0.001, 0.196]_valence, major, not_explicit)  15.560000\n34  ((8585.999, 180000.0]_duration, major, not_exp...  15.533333\n35  ((8585.999, 180000.0]_duration, (-0.001, 327.0...  16.580000\n36      ((0.196, 0.416]_valence, major, not_explicit)  16.046667\n37      ((461.0, 625.0]_n_beats, major, not_explicit)  15.800000\n38  ((288903.0, 4120258.0]_duration, major, not_ex...  15.166667\n39      ((0.416, 0.664]_valence, major, not_explicit)  15.813333\n40  ((227826.0, 288903.0]_duration, major, not_exp...  16.460000\n41  ((180000.0, 227826.0]_duration, major, not_exp...  15.586667\n42      ((0.28, 0.994]_liveness, major, not_explicit)  15.693333\n43      ((327.0, 461.0]_n_beats, major, not_explicit)  15.833333\n44  ((0.58, 0.695]_danceability, major, not_explicit)  15.686667\n45      ((0.664, 0.995]_valence, major, not_explicit)  15.326667\n46     ((625.0, 7348.0]_n_beats, major, not_explicit)  15.246667\n47  ((625.0, 7348.0]_n_beats, (288903.0, 4120258.0...  18.066667\n48      ((0.131, 0.28]_liveness, major, not_explicit)  15.346667",
      "text/html": "<div>\n<style scoped>\n    .dataframe tbody tr th:only-of-type {\n        vertical-align: middle;\n    }\n\n    .dataframe tbody tr th {\n        vertical-align: top;\n    }\n\n    .dataframe thead th {\n        text-align: right;\n    }\n</style>\n<table border=\"1\" class=\"dataframe\">\n  <thead>\n    <tr style=\"text-align: right;\">\n      <th></th>\n      <th>frequent_itemsets</th>\n      <th>support</th>\n    </tr>\n  </thead>\n  <tbody>\n    <tr>\n      <th>0</th>\n      <td>((-0.001, 0.0412]_speechiness, major, not_expl...</td>\n      <td>24.706667</td>\n    </tr>\n    <tr>\n      <th>1</th>\n      <td>((0.562, 0.834]_energy, major, not_explicit)</td>\n      <td>19.846667</td>\n    </tr>\n    <tr>\n      <th>2</th>\n      <td>((-0.001, 0.562]_energy, major, not_explicit)</td>\n      <td>23.940000</td>\n    </tr>\n    <tr>\n      <th>3</th>\n      <td>((-0.001, 0.562]_energy, (-0.001, 0.0412]_spee...</td>\n      <td>16.606667</td>\n    </tr>\n    <tr>\n      <th>4</th>\n      <td>((0.0316, 0.415]_acousticness, major, not_expl...</td>\n      <td>20.273333</td>\n    </tr>\n    <tr>\n      <th>5</th>\n      <td>((-0.001, 1.27e-05]_instrumentalness, major, n...</td>\n      <td>22.793333</td>\n    </tr>\n    <tr>\n      <th>6</th>\n      <td>((-9.214, -5.791]_loudness, major, not_explicit)</td>\n      <td>20.453333</td>\n    </tr>\n    <tr>\n      <th>7</th>\n      <td>((-0.001, 0.0316]_acousticness, major, not_exp...</td>\n      <td>18.586667</td>\n    </tr>\n    <tr>\n      <th>8</th>\n      <td>((-5.791, 3.156]_loudness, major, not_explicit)</td>\n      <td>19.713333</td>\n    </tr>\n    <tr>\n      <th>9</th>\n      <td>((0.377, 1.0]_instrumentalness, major, not_exp...</td>\n      <td>19.633333</td>\n    </tr>\n    <tr>\n      <th>10</th>\n      <td>((-49.532, -9.214]_loudness, major, not_explicit)</td>\n      <td>22.580000</td>\n    </tr>\n    <tr>\n      <th>11</th>\n      <td>((-49.532, -9.214]_loudness, (-0.001, 0.562]_e...</td>\n      <td>23.760000</td>\n    </tr>\n    <tr>\n      <th>12</th>\n      <td>((-49.532, -9.214]_loudness, (-0.001, 0.562]_e...</td>\n      <td>17.246667</td>\n    </tr>\n    <tr>\n      <th>13</th>\n      <td>((-49.532, -9.214]_loudness, (-0.001, 0.562]_e...</td>\n      <td>17.426667</td>\n    </tr>\n    <tr>\n      <th>14</th>\n      <td>((-49.532, -9.214]_loudness, (0.377, 1.0]_inst...</td>\n      <td>18.526667</td>\n    </tr>\n    <tr>\n      <th>15</th>\n      <td>((0.0698, 0.939]_speechiness, major, not_expli...</td>\n      <td>17.440000</td>\n    </tr>\n    <tr>\n      <th>16</th>\n      <td>((1.27e-05, 0.377]_instrumentalness, major, no...</td>\n      <td>20.320000</td>\n    </tr>\n    <tr>\n      <th>17</th>\n      <td>((0.415, 0.996]_acousticness, major, not_expli...</td>\n      <td>23.886667</td>\n    </tr>\n    <tr>\n      <th>18</th>\n      <td>((0.415, 0.996]_acousticness, (-0.001, 0.0412]...</td>\n      <td>15.913333</td>\n    </tr>\n    <tr>\n      <th>19</th>\n      <td>((0.415, 0.996]_acousticness, (-0.001, 0.562]_...</td>\n      <td>22.813333</td>\n    </tr>\n    <tr>\n      <th>20</th>\n      <td>((0.415, 0.996]_acousticness, (-0.001, 0.562]_...</td>\n      <td>17.346667</td>\n    </tr>\n    <tr>\n      <th>21</th>\n      <td>((0.415, 0.996]_acousticness, (-0.001, 0.562]_...</td>\n      <td>17.513333</td>\n    </tr>\n    <tr>\n      <th>22</th>\n      <td>((0.415, 0.996]_acousticness, (-49.532, -9.214...</td>\n      <td>19.700000</td>\n    </tr>\n    <tr>\n      <th>23</th>\n      <td>((0.415, 0.996]_acousticness, (-49.532, -9.214...</td>\n      <td>17.646667</td>\n    </tr>\n    <tr>\n      <th>24</th>\n      <td>((0.415, 0.996]_acousticness, (-49.532, -9.214...</td>\n      <td>17.840000</td>\n    </tr>\n    <tr>\n      <th>25</th>\n      <td>((0.834, 1.0]_energy, major, not_explicit)</td>\n      <td>18.960000</td>\n    </tr>\n    <tr>\n      <th>26</th>\n      <td>((0.834, 1.0]_energy, (-0.001, 0.0316]_acousti...</td>\n      <td>18.160000</td>\n    </tr>\n    <tr>\n      <th>27</th>\n      <td>((0.834, 1.0]_energy, (-5.791, 3.156]_loudness...</td>\n      <td>19.666667</td>\n    </tr>\n    <tr>\n      <th>28</th>\n      <td>((0.0412, 0.0698]_speechiness, major, not_expl...</td>\n      <td>20.600000</td>\n    </tr>\n    <tr>\n      <th>29</th>\n      <td>((0.0979, 0.131]_liveness, major, not_explicit)</td>\n      <td>16.793333</td>\n    </tr>\n    <tr>\n      <th>30</th>\n      <td>((-0.001, 327.0]_n_beats, major, not_explicit)</td>\n      <td>15.866667</td>\n    </tr>\n    <tr>\n      <th>31</th>\n      <td>((0.441, 0.58]_danceability, major, not_explicit)</td>\n      <td>16.753333</td>\n    </tr>\n    <tr>\n      <th>32</th>\n      <td>((-0.001, 0.441]_danceability, major, not_expl...</td>\n      <td>16.993333</td>\n    </tr>\n    <tr>\n      <th>33</th>\n      <td>((-0.001, 0.196]_valence, major, not_explicit)</td>\n      <td>15.560000</td>\n    </tr>\n    <tr>\n      <th>34</th>\n      <td>((8585.999, 180000.0]_duration, major, not_exp...</td>\n      <td>15.533333</td>\n    </tr>\n    <tr>\n      <th>35</th>\n      <td>((8585.999, 180000.0]_duration, (-0.001, 327.0...</td>\n      <td>16.580000</td>\n    </tr>\n    <tr>\n      <th>36</th>\n      <td>((0.196, 0.416]_valence, major, not_explicit)</td>\n      <td>16.046667</td>\n    </tr>\n    <tr>\n      <th>37</th>\n      <td>((461.0, 625.0]_n_beats, major, not_explicit)</td>\n      <td>15.800000</td>\n    </tr>\n    <tr>\n      <th>38</th>\n      <td>((288903.0, 4120258.0]_duration, major, not_ex...</td>\n      <td>15.166667</td>\n    </tr>\n    <tr>\n      <th>39</th>\n      <td>((0.416, 0.664]_valence, major, not_explicit)</td>\n      <td>15.813333</td>\n    </tr>\n    <tr>\n      <th>40</th>\n      <td>((227826.0, 288903.0]_duration, major, not_exp...</td>\n      <td>16.460000</td>\n    </tr>\n    <tr>\n      <th>41</th>\n      <td>((180000.0, 227826.0]_duration, major, not_exp...</td>\n      <td>15.586667</td>\n    </tr>\n    <tr>\n      <th>42</th>\n      <td>((0.28, 0.994]_liveness, major, not_explicit)</td>\n      <td>15.693333</td>\n    </tr>\n    <tr>\n      <th>43</th>\n      <td>((327.0, 461.0]_n_beats, major, not_explicit)</td>\n      <td>15.833333</td>\n    </tr>\n    <tr>\n      <th>44</th>\n      <td>((0.58, 0.695]_danceability, major, not_explicit)</td>\n      <td>15.686667</td>\n    </tr>\n    <tr>\n      <th>45</th>\n      <td>((0.664, 0.995]_valence, major, not_explicit)</td>\n      <td>15.326667</td>\n    </tr>\n    <tr>\n      <th>46</th>\n      <td>((625.0, 7348.0]_n_beats, major, not_explicit)</td>\n      <td>15.246667</td>\n    </tr>\n    <tr>\n      <th>47</th>\n      <td>((625.0, 7348.0]_n_beats, (288903.0, 4120258.0...</td>\n      <td>18.066667</td>\n    </tr>\n    <tr>\n      <th>48</th>\n      <td>((0.131, 0.28]_liveness, major, not_explicit)</td>\n      <td>15.346667</td>\n    </tr>\n  </tbody>\n</table>\n</div>"
     },
     "execution_count": 136,
     "metadata": {},
     "output_type": "execute_result"
    }
   ],
   "source": [
    "supp = 15\n",
    "zmin = 3\n",
    "\n",
    "itemsets = fpgrowth(transactions, target=\"s\", supp=supp, zmin=zmin, report='S')\n",
    "pd.DataFrame(itemsets, columns=['frequent_itemsets', 'support'])"
   ],
   "metadata": {
    "collapsed": false,
    "ExecuteTime": {
     "end_time": "2023-12-29T17:24:41.674975Z",
     "start_time": "2023-12-29T17:24:41.393853Z"
    }
   },
   "id": "f8678cf5d3e86a13"
  },
  {
   "cell_type": "markdown",
   "source": [
    "## Closed Itemsets "
   ],
   "metadata": {
    "collapsed": false
   },
   "id": "eab46d11f53a6d93"
  },
  {
   "cell_type": "markdown",
   "source": [
    "An item set is closed if non of its immediate supersets has the same support as the item set."
   ],
   "metadata": {
    "collapsed": false
   },
   "id": "fe3b46c28b82c212"
  },
  {
   "cell_type": "code",
   "execution_count": 141,
   "outputs": [
    {
     "data": {
      "text/plain": "                                      closed_itemsets    support\n0       ((0.131, 0.28]_liveness, major, not_explicit)  15.346667\n1   ((625.0, 7348.0]_n_beats, (288903.0, 4120258.0...  18.066667\n2      ((625.0, 7348.0]_n_beats, major, not_explicit)  15.246667\n3       ((0.664, 0.995]_valence, major, not_explicit)  15.326667\n4   ((0.58, 0.695]_danceability, major, not_explicit)  15.686667\n5       ((327.0, 461.0]_n_beats, major, not_explicit)  15.833333\n6       ((0.28, 0.994]_liveness, major, not_explicit)  15.693333\n7   ((180000.0, 227826.0]_duration, major, not_exp...  15.586667\n8   ((227826.0, 288903.0]_duration, major, not_exp...  16.460000\n9   ((288903.0, 4120258.0]_duration, major, not_ex...  15.166667\n10      ((461.0, 625.0]_n_beats, major, not_explicit)  15.800000\n11      ((0.416, 0.664]_valence, major, not_explicit)  15.813333\n12      ((0.196, 0.416]_valence, major, not_explicit)  16.046667\n13  ((8585.999, 180000.0]_duration, (-0.001, 327.0...  16.580000\n14  ((8585.999, 180000.0]_duration, major, not_exp...  15.533333\n15     ((-0.001, 0.196]_valence, major, not_explicit)  15.560000\n16  ((-0.001, 0.441]_danceability, major, not_expl...  16.993333\n17  ((0.441, 0.58]_danceability, major, not_explicit)  16.753333\n18     ((-0.001, 327.0]_n_beats, major, not_explicit)  15.866667\n19    ((0.0979, 0.131]_liveness, major, not_explicit)  16.793333\n20  ((0.0412, 0.0698]_speechiness, major, not_expl...  20.600000\n21  ((0.834, 1.0]_energy, (-5.791, 3.156]_loudness...  19.666667\n22  ((0.834, 1.0]_energy, (-0.001, 0.0316]_acousti...  18.160000\n23         ((0.834, 1.0]_energy, major, not_explicit)  18.960000\n24  ((0.415, 0.996]_acousticness, (-49.532, -9.214...  17.840000\n25  ((0.415, 0.996]_acousticness, (-49.532, -9.214...  17.646667\n26  ((0.415, 0.996]_acousticness, (-49.532, -9.214...  19.700000\n27  ((0.415, 0.996]_acousticness, (-0.001, 0.562]_...  17.513333\n28  ((0.415, 0.996]_acousticness, (-0.001, 0.562]_...  17.346667\n29  ((0.415, 0.996]_acousticness, (-0.001, 0.562]_...  22.813333\n30  ((0.415, 0.996]_acousticness, (-0.001, 0.0412]...  15.913333\n31  ((0.415, 0.996]_acousticness, major, not_expli...  23.886667\n32  ((1.27e-05, 0.377]_instrumentalness, major, no...  20.320000\n33  ((0.0698, 0.939]_speechiness, major, not_expli...  17.440000\n34   ((-9.214, -5.791]_loudness, major, not_explicit)  20.453333\n35  ((-49.532, -9.214]_loudness, (0.377, 1.0]_inst...  18.526667\n36  ((-49.532, -9.214]_loudness, (-0.001, 0.562]_e...  17.426667\n37  ((-49.532, -9.214]_loudness, (-0.001, 0.562]_e...  17.246667\n38  ((-49.532, -9.214]_loudness, (-0.001, 0.562]_e...  23.760000\n39  ((-49.532, -9.214]_loudness, major, not_explicit)  22.580000\n40  ((0.377, 1.0]_instrumentalness, major, not_exp...  19.633333\n41    ((-5.791, 3.156]_loudness, major, not_explicit)  19.713333\n42  ((-0.001, 0.0316]_acousticness, major, not_exp...  18.586667\n43  ((-0.001, 1.27e-05]_instrumentalness, major, n...  22.793333\n44  ((0.0316, 0.415]_acousticness, major, not_expl...  20.273333\n45  ((-0.001, 0.562]_energy, (-0.001, 0.0412]_spee...  16.606667\n46      ((-0.001, 0.562]_energy, major, not_explicit)  23.940000\n47       ((0.562, 0.834]_energy, major, not_explicit)  19.846667\n48  ((-0.001, 0.0412]_speechiness, major, not_expl...  24.706667",
      "text/html": "<div>\n<style scoped>\n    .dataframe tbody tr th:only-of-type {\n        vertical-align: middle;\n    }\n\n    .dataframe tbody tr th {\n        vertical-align: top;\n    }\n\n    .dataframe thead th {\n        text-align: right;\n    }\n</style>\n<table border=\"1\" class=\"dataframe\">\n  <thead>\n    <tr style=\"text-align: right;\">\n      <th></th>\n      <th>closed_itemsets</th>\n      <th>support</th>\n    </tr>\n  </thead>\n  <tbody>\n    <tr>\n      <th>0</th>\n      <td>((0.131, 0.28]_liveness, major, not_explicit)</td>\n      <td>15.346667</td>\n    </tr>\n    <tr>\n      <th>1</th>\n      <td>((625.0, 7348.0]_n_beats, (288903.0, 4120258.0...</td>\n      <td>18.066667</td>\n    </tr>\n    <tr>\n      <th>2</th>\n      <td>((625.0, 7348.0]_n_beats, major, not_explicit)</td>\n      <td>15.246667</td>\n    </tr>\n    <tr>\n      <th>3</th>\n      <td>((0.664, 0.995]_valence, major, not_explicit)</td>\n      <td>15.326667</td>\n    </tr>\n    <tr>\n      <th>4</th>\n      <td>((0.58, 0.695]_danceability, major, not_explicit)</td>\n      <td>15.686667</td>\n    </tr>\n    <tr>\n      <th>5</th>\n      <td>((327.0, 461.0]_n_beats, major, not_explicit)</td>\n      <td>15.833333</td>\n    </tr>\n    <tr>\n      <th>6</th>\n      <td>((0.28, 0.994]_liveness, major, not_explicit)</td>\n      <td>15.693333</td>\n    </tr>\n    <tr>\n      <th>7</th>\n      <td>((180000.0, 227826.0]_duration, major, not_exp...</td>\n      <td>15.586667</td>\n    </tr>\n    <tr>\n      <th>8</th>\n      <td>((227826.0, 288903.0]_duration, major, not_exp...</td>\n      <td>16.460000</td>\n    </tr>\n    <tr>\n      <th>9</th>\n      <td>((288903.0, 4120258.0]_duration, major, not_ex...</td>\n      <td>15.166667</td>\n    </tr>\n    <tr>\n      <th>10</th>\n      <td>((461.0, 625.0]_n_beats, major, not_explicit)</td>\n      <td>15.800000</td>\n    </tr>\n    <tr>\n      <th>11</th>\n      <td>((0.416, 0.664]_valence, major, not_explicit)</td>\n      <td>15.813333</td>\n    </tr>\n    <tr>\n      <th>12</th>\n      <td>((0.196, 0.416]_valence, major, not_explicit)</td>\n      <td>16.046667</td>\n    </tr>\n    <tr>\n      <th>13</th>\n      <td>((8585.999, 180000.0]_duration, (-0.001, 327.0...</td>\n      <td>16.580000</td>\n    </tr>\n    <tr>\n      <th>14</th>\n      <td>((8585.999, 180000.0]_duration, major, not_exp...</td>\n      <td>15.533333</td>\n    </tr>\n    <tr>\n      <th>15</th>\n      <td>((-0.001, 0.196]_valence, major, not_explicit)</td>\n      <td>15.560000</td>\n    </tr>\n    <tr>\n      <th>16</th>\n      <td>((-0.001, 0.441]_danceability, major, not_expl...</td>\n      <td>16.993333</td>\n    </tr>\n    <tr>\n      <th>17</th>\n      <td>((0.441, 0.58]_danceability, major, not_explicit)</td>\n      <td>16.753333</td>\n    </tr>\n    <tr>\n      <th>18</th>\n      <td>((-0.001, 327.0]_n_beats, major, not_explicit)</td>\n      <td>15.866667</td>\n    </tr>\n    <tr>\n      <th>19</th>\n      <td>((0.0979, 0.131]_liveness, major, not_explicit)</td>\n      <td>16.793333</td>\n    </tr>\n    <tr>\n      <th>20</th>\n      <td>((0.0412, 0.0698]_speechiness, major, not_expl...</td>\n      <td>20.600000</td>\n    </tr>\n    <tr>\n      <th>21</th>\n      <td>((0.834, 1.0]_energy, (-5.791, 3.156]_loudness...</td>\n      <td>19.666667</td>\n    </tr>\n    <tr>\n      <th>22</th>\n      <td>((0.834, 1.0]_energy, (-0.001, 0.0316]_acousti...</td>\n      <td>18.160000</td>\n    </tr>\n    <tr>\n      <th>23</th>\n      <td>((0.834, 1.0]_energy, major, not_explicit)</td>\n      <td>18.960000</td>\n    </tr>\n    <tr>\n      <th>24</th>\n      <td>((0.415, 0.996]_acousticness, (-49.532, -9.214...</td>\n      <td>17.840000</td>\n    </tr>\n    <tr>\n      <th>25</th>\n      <td>((0.415, 0.996]_acousticness, (-49.532, -9.214...</td>\n      <td>17.646667</td>\n    </tr>\n    <tr>\n      <th>26</th>\n      <td>((0.415, 0.996]_acousticness, (-49.532, -9.214...</td>\n      <td>19.700000</td>\n    </tr>\n    <tr>\n      <th>27</th>\n      <td>((0.415, 0.996]_acousticness, (-0.001, 0.562]_...</td>\n      <td>17.513333</td>\n    </tr>\n    <tr>\n      <th>28</th>\n      <td>((0.415, 0.996]_acousticness, (-0.001, 0.562]_...</td>\n      <td>17.346667</td>\n    </tr>\n    <tr>\n      <th>29</th>\n      <td>((0.415, 0.996]_acousticness, (-0.001, 0.562]_...</td>\n      <td>22.813333</td>\n    </tr>\n    <tr>\n      <th>30</th>\n      <td>((0.415, 0.996]_acousticness, (-0.001, 0.0412]...</td>\n      <td>15.913333</td>\n    </tr>\n    <tr>\n      <th>31</th>\n      <td>((0.415, 0.996]_acousticness, major, not_expli...</td>\n      <td>23.886667</td>\n    </tr>\n    <tr>\n      <th>32</th>\n      <td>((1.27e-05, 0.377]_instrumentalness, major, no...</td>\n      <td>20.320000</td>\n    </tr>\n    <tr>\n      <th>33</th>\n      <td>((0.0698, 0.939]_speechiness, major, not_expli...</td>\n      <td>17.440000</td>\n    </tr>\n    <tr>\n      <th>34</th>\n      <td>((-9.214, -5.791]_loudness, major, not_explicit)</td>\n      <td>20.453333</td>\n    </tr>\n    <tr>\n      <th>35</th>\n      <td>((-49.532, -9.214]_loudness, (0.377, 1.0]_inst...</td>\n      <td>18.526667</td>\n    </tr>\n    <tr>\n      <th>36</th>\n      <td>((-49.532, -9.214]_loudness, (-0.001, 0.562]_e...</td>\n      <td>17.426667</td>\n    </tr>\n    <tr>\n      <th>37</th>\n      <td>((-49.532, -9.214]_loudness, (-0.001, 0.562]_e...</td>\n      <td>17.246667</td>\n    </tr>\n    <tr>\n      <th>38</th>\n      <td>((-49.532, -9.214]_loudness, (-0.001, 0.562]_e...</td>\n      <td>23.760000</td>\n    </tr>\n    <tr>\n      <th>39</th>\n      <td>((-49.532, -9.214]_loudness, major, not_explicit)</td>\n      <td>22.580000</td>\n    </tr>\n    <tr>\n      <th>40</th>\n      <td>((0.377, 1.0]_instrumentalness, major, not_exp...</td>\n      <td>19.633333</td>\n    </tr>\n    <tr>\n      <th>41</th>\n      <td>((-5.791, 3.156]_loudness, major, not_explicit)</td>\n      <td>19.713333</td>\n    </tr>\n    <tr>\n      <th>42</th>\n      <td>((-0.001, 0.0316]_acousticness, major, not_exp...</td>\n      <td>18.586667</td>\n    </tr>\n    <tr>\n      <th>43</th>\n      <td>((-0.001, 1.27e-05]_instrumentalness, major, n...</td>\n      <td>22.793333</td>\n    </tr>\n    <tr>\n      <th>44</th>\n      <td>((0.0316, 0.415]_acousticness, major, not_expl...</td>\n      <td>20.273333</td>\n    </tr>\n    <tr>\n      <th>45</th>\n      <td>((-0.001, 0.562]_energy, (-0.001, 0.0412]_spee...</td>\n      <td>16.606667</td>\n    </tr>\n    <tr>\n      <th>46</th>\n      <td>((-0.001, 0.562]_energy, major, not_explicit)</td>\n      <td>23.940000</td>\n    </tr>\n    <tr>\n      <th>47</th>\n      <td>((0.562, 0.834]_energy, major, not_explicit)</td>\n      <td>19.846667</td>\n    </tr>\n    <tr>\n      <th>48</th>\n      <td>((-0.001, 0.0412]_speechiness, major, not_expl...</td>\n      <td>24.706667</td>\n    </tr>\n  </tbody>\n</table>\n</div>"
     },
     "execution_count": 141,
     "metadata": {},
     "output_type": "execute_result"
    }
   ],
   "source": [
    "supp = 15\n",
    "zmin = 3\n",
    "\n",
    "itemsets = apriori(transactions, target=\"c\", supp=supp, zmin=zmin, report='S')\n",
    "closed_itemsets_df=pd.DataFrame(itemsets, columns=['closed_itemsets', 'support'])\n",
    "\n",
    "closed_itemsets_df"
   ],
   "metadata": {
    "collapsed": false,
    "ExecuteTime": {
     "end_time": "2023-12-29T17:39:15.887119Z",
     "start_time": "2023-12-29T17:39:15.788672Z"
    }
   },
   "id": "6660c8a14a147901"
  },
  {
   "cell_type": "code",
   "execution_count": 142,
   "outputs": [
    {
     "name": "stdout",
     "output_type": "stream",
     "text": [
      "                                      closed_itemsets    support  is_frequent\n",
      "0       ((0.131, 0.28]_liveness, major, not_explicit)  15.346667         True\n",
      "1   ((625.0, 7348.0]_n_beats, (288903.0, 4120258.0...  18.066667         True\n",
      "2      ((625.0, 7348.0]_n_beats, major, not_explicit)  15.246667         True\n",
      "3       ((0.664, 0.995]_valence, major, not_explicit)  15.326667         True\n",
      "4   ((0.58, 0.695]_danceability, major, not_explicit)  15.686667         True\n",
      "5       ((327.0, 461.0]_n_beats, major, not_explicit)  15.833333         True\n",
      "6       ((0.28, 0.994]_liveness, major, not_explicit)  15.693333         True\n",
      "7   ((180000.0, 227826.0]_duration, major, not_exp...  15.586667         True\n",
      "8   ((227826.0, 288903.0]_duration, major, not_exp...  16.460000         True\n",
      "9   ((288903.0, 4120258.0]_duration, major, not_ex...  15.166667         True\n",
      "10      ((461.0, 625.0]_n_beats, major, not_explicit)  15.800000         True\n",
      "11      ((0.416, 0.664]_valence, major, not_explicit)  15.813333         True\n",
      "12      ((0.196, 0.416]_valence, major, not_explicit)  16.046667         True\n",
      "13  ((8585.999, 180000.0]_duration, (-0.001, 327.0...  16.580000         True\n",
      "14  ((8585.999, 180000.0]_duration, major, not_exp...  15.533333         True\n",
      "15     ((-0.001, 0.196]_valence, major, not_explicit)  15.560000         True\n",
      "16  ((-0.001, 0.441]_danceability, major, not_expl...  16.993333         True\n",
      "17  ((0.441, 0.58]_danceability, major, not_explicit)  16.753333         True\n",
      "18     ((-0.001, 327.0]_n_beats, major, not_explicit)  15.866667         True\n",
      "19    ((0.0979, 0.131]_liveness, major, not_explicit)  16.793333         True\n",
      "20  ((0.0412, 0.0698]_speechiness, major, not_expl...  20.600000         True\n",
      "21  ((0.834, 1.0]_energy, (-5.791, 3.156]_loudness...  19.666667         True\n",
      "22  ((0.834, 1.0]_energy, (-0.001, 0.0316]_acousti...  18.160000         True\n",
      "23         ((0.834, 1.0]_energy, major, not_explicit)  18.960000         True\n",
      "24  ((0.415, 0.996]_acousticness, (-49.532, -9.214...  17.840000         True\n",
      "25  ((0.415, 0.996]_acousticness, (-49.532, -9.214...  17.646667         True\n",
      "26  ((0.415, 0.996]_acousticness, (-49.532, -9.214...  19.700000         True\n",
      "27  ((0.415, 0.996]_acousticness, (-0.001, 0.562]_...  17.513333         True\n",
      "28  ((0.415, 0.996]_acousticness, (-0.001, 0.562]_...  17.346667         True\n",
      "29  ((0.415, 0.996]_acousticness, (-0.001, 0.562]_...  22.813333         True\n",
      "30  ((0.415, 0.996]_acousticness, (-0.001, 0.0412]...  15.913333         True\n",
      "31  ((0.415, 0.996]_acousticness, major, not_expli...  23.886667         True\n",
      "32  ((1.27e-05, 0.377]_instrumentalness, major, no...  20.320000         True\n",
      "33  ((0.0698, 0.939]_speechiness, major, not_expli...  17.440000         True\n",
      "34   ((-9.214, -5.791]_loudness, major, not_explicit)  20.453333         True\n",
      "35  ((-49.532, -9.214]_loudness, (0.377, 1.0]_inst...  18.526667         True\n",
      "36  ((-49.532, -9.214]_loudness, (-0.001, 0.562]_e...  17.426667         True\n",
      "37  ((-49.532, -9.214]_loudness, (-0.001, 0.562]_e...  17.246667         True\n",
      "38  ((-49.532, -9.214]_loudness, (-0.001, 0.562]_e...  23.760000         True\n",
      "39  ((-49.532, -9.214]_loudness, major, not_explicit)  22.580000         True\n",
      "40  ((0.377, 1.0]_instrumentalness, major, not_exp...  19.633333         True\n",
      "41    ((-5.791, 3.156]_loudness, major, not_explicit)  19.713333         True\n",
      "42  ((-0.001, 0.0316]_acousticness, major, not_exp...  18.586667         True\n",
      "43  ((-0.001, 1.27e-05]_instrumentalness, major, n...  22.793333         True\n",
      "44  ((0.0316, 0.415]_acousticness, major, not_expl...  20.273333         True\n",
      "45  ((-0.001, 0.562]_energy, (-0.001, 0.0412]_spee...  16.606667         True\n",
      "46      ((-0.001, 0.562]_energy, major, not_explicit)  23.940000         True\n",
      "47       ((0.562, 0.834]_energy, major, not_explicit)  19.846667         True\n",
      "48  ((-0.001, 0.0412]_speechiness, major, not_expl...  24.706667         True\n"
     ]
    }
   ],
   "source": [
    "#Check is the closed itemsets are also frequent\n",
    "closed_itemsets_df['is_frequent'] = closed_itemsets_df['support'].apply(lambda x: x >= supp)\n",
    "\n",
    "# Print the closed itemsets that are also frequent\n",
    "print(closed_itemsets_df[closed_itemsets_df['is_frequent']])"
   ],
   "metadata": {
    "collapsed": false,
    "ExecuteTime": {
     "end_time": "2023-12-29T17:39:36.113791Z",
     "start_time": "2023-12-29T17:39:36.011017Z"
    }
   },
   "id": "71bc957e685b3637"
  },
  {
   "cell_type": "code",
   "execution_count": 144,
   "outputs": [],
   "source": [
    "sup = 2\n",
    "supp = 15\n",
    "zmin = 3\n",
    "\n",
    "itemsets = fpgrowth(transactions, target=\"c\", supp=supp, zmin=zmin, report='S')\n",
    "fpgrowth_closed_ds = pd.DataFrame(itemsets, columns=['closed_itemsets', 'support'])"
   ],
   "metadata": {
    "collapsed": false,
    "ExecuteTime": {
     "end_time": "2023-12-29T17:43:16.839688Z",
     "start_time": "2023-12-29T17:43:16.426387Z"
    }
   },
   "id": "ffaa613ff244d8b4"
  },
  {
   "cell_type": "code",
   "execution_count": 147,
   "outputs": [
    {
     "name": "stdout",
     "output_type": "stream",
     "text": [
      "                                      closed_itemsets    support  is_frequent\n",
      "0       ((0.131, 0.28]_liveness, major, not_explicit)  15.346667         True\n",
      "1   ((625.0, 7348.0]_n_beats, (288903.0, 4120258.0...  18.066667         True\n",
      "2      ((625.0, 7348.0]_n_beats, major, not_explicit)  15.246667         True\n",
      "3       ((0.664, 0.995]_valence, major, not_explicit)  15.326667         True\n",
      "4   ((0.58, 0.695]_danceability, major, not_explicit)  15.686667         True\n",
      "5       ((327.0, 461.0]_n_beats, major, not_explicit)  15.833333         True\n",
      "6       ((0.28, 0.994]_liveness, major, not_explicit)  15.693333         True\n",
      "7   ((180000.0, 227826.0]_duration, major, not_exp...  15.586667         True\n",
      "8   ((227826.0, 288903.0]_duration, major, not_exp...  16.460000         True\n",
      "9       ((0.416, 0.664]_valence, major, not_explicit)  15.813333         True\n",
      "10  ((288903.0, 4120258.0]_duration, major, not_ex...  15.166667         True\n",
      "11      ((461.0, 625.0]_n_beats, major, not_explicit)  15.800000         True\n",
      "12      ((0.196, 0.416]_valence, major, not_explicit)  16.046667         True\n",
      "13  ((8585.999, 180000.0]_duration, (-0.001, 327.0...  16.580000         True\n",
      "14  ((8585.999, 180000.0]_duration, major, not_exp...  15.533333         True\n",
      "15     ((-0.001, 0.196]_valence, major, not_explicit)  15.560000         True\n",
      "16  ((-0.001, 0.441]_danceability, major, not_expl...  16.993333         True\n",
      "17  ((0.441, 0.58]_danceability, major, not_explicit)  16.753333         True\n",
      "18     ((-0.001, 327.0]_n_beats, major, not_explicit)  15.866667         True\n",
      "19    ((0.0979, 0.131]_liveness, major, not_explicit)  16.793333         True\n",
      "20  ((0.0412, 0.0698]_speechiness, major, not_expl...  20.600000         True\n",
      "21  ((0.834, 1.0]_energy, (-5.791, 3.156]_loudness...  19.666667         True\n",
      "22  ((0.834, 1.0]_energy, (-0.001, 0.0316]_acousti...  18.160000         True\n",
      "23         ((0.834, 1.0]_energy, major, not_explicit)  18.960000         True\n",
      "24  ((0.415, 0.996]_acousticness, (-49.532, -9.214...  17.646667         True\n",
      "25  ((0.415, 0.996]_acousticness, (-49.532, -9.214...  17.840000         True\n",
      "26  ((0.415, 0.996]_acousticness, (-49.532, -9.214...  19.700000         True\n",
      "27  ((0.415, 0.996]_acousticness, (-0.001, 0.562]_...  17.346667         True\n",
      "28  ((0.415, 0.996]_acousticness, (-0.001, 0.562]_...  17.513333         True\n",
      "29  ((0.415, 0.996]_acousticness, (-0.001, 0.562]_...  22.813333         True\n",
      "30  ((0.415, 0.996]_acousticness, (-0.001, 0.0412]...  15.913333         True\n",
      "31  ((0.415, 0.996]_acousticness, major, not_expli...  23.886667         True\n",
      "32  ((1.27e-05, 0.377]_instrumentalness, major, no...  20.320000         True\n",
      "33  ((0.0698, 0.939]_speechiness, major, not_expli...  17.440000         True\n",
      "34  ((-49.532, -9.214]_loudness, (0.377, 1.0]_inst...  18.526667         True\n",
      "35  ((-49.532, -9.214]_loudness, (-0.001, 0.562]_e...  17.246667         True\n",
      "36  ((-49.532, -9.214]_loudness, (-0.001, 0.562]_e...  17.426667         True\n",
      "37  ((-49.532, -9.214]_loudness, (-0.001, 0.562]_e...  23.760000         True\n",
      "38  ((-49.532, -9.214]_loudness, major, not_explicit)  22.580000         True\n",
      "39  ((0.377, 1.0]_instrumentalness, major, not_exp...  19.633333         True\n",
      "40    ((-5.791, 3.156]_loudness, major, not_explicit)  19.713333         True\n",
      "41  ((-0.001, 0.0316]_acousticness, major, not_exp...  18.586667         True\n",
      "42   ((-9.214, -5.791]_loudness, major, not_explicit)  20.453333         True\n",
      "43  ((-0.001, 1.27e-05]_instrumentalness, major, n...  22.793333         True\n",
      "44  ((0.0316, 0.415]_acousticness, major, not_expl...  20.273333         True\n",
      "45  ((-0.001, 0.562]_energy, (-0.001, 0.0412]_spee...  16.606667         True\n",
      "46      ((-0.001, 0.562]_energy, major, not_explicit)  23.940000         True\n",
      "47       ((0.562, 0.834]_energy, major, not_explicit)  19.846667         True\n",
      "48  ((-0.001, 0.0412]_speechiness, major, not_expl...  24.706667         True\n"
     ]
    }
   ],
   "source": [
    "#Check is the closed itemsets are also frequent\n",
    "fpgrowth_closed_ds['is_frequent'] = fpgrowth_closed_ds['support'].apply(lambda x: x >= supp)\n",
    "\n",
    "# Print the number of itemsets that are also frequent\n",
    "print(fpgrowth_closed_ds[fpgrowth_closed_ds['is_frequent']])"
   ],
   "metadata": {
    "collapsed": false,
    "ExecuteTime": {
     "end_time": "2023-12-29T17:44:12.219666Z",
     "start_time": "2023-12-29T17:44:12.061236Z"
    }
   },
   "id": "7bc4d1c160fb4d43"
  },
  {
   "cell_type": "markdown",
   "source": [
    "## Maximal Itemsets"
   ],
   "metadata": {
    "collapsed": false
   },
   "id": "a016df4f2a9fe955"
  },
  {
   "cell_type": "code",
   "execution_count": 151,
   "outputs": [
    {
     "data": {
      "text/plain": "                                     maximal_itemsets    support\n0   ((0.0412, 0.0698]_speechiness, major, not_expl...  20.600000\n1   ((0.415, 0.996]_acousticness, (-0.001, 0.562]_...  22.813333\n2   ((0.415, 0.996]_acousticness, major, not_expli...  23.886667\n3   ((1.27e-05, 0.377]_instrumentalness, major, no...  20.320000\n4   ((-49.532, -9.214]_loudness, (-0.001, 0.562]_e...  23.760000\n5   ((-49.532, -9.214]_loudness, major, not_explicit)  22.580000\n6    ((-9.214, -5.791]_loudness, major, not_explicit)  20.453333\n7   ((-0.001, 1.27e-05]_instrumentalness, major, n...  22.793333\n8   ((0.0316, 0.415]_acousticness, major, not_expl...  20.273333\n9       ((-0.001, 0.562]_energy, major, not_explicit)  23.940000\n10  ((-0.001, 0.0412]_speechiness, major, not_expl...  24.706667",
      "text/html": "<div>\n<style scoped>\n    .dataframe tbody tr th:only-of-type {\n        vertical-align: middle;\n    }\n\n    .dataframe tbody tr th {\n        vertical-align: top;\n    }\n\n    .dataframe thead th {\n        text-align: right;\n    }\n</style>\n<table border=\"1\" class=\"dataframe\">\n  <thead>\n    <tr style=\"text-align: right;\">\n      <th></th>\n      <th>maximal_itemsets</th>\n      <th>support</th>\n    </tr>\n  </thead>\n  <tbody>\n    <tr>\n      <th>0</th>\n      <td>((0.0412, 0.0698]_speechiness, major, not_expl...</td>\n      <td>20.600000</td>\n    </tr>\n    <tr>\n      <th>1</th>\n      <td>((0.415, 0.996]_acousticness, (-0.001, 0.562]_...</td>\n      <td>22.813333</td>\n    </tr>\n    <tr>\n      <th>2</th>\n      <td>((0.415, 0.996]_acousticness, major, not_expli...</td>\n      <td>23.886667</td>\n    </tr>\n    <tr>\n      <th>3</th>\n      <td>((1.27e-05, 0.377]_instrumentalness, major, no...</td>\n      <td>20.320000</td>\n    </tr>\n    <tr>\n      <th>4</th>\n      <td>((-49.532, -9.214]_loudness, (-0.001, 0.562]_e...</td>\n      <td>23.760000</td>\n    </tr>\n    <tr>\n      <th>5</th>\n      <td>((-49.532, -9.214]_loudness, major, not_explicit)</td>\n      <td>22.580000</td>\n    </tr>\n    <tr>\n      <th>6</th>\n      <td>((-9.214, -5.791]_loudness, major, not_explicit)</td>\n      <td>20.453333</td>\n    </tr>\n    <tr>\n      <th>7</th>\n      <td>((-0.001, 1.27e-05]_instrumentalness, major, n...</td>\n      <td>22.793333</td>\n    </tr>\n    <tr>\n      <th>8</th>\n      <td>((0.0316, 0.415]_acousticness, major, not_expl...</td>\n      <td>20.273333</td>\n    </tr>\n    <tr>\n      <th>9</th>\n      <td>((-0.001, 0.562]_energy, major, not_explicit)</td>\n      <td>23.940000</td>\n    </tr>\n    <tr>\n      <th>10</th>\n      <td>((-0.001, 0.0412]_speechiness, major, not_expl...</td>\n      <td>24.706667</td>\n    </tr>\n  </tbody>\n</table>\n</div>"
     },
     "execution_count": 151,
     "metadata": {},
     "output_type": "execute_result"
    }
   ],
   "source": [
    "supp = 20\n",
    "zmin = 3\n",
    "\n",
    "itemsets = apriori(transactions, target=\"m\", supp=supp, zmin=zmin, report='S')\n",
    "pd.DataFrame(itemsets, columns=['maximal_itemsets', 'support'])"
   ],
   "metadata": {
    "collapsed": false,
    "ExecuteTime": {
     "end_time": "2023-12-29T17:45:33.842892Z",
     "start_time": "2023-12-29T17:45:33.812116Z"
    }
   },
   "id": "2625f8e63b9ee58d"
  },
  {
   "cell_type": "code",
   "execution_count": 152,
   "outputs": [
    {
     "data": {
      "text/plain": "                                     maximal_itemsets    support\n0   ((0.0412, 0.0698]_speechiness, major, not_expl...  20.600000\n1   ((0.415, 0.996]_acousticness, (-0.001, 0.562]_...  22.813333\n2   ((0.415, 0.996]_acousticness, major, not_expli...  23.886667\n3   ((1.27e-05, 0.377]_instrumentalness, major, no...  20.320000\n4   ((-49.532, -9.214]_loudness, (-0.001, 0.562]_e...  23.760000\n5   ((-49.532, -9.214]_loudness, major, not_explicit)  22.580000\n6    ((-9.214, -5.791]_loudness, major, not_explicit)  20.453333\n7   ((-0.001, 1.27e-05]_instrumentalness, major, n...  22.793333\n8   ((0.0316, 0.415]_acousticness, major, not_expl...  20.273333\n9       ((-0.001, 0.562]_energy, major, not_explicit)  23.940000\n10  ((-0.001, 0.0412]_speechiness, major, not_expl...  24.706667",
      "text/html": "<div>\n<style scoped>\n    .dataframe tbody tr th:only-of-type {\n        vertical-align: middle;\n    }\n\n    .dataframe tbody tr th {\n        vertical-align: top;\n    }\n\n    .dataframe thead th {\n        text-align: right;\n    }\n</style>\n<table border=\"1\" class=\"dataframe\">\n  <thead>\n    <tr style=\"text-align: right;\">\n      <th></th>\n      <th>maximal_itemsets</th>\n      <th>support</th>\n    </tr>\n  </thead>\n  <tbody>\n    <tr>\n      <th>0</th>\n      <td>((0.0412, 0.0698]_speechiness, major, not_expl...</td>\n      <td>20.600000</td>\n    </tr>\n    <tr>\n      <th>1</th>\n      <td>((0.415, 0.996]_acousticness, (-0.001, 0.562]_...</td>\n      <td>22.813333</td>\n    </tr>\n    <tr>\n      <th>2</th>\n      <td>((0.415, 0.996]_acousticness, major, not_expli...</td>\n      <td>23.886667</td>\n    </tr>\n    <tr>\n      <th>3</th>\n      <td>((1.27e-05, 0.377]_instrumentalness, major, no...</td>\n      <td>20.320000</td>\n    </tr>\n    <tr>\n      <th>4</th>\n      <td>((-49.532, -9.214]_loudness, (-0.001, 0.562]_e...</td>\n      <td>23.760000</td>\n    </tr>\n    <tr>\n      <th>5</th>\n      <td>((-49.532, -9.214]_loudness, major, not_explicit)</td>\n      <td>22.580000</td>\n    </tr>\n    <tr>\n      <th>6</th>\n      <td>((-9.214, -5.791]_loudness, major, not_explicit)</td>\n      <td>20.453333</td>\n    </tr>\n    <tr>\n      <th>7</th>\n      <td>((-0.001, 1.27e-05]_instrumentalness, major, n...</td>\n      <td>22.793333</td>\n    </tr>\n    <tr>\n      <th>8</th>\n      <td>((0.0316, 0.415]_acousticness, major, not_expl...</td>\n      <td>20.273333</td>\n    </tr>\n    <tr>\n      <th>9</th>\n      <td>((-0.001, 0.562]_energy, major, not_explicit)</td>\n      <td>23.940000</td>\n    </tr>\n    <tr>\n      <th>10</th>\n      <td>((-0.001, 0.0412]_speechiness, major, not_expl...</td>\n      <td>24.706667</td>\n    </tr>\n  </tbody>\n</table>\n</div>"
     },
     "execution_count": 152,
     "metadata": {},
     "output_type": "execute_result"
    }
   ],
   "source": [
    "sup = 2\n",
    "supp = 20\n",
    "zmin = 3\n",
    "\n",
    "itemsets = fpgrowth(transactions, target=\"m\", supp=supp, zmin=zmin, report='S')\n",
    "pd.DataFrame(itemsets, columns=['maximal_itemsets', 'support'])"
   ],
   "metadata": {
    "collapsed": false,
    "ExecuteTime": {
     "end_time": "2023-12-29T17:45:45.532503Z",
     "start_time": "2023-12-29T17:45:45.425405Z"
    }
   },
   "id": "29d379c9b7de7949"
  },
  {
   "cell_type": "markdown",
   "source": [
    "# Support plots"
   ],
   "metadata": {
    "collapsed": false
   },
   "id": "4b1670774cc6ecae"
  },
  {
   "cell_type": "markdown",
   "source": [
    "Support vs number of itemsets"
   ],
   "metadata": {
    "collapsed": false
   },
   "id": "b62222d64599d4ac"
  },
  {
   "cell_type": "code",
   "execution_count": 129,
   "outputs": [
    {
     "data": {
      "text/plain": "<Figure size 2000x2000 with 1 Axes>",
      "image/png": "[encoded data removed]"
     },
     "metadata": {},
     "output_type": "display_data"
    }
   ],
   "source": [
    "len_max_it = []\n",
    "len_cl_it = []\n",
    "max_supp = 30\n",
    "zmin = 5\n",
    "\n",
    "for i in range (2, max_supp):\n",
    "    max_itemsets = apriori(transactions, target=\"m\", supp=i, zmin=zmin)\n",
    "    cl_itemsets = apriori(transactions, target=\"c\", supp=i, zmin=zmin)\n",
    "    len_max_it.append(len(max_itemsets))\n",
    "    len_cl_it.append(len(cl_itemsets))\n",
    "    \n",
    "plt.figure(figsize=(20, 20))\n",
    "plt.plot(np.arange(2, max_supp), len_max_it, label='Maximal itemsets')\n",
    "plt.plot(np.arange(2, max_supp), len_cl_it, label='Closed itemsets')\n",
    "plt.xlabel('Support')\n",
    "plt.ylabel('Number of itemsets')\n",
    "plt.legend()\n",
    "plt.show()"
   ],
   "metadata": {
    "collapsed": false,
    "ExecuteTime": {
     "end_time": "2023-12-29T17:15:29.792619Z",
     "start_time": "2023-12-29T17:15:22.338996Z"
    }
   },
   "id": "dd9038e722a6e1ed"
  },
  {
   "cell_type": "markdown",
   "source": [
    "Closed vs maximal vs frequent"
   ],
   "metadata": {
    "collapsed": false
   },
   "id": "7c1f3794fa1b8ae"
  },
  {
   "cell_type": "code",
   "execution_count": 154,
   "outputs": [
    {
     "data": {
      "text/plain": "<Figure size 1000x600 with 1 Axes>",
      "image/png": "[encoded data removed]"
     },
     "metadata": {},
     "output_type": "display_data"
    }
   ],
   "source": [
    "import matplotlib.pyplot as plt\n",
    "\n",
    "# Define a range of support values\n",
    "support_values = range(2, 30)\n",
    "\n",
    "# Initialize lists to store the counts\n",
    "frequent_counts = []\n",
    "maximal_counts = []\n",
    "closed_counts = []\n",
    "\n",
    "# For each support value\n",
    "for supp in support_values:\n",
    "    # Generate frequent, maximal, and closed itemsets\n",
    "    frequent_itemsets = apriori(transactions, target=\"s\", supp=supp, zmin=3)\n",
    "    maximal_itemsets = apriori(transactions, target=\"m\", supp=supp, zmin=3)\n",
    "    closed_itemsets = apriori(transactions, target=\"c\", supp=supp, zmin=3)\n",
    "    \n",
    "    # Count the number of itemsets and store the counts\n",
    "    frequent_counts.append(len(frequent_itemsets))\n",
    "    maximal_counts.append(len(maximal_itemsets))\n",
    "    closed_counts.append(len(closed_itemsets))\n",
    "\n",
    "# Plot the counts against the support values\n",
    "plt.figure(figsize=(10, 6))\n",
    "plt.plot(support_values, frequent_counts, label='Frequent')\n",
    "plt.plot(support_values, maximal_counts, label='Maximal')\n",
    "plt.plot(support_values, closed_counts, label='Closed')\n",
    "plt.xlabel('Support')\n",
    "plt.ylabel('Number of Itemsets')\n",
    "plt.legend()\n",
    "plt.show()"
   ],
   "metadata": {
    "collapsed": false,
    "ExecuteTime": {
     "end_time": "2023-12-29T18:06:47.792975Z",
     "start_time": "2023-12-29T18:06:40.666339Z"
    }
   },
   "id": "29e87ae6c4c48bbf"
  },
  {
   "cell_type": "markdown",
   "source": [
    "Support vs number of itemsets for minor/not minor songs"
   ],
   "metadata": {
    "collapsed": false
   },
   "id": "e5bcc71fc3309192"
  },
  {
   "cell_type": "code",
   "execution_count": 156,
   "outputs": [
    {
     "data": {
      "text/plain": "<Figure size 1000x1000 with 1 Axes>",
      "image/png": "[encoded data removed]"
     },
     "metadata": {},
     "output_type": "display_data"
    }
   ],
   "source": [
    "filter_1 = []\n",
    "filter_2 = []\n",
    "max_supp = 25\n",
    "\n",
    "for i in range (2, max_supp):\n",
    "    max_itemsets = apriori(transactions, target=\"m\", supp=i, zmin=zmin)\n",
    "    filter_1.append(len([item for item in max_itemsets if 'major' in item[0]]))\n",
    "    filter_2.append(len([item for item in max_itemsets if 'minor' in item[0]]))\n",
    "    \n",
    "plt.figure(figsize=(10, 10))\n",
    "plt.plot(np.arange(2, max_supp), filter_1, label='major')\n",
    "plt.plot(np.arange(2, max_supp), filter_2, label='minor')\n",
    "plt.xlabel('Support')\n",
    "plt.ylabel('Number of itemsets')\n",
    "plt.legend()\n",
    "plt.xticks()\n",
    "plt.show()"
   ],
   "metadata": {
    "collapsed": false,
    "ExecuteTime": {
     "end_time": "2023-12-29T18:24:38.578222Z",
     "start_time": "2023-12-29T18:24:34.662277Z"
    }
   },
   "id": "28f8080af2ddf7b9"
  },
  {
   "cell_type": "markdown",
   "source": [
    "Creation of rules dataset"
   ],
   "metadata": {
    "collapsed": false
   },
   "id": "4708f3f3f323f2b7"
  },
  {
   "cell_type": "code",
   "execution_count": 265,
   "outputs": [
    {
     "data": {
      "text/plain": "                consequent                                         antecedent  \\\n29  (-0.001, 0.562]_energy  ((0.415, 0.996]_acousticness, (-49.532, -9.214...   \n30  (-0.001, 0.562]_energy  ((0.415, 0.996]_acousticness, (-49.532, -9.214...   \n24     (0.834, 1.0]_energy  ((-0.001, 0.0316]_acousticness, (-5.791, 3.156...   \n34                   major  ((0.415, 0.996]_acousticness, (-0.001, 0.0412]...   \n56                   major  ((-0.001, 0.562]_energy, (-0.001, 0.0412]_spee...   \n..                     ...                                                ...   \n49            not_explicit  ((-5.791, 3.156]_loudness, (-0.001, 1.27e-05]_...   \n52            not_explicit  ((-0.001, 1.27e-05]_instrumentalness, (0.0316,...   \n40            not_explicit               ((0.0698, 0.939]_speechiness, major)   \n23            not_explicit  ((0.834, 1.0]_energy, (0.0698, 0.939]_speechin...   \n39            not_explicit  ((0.0698, 0.939]_speechiness, (-5.791, 3.156]_...   \n\n    abs_support  %_support  confidence      lift  \n29         2647  17.646667    0.895770  2.682481  \n30         2676  17.840000    0.894684  2.679230  \n24         1985  13.233333    0.820248  2.472116  \n34         1917  12.780000    0.803100  1.208396  \n56         2000  13.333333    0.802890  1.208081  \n..          ...        ...         ...       ...  \n49         2027  13.513333    0.883224  0.944019  \n52         2058  13.720000    0.876117  0.936423  \n40         2616  17.440000    0.859396  0.918550  \n23         2044  13.626667    0.857023  0.916014  \n39         1865  12.433333    0.820141  0.876593  \n\n[62 rows x 6 columns]",
      "text/html": "<div>\n<style scoped>\n    .dataframe tbody tr th:only-of-type {\n        vertical-align: middle;\n    }\n\n    .dataframe tbody tr th {\n        vertical-align: top;\n    }\n\n    .dataframe thead th {\n        text-align: right;\n    }\n</style>\n<table border=\"1\" class=\"dataframe\">\n  <thead>\n    <tr style=\"text-align: right;\">\n      <th></th>\n      <th>consequent</th>\n      <th>antecedent</th>\n      <th>abs_support</th>\n      <th>%_support</th>\n      <th>confidence</th>\n      <th>lift</th>\n    </tr>\n  </thead>\n  <tbody>\n    <tr>\n      <th>29</th>\n      <td>(-0.001, 0.562]_energy</td>\n      <td>((0.415, 0.996]_acousticness, (-49.532, -9.214...</td>\n      <td>2647</td>\n      <td>17.646667</td>\n      <td>0.895770</td>\n      <td>2.682481</td>\n    </tr>\n    <tr>\n      <th>30</th>\n      <td>(-0.001, 0.562]_energy</td>\n      <td>((0.415, 0.996]_acousticness, (-49.532, -9.214...</td>\n      <td>2676</td>\n      <td>17.840000</td>\n      <td>0.894684</td>\n      <td>2.679230</td>\n    </tr>\n    <tr>\n      <th>24</th>\n      <td>(0.834, 1.0]_energy</td>\n      <td>((-0.001, 0.0316]_acousticness, (-5.791, 3.156...</td>\n      <td>1985</td>\n      <td>13.233333</td>\n      <td>0.820248</td>\n      <td>2.472116</td>\n    </tr>\n    <tr>\n      <th>34</th>\n      <td>major</td>\n      <td>((0.415, 0.996]_acousticness, (-0.001, 0.0412]...</td>\n      <td>1917</td>\n      <td>12.780000</td>\n      <td>0.803100</td>\n      <td>1.208396</td>\n    </tr>\n    <tr>\n      <th>56</th>\n      <td>major</td>\n      <td>((-0.001, 0.562]_energy, (-0.001, 0.0412]_spee...</td>\n      <td>2000</td>\n      <td>13.333333</td>\n      <td>0.802890</td>\n      <td>1.208081</td>\n    </tr>\n    <tr>\n      <th>...</th>\n      <td>...</td>\n      <td>...</td>\n      <td>...</td>\n      <td>...</td>\n      <td>...</td>\n      <td>...</td>\n    </tr>\n    <tr>\n      <th>49</th>\n      <td>not_explicit</td>\n      <td>((-5.791, 3.156]_loudness, (-0.001, 1.27e-05]_...</td>\n      <td>2027</td>\n      <td>13.513333</td>\n      <td>0.883224</td>\n      <td>0.944019</td>\n    </tr>\n    <tr>\n      <th>52</th>\n      <td>not_explicit</td>\n      <td>((-0.001, 1.27e-05]_instrumentalness, (0.0316,...</td>\n      <td>2058</td>\n      <td>13.720000</td>\n      <td>0.876117</td>\n      <td>0.936423</td>\n    </tr>\n    <tr>\n      <th>40</th>\n      <td>not_explicit</td>\n      <td>((0.0698, 0.939]_speechiness, major)</td>\n      <td>2616</td>\n      <td>17.440000</td>\n      <td>0.859396</td>\n      <td>0.918550</td>\n    </tr>\n    <tr>\n      <th>23</th>\n      <td>not_explicit</td>\n      <td>((0.834, 1.0]_energy, (0.0698, 0.939]_speechin...</td>\n      <td>2044</td>\n      <td>13.626667</td>\n      <td>0.857023</td>\n      <td>0.916014</td>\n    </tr>\n    <tr>\n      <th>39</th>\n      <td>not_explicit</td>\n      <td>((0.0698, 0.939]_speechiness, (-5.791, 3.156]_...</td>\n      <td>1865</td>\n      <td>12.433333</td>\n      <td>0.820141</td>\n      <td>0.876593</td>\n    </tr>\n  </tbody>\n</table>\n<p>62 rows × 6 columns</p>\n</div>"
     },
     "execution_count": 265,
     "metadata": {},
     "output_type": "execute_result"
    }
   ],
   "source": [
    "supp = 15  \n",
    "zmin = 3\n",
    "\n",
    "rules = apriori(transactions, target=\"r\", supp=supp, zmin=zmin, report='aScl')\n",
    "rules_df = pd.DataFrame(\n",
    "    rules,\n",
    "    columns=['consequent', 'antecedent', 'abs_support', '%_support', 'confidence', 'lift'],)\n",
    "\n",
    "rules_df.sort_values(by=\"lift\", axis=0, ascending=False)"
   ],
   "metadata": {
    "collapsed": false,
    "ExecuteTime": {
     "end_time": "2023-12-30T16:35:11.126339Z",
     "start_time": "2023-12-30T16:35:11.092435Z"
    }
   },
   "id": "a59e8c67e956cb51"
  },
  {
   "cell_type": "code",
   "execution_count": 182,
   "outputs": [
    {
     "name": "stdout",
     "output_type": "stream",
     "text": [
      "Descriptive Statistics:\n",
      "       abs_support  %_support  confidence       lift\n",
      "count    62.000000  62.000000   62.000000  62.000000\n",
      "mean   2584.096774  17.227312    0.929457   1.097338\n",
      "std     464.845284   3.098969    0.053060   0.350659\n",
      "min    1865.000000  12.433333    0.801274   0.876593\n",
      "25%    2290.000000  15.266667    0.903144   0.992551\n",
      "50%    2489.000000  16.593333    0.938078   1.013076\n",
      "75%    2919.750000  19.465000    0.969618   1.053253\n",
      "max    3706.000000  24.706667    0.994275   2.682481\n",
      "\n",
      "Rules with Highest Lift:\n",
      "                consequent                                         antecedent  \\\n",
      "29  (-0.001, 0.562]_energy  ((0.415, 0.996]_acousticness, (-49.532, -9.214...   \n",
      "30  (-0.001, 0.562]_energy  ((0.415, 0.996]_acousticness, (-49.532, -9.214...   \n",
      "24     (0.834, 1.0]_energy  ((-0.001, 0.0316]_acousticness, (-5.791, 3.156...   \n",
      "34                   major  ((0.415, 0.996]_acousticness, (-0.001, 0.0412]...   \n",
      "56                   major  ((-0.001, 0.562]_energy, (-0.001, 0.0412]_spee...   \n",
      "\n",
      "    abs_support  %_support  confidence      lift  \n",
      "29         2647  17.646667    0.895770  2.682481  \n",
      "30         2676  17.840000    0.894684  2.679230  \n",
      "24         1985  13.233333    0.820248  2.472116  \n",
      "34         1917  12.780000    0.803100  1.208396  \n",
      "56         2000  13.333333    0.802890  1.208081  \n",
      "\n",
      "Rules with Highest Confidence:\n",
      "      consequent                                         antecedent  \\\n",
      "45  not_explicit  ((-49.532, -9.214]_loudness, (0.377, 1.0]_inst...   \n",
      "36  not_explicit  ((0.415, 0.996]_acousticness, (-0.001, 0.0412]...   \n",
      "58  not_explicit  ((-0.001, 0.562]_energy, (-0.001, 0.0412]_spee...   \n",
      "32  not_explicit  ((0.415, 0.996]_acousticness, (-0.001, 0.562]_...   \n",
      "61  not_explicit              ((-0.001, 0.0412]_speechiness, major)   \n",
      "\n",
      "    abs_support  %_support  confidence      lift  \n",
      "45         2779  18.526667    0.994275  1.062714  \n",
      "36         2387  15.913333    0.993342  1.061716  \n",
      "58         2491  16.606667    0.992035  1.060320  \n",
      "32         2602  17.346667    0.990483  1.058661  \n",
      "61         3706  24.706667    0.990115  1.058267  \n"
     ]
    }
   ],
   "source": [
    "# Quantitative Analysis\n",
    "# Descriptive statistics\n",
    "print(\"Descriptive Statistics:\")\n",
    "print(rules_df.describe())\n",
    "\n",
    "# Correlation\n",
    "\n",
    "# Qualitative Analysis\n",
    "# Rules with highest lift\n",
    "print(\"\\nRules with Highest Lift:\")\n",
    "print(rules_df.sort_values(by='lift', ascending=False).head())\n",
    "\n",
    "# Rules with highest confidence\n",
    "print(\"\\nRules with Highest Confidence:\")\n",
    "print(rules_df.sort_values(by='confidence', ascending=False).head())"
   ],
   "metadata": {
    "collapsed": false,
    "ExecuteTime": {
     "end_time": "2023-12-29T21:16:29.384179Z",
     "start_time": "2023-12-29T21:16:29.223892Z"
    }
   },
   "id": "eb683d699978ba06"
  },
  {
   "cell_type": "code",
   "execution_count": 184,
   "outputs": [
    {
     "data": {
      "text/plain": "      consequent                                         antecedent  \\\n45  not_explicit  ((-49.532, -9.214]_loudness, (0.377, 1.0]_inst...   \n36  not_explicit  ((0.415, 0.996]_acousticness, (-0.001, 0.0412]...   \n58  not_explicit  ((-0.001, 0.562]_energy, (-0.001, 0.0412]_spee...   \n32  not_explicit  ((0.415, 0.996]_acousticness, (-0.001, 0.562]_...   \n61  not_explicit              ((-0.001, 0.0412]_speechiness, major)   \n46  not_explicit  ((-49.532, -9.214]_loudness, (-0.001, 0.562]_e...   \n28  not_explicit  ((0.415, 0.996]_acousticness, (-49.532, -9.214...   \n31  not_explicit  ((0.415, 0.996]_acousticness, (-49.532, -9.214...   \n48  not_explicit                ((-49.532, -9.214]_loudness, major)   \n33  not_explicit  ((0.415, 0.996]_acousticness, (-0.001, 0.562]_...   \n\n    abs_support  %_support  confidence      lift  \n45         2779  18.526667    0.994275  1.062714  \n36         2387  15.913333    0.993342  1.061716  \n58         2491  16.606667    0.992035  1.060320  \n32         2602  17.346667    0.990483  1.058661  \n61         3706  24.706667    0.990115  1.058267  \n46         2587  17.246667    0.989671  1.057793  \n28         2647  17.646667    0.989163  1.057250  \n31         2955  19.700000    0.987964  1.055968  \n48         3387  22.580000    0.986026  1.053897  \n33         3422  22.813333    0.983616  1.051321  ",
      "text/html": "<div>\n<style scoped>\n    .dataframe tbody tr th:only-of-type {\n        vertical-align: middle;\n    }\n\n    .dataframe tbody tr th {\n        vertical-align: top;\n    }\n\n    .dataframe thead th {\n        text-align: right;\n    }\n</style>\n<table border=\"1\" class=\"dataframe\">\n  <thead>\n    <tr style=\"text-align: right;\">\n      <th></th>\n      <th>consequent</th>\n      <th>antecedent</th>\n      <th>abs_support</th>\n      <th>%_support</th>\n      <th>confidence</th>\n      <th>lift</th>\n    </tr>\n  </thead>\n  <tbody>\n    <tr>\n      <th>45</th>\n      <td>not_explicit</td>\n      <td>((-49.532, -9.214]_loudness, (0.377, 1.0]_inst...</td>\n      <td>2779</td>\n      <td>18.526667</td>\n      <td>0.994275</td>\n      <td>1.062714</td>\n    </tr>\n    <tr>\n      <th>36</th>\n      <td>not_explicit</td>\n      <td>((0.415, 0.996]_acousticness, (-0.001, 0.0412]...</td>\n      <td>2387</td>\n      <td>15.913333</td>\n      <td>0.993342</td>\n      <td>1.061716</td>\n    </tr>\n    <tr>\n      <th>58</th>\n      <td>not_explicit</td>\n      <td>((-0.001, 0.562]_energy, (-0.001, 0.0412]_spee...</td>\n      <td>2491</td>\n      <td>16.606667</td>\n      <td>0.992035</td>\n      <td>1.060320</td>\n    </tr>\n    <tr>\n      <th>32</th>\n      <td>not_explicit</td>\n      <td>((0.415, 0.996]_acousticness, (-0.001, 0.562]_...</td>\n      <td>2602</td>\n      <td>17.346667</td>\n      <td>0.990483</td>\n      <td>1.058661</td>\n    </tr>\n    <tr>\n      <th>61</th>\n      <td>not_explicit</td>\n      <td>((-0.001, 0.0412]_speechiness, major)</td>\n      <td>3706</td>\n      <td>24.706667</td>\n      <td>0.990115</td>\n      <td>1.058267</td>\n    </tr>\n    <tr>\n      <th>46</th>\n      <td>not_explicit</td>\n      <td>((-49.532, -9.214]_loudness, (-0.001, 0.562]_e...</td>\n      <td>2587</td>\n      <td>17.246667</td>\n      <td>0.989671</td>\n      <td>1.057793</td>\n    </tr>\n    <tr>\n      <th>28</th>\n      <td>not_explicit</td>\n      <td>((0.415, 0.996]_acousticness, (-49.532, -9.214...</td>\n      <td>2647</td>\n      <td>17.646667</td>\n      <td>0.989163</td>\n      <td>1.057250</td>\n    </tr>\n    <tr>\n      <th>31</th>\n      <td>not_explicit</td>\n      <td>((0.415, 0.996]_acousticness, (-49.532, -9.214...</td>\n      <td>2955</td>\n      <td>19.700000</td>\n      <td>0.987964</td>\n      <td>1.055968</td>\n    </tr>\n    <tr>\n      <th>48</th>\n      <td>not_explicit</td>\n      <td>((-49.532, -9.214]_loudness, major)</td>\n      <td>3387</td>\n      <td>22.580000</td>\n      <td>0.986026</td>\n      <td>1.053897</td>\n    </tr>\n    <tr>\n      <th>33</th>\n      <td>not_explicit</td>\n      <td>((0.415, 0.996]_acousticness, (-0.001, 0.562]_...</td>\n      <td>3422</td>\n      <td>22.813333</td>\n      <td>0.983616</td>\n      <td>1.051321</td>\n    </tr>\n  </tbody>\n</table>\n</div>"
     },
     "execution_count": 184,
     "metadata": {},
     "output_type": "execute_result"
    }
   ],
   "source": [
    "#create dataset with rules with higest confidence \n",
    "rules_df.sort_values(by='confidence', ascending=False).head(10)\n"
   ],
   "metadata": {
    "collapsed": false,
    "ExecuteTime": {
     "end_time": "2023-12-29T21:19:56.755517Z",
     "start_time": "2023-12-29T21:19:56.454763Z"
    }
   },
   "id": "8117f8fd4cd3c109"
  },
  {
   "cell_type": "code",
   "execution_count": 320,
   "outputs": [
    {
     "data": {
      "text/plain": "                consequent                                         antecedent  \\\n29  (-0.001, 0.562]_energy  ((0.415, 0.996]_acousticness, (-49.532, -9.214...   \n30  (-0.001, 0.562]_energy  ((0.415, 0.996]_acousticness, (-49.532, -9.214...   \n24     (0.834, 1.0]_energy  ((-0.001, 0.0316]_acousticness, (-5.791, 3.156...   \n34                   major  ((0.415, 0.996]_acousticness, (-0.001, 0.0412]...   \n56                   major  ((-0.001, 0.562]_energy, (-0.001, 0.0412]_spee...   \n..                     ...                                                ...   \n49            not_explicit  ((-5.791, 3.156]_loudness, (-0.001, 1.27e-05]_...   \n52            not_explicit  ((-0.001, 1.27e-05]_instrumentalness, (0.0316,...   \n40            not_explicit               ((0.0698, 0.939]_speechiness, major)   \n23            not_explicit  ((0.834, 1.0]_energy, (0.0698, 0.939]_speechin...   \n39            not_explicit  ((0.0698, 0.939]_speechiness, (-5.791, 3.156]_...   \n\n    abs_support  %_support  confidence      lift  \n29         2647  17.646667    0.895770  2.682481  \n30         2676  17.840000    0.894684  2.679230  \n24         1985  13.233333    0.820248  2.472116  \n34         1917  12.780000    0.803100  1.208396  \n56         2000  13.333333    0.802890  1.208081  \n..          ...        ...         ...       ...  \n49         2027  13.513333    0.883224  0.944019  \n52         2058  13.720000    0.876117  0.936423  \n40         2616  17.440000    0.859396  0.918550  \n23         2044  13.626667    0.857023  0.916014  \n39         1865  12.433333    0.820141  0.876593  \n\n[62 rows x 6 columns]",
      "text/html": "<div>\n<style scoped>\n    .dataframe tbody tr th:only-of-type {\n        vertical-align: middle;\n    }\n\n    .dataframe tbody tr th {\n        vertical-align: top;\n    }\n\n    .dataframe thead th {\n        text-align: right;\n    }\n</style>\n<table border=\"1\" class=\"dataframe\">\n  <thead>\n    <tr style=\"text-align: right;\">\n      <th></th>\n      <th>consequent</th>\n      <th>antecedent</th>\n      <th>abs_support</th>\n      <th>%_support</th>\n      <th>confidence</th>\n      <th>lift</th>\n    </tr>\n  </thead>\n  <tbody>\n    <tr>\n      <th>29</th>\n      <td>(-0.001, 0.562]_energy</td>\n      <td>((0.415, 0.996]_acousticness, (-49.532, -9.214...</td>\n      <td>2647</td>\n      <td>17.646667</td>\n      <td>0.895770</td>\n      <td>2.682481</td>\n    </tr>\n    <tr>\n      <th>30</th>\n      <td>(-0.001, 0.562]_energy</td>\n      <td>((0.415, 0.996]_acousticness, (-49.532, -9.214...</td>\n      <td>2676</td>\n      <td>17.840000</td>\n      <td>0.894684</td>\n      <td>2.679230</td>\n    </tr>\n    <tr>\n      <th>24</th>\n      <td>(0.834, 1.0]_energy</td>\n      <td>((-0.001, 0.0316]_acousticness, (-5.791, 3.156...</td>\n      <td>1985</td>\n      <td>13.233333</td>\n      <td>0.820248</td>\n      <td>2.472116</td>\n    </tr>\n    <tr>\n      <th>34</th>\n      <td>major</td>\n      <td>((0.415, 0.996]_acousticness, (-0.001, 0.0412]...</td>\n      <td>1917</td>\n      <td>12.780000</td>\n      <td>0.803100</td>\n      <td>1.208396</td>\n    </tr>\n    <tr>\n      <th>56</th>\n      <td>major</td>\n      <td>((-0.001, 0.562]_energy, (-0.001, 0.0412]_spee...</td>\n      <td>2000</td>\n      <td>13.333333</td>\n      <td>0.802890</td>\n      <td>1.208081</td>\n    </tr>\n    <tr>\n      <th>...</th>\n      <td>...</td>\n      <td>...</td>\n      <td>...</td>\n      <td>...</td>\n      <td>...</td>\n      <td>...</td>\n    </tr>\n    <tr>\n      <th>49</th>\n      <td>not_explicit</td>\n      <td>((-5.791, 3.156]_loudness, (-0.001, 1.27e-05]_...</td>\n      <td>2027</td>\n      <td>13.513333</td>\n      <td>0.883224</td>\n      <td>0.944019</td>\n    </tr>\n    <tr>\n      <th>52</th>\n      <td>not_explicit</td>\n      <td>((-0.001, 1.27e-05]_instrumentalness, (0.0316,...</td>\n      <td>2058</td>\n      <td>13.720000</td>\n      <td>0.876117</td>\n      <td>0.936423</td>\n    </tr>\n    <tr>\n      <th>40</th>\n      <td>not_explicit</td>\n      <td>((0.0698, 0.939]_speechiness, major)</td>\n      <td>2616</td>\n      <td>17.440000</td>\n      <td>0.859396</td>\n      <td>0.918550</td>\n    </tr>\n    <tr>\n      <th>23</th>\n      <td>not_explicit</td>\n      <td>((0.834, 1.0]_energy, (0.0698, 0.939]_speechin...</td>\n      <td>2044</td>\n      <td>13.626667</td>\n      <td>0.857023</td>\n      <td>0.916014</td>\n    </tr>\n    <tr>\n      <th>39</th>\n      <td>not_explicit</td>\n      <td>((0.0698, 0.939]_speechiness, (-5.791, 3.156]_...</td>\n      <td>1865</td>\n      <td>12.433333</td>\n      <td>0.820141</td>\n      <td>0.876593</td>\n    </tr>\n  </tbody>\n</table>\n<p>62 rows × 6 columns</p>\n</div>"
     },
     "execution_count": 320,
     "metadata": {},
     "output_type": "execute_result"
    }
   ],
   "source": [
    "supp = 15\n",
    "zmin = 3\n",
    "\n",
    "rules_fp = fpgrowth(transactions, target=\"r\", supp=supp, zmin=zmin, report='aScl')\n",
    "\n",
    "rules_fp_df = pd.DataFrame(\n",
    "    rules,\n",
    "    columns=['consequent', 'antecedent', 'abs_support', '%_support', 'confidence', 'lift'],)\n",
    "\n",
    "rules_fp_df.sort_values(by=\"lift\", axis=0, ascending=False)"
   ],
   "metadata": {
    "collapsed": false,
    "ExecuteTime": {
     "end_time": "2023-12-31T14:24:26.547315Z",
     "start_time": "2023-12-31T14:24:26.130945Z"
    }
   },
   "id": "eca4249a74af10d7"
  },
  {
   "cell_type": "markdown",
   "source": [
    "# Classification"
   ],
   "metadata": {
    "collapsed": false
   },
   "id": "74fea1e1f9cfbbf5"
  },
  {
   "cell_type": "code",
   "execution_count": 163,
   "outputs": [
    {
     "data": {
      "text/plain": "    consequent                                         antecedent  \\\n0        major                                  (C, not_explicit)   \n2        major                                  (G, not_explicit)   \n201      major  ((0.415, 0.996]_acousticness, (-0.001, 0.562]_...   \n202      major  ((0.415, 0.996]_acousticness, (-0.001, 0.562]_...   \n207      major  ((0.415, 0.996]_acousticness, (-0.001, 0.0412]...   \n208      major  ((0.415, 0.996]_acousticness, (-0.001, 0.0412]...   \n268      major  ((-0.001, 1.27e-05]_instrumentalness, (-0.001,...   \n272      major  ((-0.001, 1.27e-05]_instrumentalness, (-0.001,...   \n273      major  ((-0.001, 1.27e-05]_instrumentalness, (-0.001,...   \n281      major  ((-0.001, 0.562]_energy, (-0.001, 0.0412]_spee...   \n282      major  ((-0.001, 0.562]_energy, (-0.001, 0.0412]_spee...   \n\n     abs_support  %_support  confidence      lift  \n0           1397   9.313333    0.838535  1.261714  \n2           1433   9.553333    0.850950  1.280394  \n201         1475   9.833333    0.814467  1.225500  \n202         1484   9.893333    0.814043  1.224861  \n207         1917  12.780000    0.803100  1.208396  \n208         1927  12.846667    0.801914  1.206612  \n268         1244   8.293333    0.821122  1.235513  \n272         1596  10.640000    0.831683  1.251404  \n273         1609  10.726667    0.828954  1.247298  \n281         2000  13.333333    0.802890  1.208081  \n282         2012  13.413333    0.801274  1.205649  ",
      "text/html": "<div>\n<style scoped>\n    .dataframe tbody tr th:only-of-type {\n        vertical-align: middle;\n    }\n\n    .dataframe tbody tr th {\n        vertical-align: top;\n    }\n\n    .dataframe thead th {\n        text-align: right;\n    }\n</style>\n<table border=\"1\" class=\"dataframe\">\n  <thead>\n    <tr style=\"text-align: right;\">\n      <th></th>\n      <th>consequent</th>\n      <th>antecedent</th>\n      <th>abs_support</th>\n      <th>%_support</th>\n      <th>confidence</th>\n      <th>lift</th>\n    </tr>\n  </thead>\n  <tbody>\n    <tr>\n      <th>0</th>\n      <td>major</td>\n      <td>(C, not_explicit)</td>\n      <td>1397</td>\n      <td>9.313333</td>\n      <td>0.838535</td>\n      <td>1.261714</td>\n    </tr>\n    <tr>\n      <th>2</th>\n      <td>major</td>\n      <td>(G, not_explicit)</td>\n      <td>1433</td>\n      <td>9.553333</td>\n      <td>0.850950</td>\n      <td>1.280394</td>\n    </tr>\n    <tr>\n      <th>201</th>\n      <td>major</td>\n      <td>((0.415, 0.996]_acousticness, (-0.001, 0.562]_...</td>\n      <td>1475</td>\n      <td>9.833333</td>\n      <td>0.814467</td>\n      <td>1.225500</td>\n    </tr>\n    <tr>\n      <th>202</th>\n      <td>major</td>\n      <td>((0.415, 0.996]_acousticness, (-0.001, 0.562]_...</td>\n      <td>1484</td>\n      <td>9.893333</td>\n      <td>0.814043</td>\n      <td>1.224861</td>\n    </tr>\n    <tr>\n      <th>207</th>\n      <td>major</td>\n      <td>((0.415, 0.996]_acousticness, (-0.001, 0.0412]...</td>\n      <td>1917</td>\n      <td>12.780000</td>\n      <td>0.803100</td>\n      <td>1.208396</td>\n    </tr>\n    <tr>\n      <th>208</th>\n      <td>major</td>\n      <td>((0.415, 0.996]_acousticness, (-0.001, 0.0412]...</td>\n      <td>1927</td>\n      <td>12.846667</td>\n      <td>0.801914</td>\n      <td>1.206612</td>\n    </tr>\n    <tr>\n      <th>268</th>\n      <td>major</td>\n      <td>((-0.001, 1.27e-05]_instrumentalness, (-0.001,...</td>\n      <td>1244</td>\n      <td>8.293333</td>\n      <td>0.821122</td>\n      <td>1.235513</td>\n    </tr>\n    <tr>\n      <th>272</th>\n      <td>major</td>\n      <td>((-0.001, 1.27e-05]_instrumentalness, (-0.001,...</td>\n      <td>1596</td>\n      <td>10.640000</td>\n      <td>0.831683</td>\n      <td>1.251404</td>\n    </tr>\n    <tr>\n      <th>273</th>\n      <td>major</td>\n      <td>((-0.001, 1.27e-05]_instrumentalness, (-0.001,...</td>\n      <td>1609</td>\n      <td>10.726667</td>\n      <td>0.828954</td>\n      <td>1.247298</td>\n    </tr>\n    <tr>\n      <th>281</th>\n      <td>major</td>\n      <td>((-0.001, 0.562]_energy, (-0.001, 0.0412]_spee...</td>\n      <td>2000</td>\n      <td>13.333333</td>\n      <td>0.802890</td>\n      <td>1.208081</td>\n    </tr>\n    <tr>\n      <th>282</th>\n      <td>major</td>\n      <td>((-0.001, 0.562]_energy, (-0.001, 0.0412]_spee...</td>\n      <td>2012</td>\n      <td>13.413333</td>\n      <td>0.801274</td>\n      <td>1.205649</td>\n    </tr>\n  </tbody>\n</table>\n</div>"
     },
     "execution_count": 163,
     "metadata": {},
     "output_type": "execute_result"
    }
   ],
   "source": [
    "rules_df[rules_df[\"consequent\"] == \"major\"]"
   ],
   "metadata": {
    "collapsed": false,
    "ExecuteTime": {
     "end_time": "2023-12-29T19:01:33.021965Z",
     "start_time": "2023-12-29T19:01:32.914362Z"
    }
   },
   "id": "fa9f0ded627a691d"
  },
  {
   "cell_type": "code",
   "execution_count": 164,
   "outputs": [
    {
     "name": "stdout",
     "output_type": "stream",
     "text": [
      "to predict:  major\n",
      "how?:  ('C', 'not_explicit')\n"
     ]
    }
   ],
   "source": [
    "print(\"to predict: \", [r for r in rules if r[0] == \"major\"][0][0])\n",
    "print(\"how?: \", [r for r in rules if r[0] == \"major\"][0][1])"
   ],
   "metadata": {
    "collapsed": false,
    "ExecuteTime": {
     "end_time": "2023-12-29T19:02:30.575373Z",
     "start_time": "2023-12-29T19:02:30.441138Z"
    }
   },
   "id": "b71ee56fdf905680"
  },
  {
   "cell_type": "code",
   "execution_count": 187,
   "outputs": [],
   "source": [
    "len_r = []\n",
    "min_sup = 1\n",
    "max_sup = 30\n",
    "min_conf = 50\n",
    "max_conf = 90\n",
    "for i in range(min_sup, max_sup):\n",
    "    len_r_wrt_i = []\n",
    "    for j in range(min_conf, max_conf):\n",
    "        rules = apriori(transactions, target=\"r\", supp=i, conf=j, report='aScl')\n",
    "        len_r_wrt_i.append(len(rules))\n",
    "        \n",
    "    len_r.append(len_r_wrt_i)\n",
    "\n",
    "len_r = np.array(len_r)"
   ],
   "metadata": {
    "collapsed": false,
    "ExecuteTime": {
     "end_time": "2023-12-30T14:24:26.508344Z",
     "start_time": "2023-12-30T14:20:42.871842Z"
    }
   },
   "id": "e8018eb95580c1f8"
  },
  {
   "cell_type": "code",
   "execution_count": 188,
   "outputs": [
    {
     "data": {
      "text/plain": "<Figure size 640x480 with 2 Axes>",
      "image/png": "[encoded data removed]"
     },
     "metadata": {},
     "output_type": "display_data"
    }
   ],
   "source": [
    "sns.heatmap(len_r, cmap='Blues', fmt='g')\n",
    "plt.xlabel('Confidence')\n",
    "plt.ylabel('Support')\n",
    "plt.yticks(np.arange(0, max_sup-min_sup + 1, 5), np.arange(min_sup, max_sup+1,5))\n",
    "plt.xticks(np.arange(0, max_conf-min_conf + 1, 5), np.arange(min_conf, max_conf+1,5))\n",
    "plt.show()"
   ],
   "metadata": {
    "collapsed": false,
    "ExecuteTime": {
     "end_time": "2023-12-30T14:28:51.572800Z",
     "start_time": "2023-12-30T14:28:50.938124Z"
    }
   },
   "id": "fcba7d7e79e816dd"
  },
  {
   "cell_type": "code",
   "execution_count": 266,
   "outputs": [
    {
     "data": {
      "text/plain": "consequent                                                 major\nantecedent     ((0.415, 0.996]_acousticness, (-0.001, 0.0412]...\nabs_support                                                 1917\n%_support                                                  12.78\nconfidence                                                0.8031\nlift                                                    1.208396\nName: 34, dtype: object"
     },
     "execution_count": 266,
     "metadata": {},
     "output_type": "execute_result"
    }
   ],
   "source": [
    "# Filter the DataFrame to only include rows where the consequent is 'major'\n",
    "major_rules_df = rules_df[rules_df['consequent'] == 'major']\n",
    "#minor_rules_df = rules_df[rules_df['consequent'] == 'minor']\n",
    "\n",
    "# Find the rule with the highest lift\n",
    "most_interesting_major_rule = major_rules_df.loc[major_rules_df['lift'].idxmax()]\n",
    "#most_intresting_minor_rule = minor_rules_df.loc[minor_rules_df['lift'].idxmax()]\n",
    "\n",
    "most_interesting_major_rule#%%\n",
    "#most_intresting_minor_rule"
   ],
   "metadata": {
    "collapsed": false,
    "ExecuteTime": {
     "end_time": "2023-12-30T16:35:23.234069Z",
     "start_time": "2023-12-30T16:35:23.120925Z"
    }
   },
   "id": "a71d48c187ea2e8d"
  },
  {
   "cell_type": "code",
   "execution_count": 267,
   "outputs": [],
   "source": [
    "antecedent = most_interesting_major_rule['antecedent']\n",
    "consequent = most_interesting_major_rule['consequent']\n",
    "\n",
    "#antecedent_minor = most_intresting_minor_rule['antecedent']\n",
    "#consequent_minor = most_intresting_minor_rule['consequent']"
   ],
   "metadata": {
    "collapsed": false,
    "ExecuteTime": {
     "end_time": "2023-12-30T16:35:27.391973Z",
     "start_time": "2023-12-30T16:35:27.348483Z"
    }
   },
   "id": "f85412feb1fd9564"
  },
  {
   "cell_type": "code",
   "execution_count": 313,
   "outputs": [
    {
     "name": "stdout",
     "output_type": "stream",
     "text": [
      "6\n",
      "7\n",
      "8\n",
      "10\n",
      "21\n",
      "22\n",
      "30\n",
      "31\n",
      "52\n",
      "53\n",
      "64\n",
      "70\n",
      "78\n",
      "87\n",
      "96\n",
      "102\n",
      "104\n",
      "109\n",
      "111\n",
      "112\n",
      "131\n",
      "134\n",
      "135\n",
      "156\n",
      "159\n",
      "164\n",
      "165\n",
      "167\n",
      "171\n",
      "172\n",
      "182\n",
      "186\n",
      "191\n",
      "194\n",
      "205\n",
      "212\n",
      "214\n",
      "218\n",
      "221\n",
      "224\n",
      "240\n",
      "248\n",
      "259\n",
      "265\n",
      "267\n",
      "271\n",
      "273\n",
      "284\n",
      "288\n",
      "290\n",
      "291\n",
      "298\n",
      "300\n",
      "301\n",
      "304\n",
      "317\n",
      "325\n",
      "326\n",
      "328\n",
      "347\n",
      "358\n",
      "377\n",
      "381\n",
      "385\n",
      "393\n",
      "395\n",
      "396\n",
      "405\n",
      "410\n",
      "413\n",
      "420\n",
      "424\n",
      "431\n",
      "437\n",
      "438\n",
      "440\n",
      "441\n",
      "445\n",
      "448\n",
      "449\n",
      "476\n",
      "478\n",
      "481\n",
      "485\n",
      "489\n",
      "490\n",
      "492\n",
      "505\n",
      "509\n",
      "516\n",
      "517\n",
      "525\n",
      "529\n",
      "531\n",
      "532\n",
      "534\n",
      "545\n",
      "547\n",
      "548\n",
      "556\n",
      "559\n",
      "563\n",
      "566\n",
      "567\n",
      "569\n",
      "572\n",
      "580\n",
      "589\n",
      "594\n",
      "600\n",
      "601\n",
      "602\n",
      "608\n",
      "612\n",
      "613\n",
      "619\n",
      "624\n",
      "629\n",
      "655\n",
      "663\n",
      "666\n",
      "667\n",
      "670\n",
      "674\n",
      "678\n",
      "684\n",
      "685\n",
      "692\n",
      "697\n",
      "703\n",
      "704\n",
      "725\n",
      "733\n",
      "735\n",
      "747\n",
      "767\n",
      "770\n",
      "778\n",
      "779\n",
      "783\n",
      "813\n",
      "815\n",
      "818\n",
      "828\n",
      "832\n",
      "835\n",
      "844\n",
      "848\n",
      "857\n",
      "859\n",
      "876\n",
      "878\n",
      "883\n",
      "887\n",
      "907\n",
      "910\n",
      "925\n",
      "935\n",
      "936\n",
      "937\n",
      "944\n",
      "965\n",
      "968\n",
      "971\n",
      "973\n",
      "981\n",
      "982\n",
      "987\n",
      "1001\n",
      "1013\n",
      "1017\n",
      "1020\n",
      "1030\n",
      "1035\n",
      "1037\n",
      "1042\n",
      "1043\n",
      "1054\n",
      "1057\n",
      "1060\n",
      "1065\n",
      "1089\n",
      "1097\n",
      "1102\n",
      "1113\n",
      "1141\n",
      "1144\n",
      "1150\n",
      "1152\n",
      "1154\n",
      "1156\n",
      "1168\n",
      "1195\n",
      "1196\n",
      "1201\n",
      "1203\n",
      "1208\n",
      "1216\n",
      "1220\n",
      "1226\n",
      "1228\n",
      "1230\n",
      "1234\n",
      "1242\n",
      "1244\n",
      "1247\n",
      "1253\n",
      "1257\n",
      "1269\n",
      "1304\n",
      "1309\n",
      "1311\n",
      "1314\n",
      "1317\n",
      "1324\n",
      "1327\n",
      "1328\n",
      "1336\n",
      "1340\n",
      "1345\n",
      "1350\n",
      "1354\n",
      "1357\n",
      "1358\n",
      "1363\n",
      "1366\n",
      "1375\n",
      "1379\n",
      "1384\n",
      "1385\n",
      "1389\n",
      "1390\n",
      "1393\n",
      "1406\n",
      "1418\n",
      "1423\n",
      "1430\n",
      "1440\n",
      "1447\n",
      "1450\n",
      "1458\n",
      "1467\n",
      "1484\n",
      "1485\n",
      "1486\n",
      "1493\n",
      "1494\n",
      "1497\n",
      "1506\n",
      "1510\n",
      "1517\n",
      "1524\n",
      "1530\n",
      "1537\n",
      "1539\n",
      "1543\n",
      "1547\n",
      "1550\n",
      "1551\n",
      "1569\n",
      "1573\n",
      "1580\n",
      "1585\n",
      "1589\n",
      "1600\n",
      "1605\n",
      "1618\n",
      "1631\n",
      "1642\n",
      "1652\n",
      "1657\n",
      "1667\n",
      "1679\n",
      "1680\n",
      "1686\n",
      "1687\n",
      "1713\n",
      "1716\n",
      "1717\n",
      "1719\n",
      "1731\n",
      "1740\n",
      "1742\n",
      "1757\n",
      "1765\n",
      "1784\n",
      "1787\n",
      "1788\n",
      "1794\n",
      "1795\n",
      "1800\n",
      "1803\n",
      "1807\n",
      "1809\n",
      "1811\n",
      "1813\n",
      "1819\n",
      "1823\n",
      "1836\n",
      "1860\n",
      "1862\n",
      "1865\n",
      "1870\n",
      "1871\n",
      "1872\n",
      "1883\n",
      "1884\n",
      "1885\n",
      "1886\n",
      "1890\n",
      "1891\n",
      "1892\n",
      "1898\n",
      "1910\n",
      "1923\n",
      "1925\n",
      "1949\n",
      "1950\n",
      "1951\n",
      "1952\n",
      "1954\n",
      "1959\n",
      "1964\n",
      "1970\n",
      "1975\n",
      "1976\n",
      "1978\n",
      "1981\n",
      "1983\n",
      "1987\n",
      "1994\n",
      "1998\n",
      "2001\n",
      "2006\n",
      "2012\n",
      "2017\n",
      "2028\n",
      "2030\n",
      "2033\n",
      "2040\n",
      "2047\n",
      "2065\n",
      "2068\n",
      "2073\n",
      "2077\n",
      "2083\n",
      "2114\n",
      "2117\n",
      "2118\n",
      "2121\n",
      "2123\n",
      "2136\n",
      "2137\n",
      "2144\n",
      "2146\n",
      "2154\n",
      "2167\n",
      "2175\n",
      "2177\n",
      "2191\n",
      "2201\n",
      "2207\n",
      "2210\n",
      "2236\n",
      "2240\n",
      "2245\n",
      "2261\n",
      "2264\n",
      "2283\n",
      "2290\n",
      "2305\n",
      "2308\n",
      "2316\n",
      "2318\n",
      "2321\n",
      "2322\n",
      "2331\n",
      "2338\n",
      "2350\n",
      "2352\n",
      "2355\n",
      "2367\n",
      "2369\n",
      "2374\n",
      "2375\n",
      "2382\n",
      "2383\n",
      "2385\n",
      "2394\n",
      "2395\n",
      "2404\n",
      "2414\n",
      "2419\n",
      "2425\n",
      "2440\n",
      "2448\n",
      "2449\n",
      "2450\n",
      "2453\n",
      "2459\n",
      "2461\n",
      "2465\n",
      "2471\n",
      "2475\n",
      "2476\n",
      "2485\n",
      "2488\n",
      "2489\n",
      "2492\n",
      "2495\n",
      "2496\n",
      "2503\n",
      "2506\n",
      "2513\n",
      "2520\n",
      "2527\n",
      "2534\n",
      "2539\n",
      "2541\n",
      "2555\n",
      "2558\n",
      "2560\n",
      "2568\n",
      "2574\n",
      "2579\n",
      "2588\n",
      "2594\n",
      "2601\n",
      "2605\n",
      "2611\n",
      "2612\n",
      "2621\n",
      "2622\n",
      "2633\n",
      "2635\n",
      "2654\n",
      "2660\n",
      "2677\n",
      "2695\n",
      "2699\n",
      "2716\n",
      "2722\n",
      "2732\n",
      "2733\n",
      "2738\n",
      "2740\n",
      "2747\n",
      "2750\n",
      "2751\n",
      "2760\n",
      "2767\n",
      "2770\n",
      "2771\n",
      "2785\n",
      "2795\n",
      "2803\n",
      "2811\n",
      "2821\n",
      "2829\n",
      "2836\n",
      "2841\n",
      "2846\n",
      "2850\n",
      "2851\n",
      "2863\n",
      "2864\n",
      "2868\n",
      "2892\n",
      "2894\n",
      "2898\n",
      "2899\n",
      "2900\n",
      "2904\n",
      "2925\n",
      "2931\n",
      "2933\n",
      "2934\n",
      "2939\n",
      "2946\n",
      "2948\n",
      "2973\n",
      "2977\n",
      "2980\n",
      "2984\n",
      "2988\n",
      "2989\n",
      "2993\n",
      "3012\n",
      "3015\n",
      "3019\n",
      "3021\n",
      "3023\n",
      "3024\n",
      "3029\n",
      "3031\n",
      "3036\n",
      "3043\n",
      "3057\n",
      "3067\n",
      "3071\n",
      "3088\n",
      "3089\n",
      "3090\n",
      "3091\n",
      "3093\n",
      "3095\n",
      "3096\n",
      "3100\n",
      "3107\n",
      "3111\n",
      "3112\n",
      "3115\n",
      "3116\n",
      "3117\n",
      "3119\n",
      "3122\n",
      "3128\n",
      "3130\n",
      "3138\n",
      "3151\n",
      "3154\n",
      "3161\n",
      "3164\n",
      "3180\n",
      "3186\n",
      "3202\n",
      "3212\n",
      "3214\n",
      "3224\n",
      "3229\n",
      "3231\n",
      "3233\n",
      "3238\n",
      "3251\n",
      "3252\n",
      "3254\n",
      "3259\n",
      "3262\n",
      "3264\n",
      "3265\n",
      "3266\n",
      "3267\n",
      "3275\n",
      "3284\n",
      "3292\n",
      "3294\n",
      "3298\n",
      "3310\n",
      "3316\n",
      "3321\n",
      "3332\n",
      "3341\n",
      "3342\n",
      "3346\n",
      "3352\n",
      "3355\n",
      "3373\n",
      "3382\n",
      "3383\n",
      "3397\n",
      "3399\n",
      "3404\n",
      "3406\n",
      "3407\n",
      "3410\n",
      "3413\n",
      "3418\n",
      "3422\n",
      "3434\n",
      "3437\n",
      "3444\n",
      "3453\n",
      "3459\n",
      "3464\n",
      "3469\n",
      "3472\n",
      "3478\n",
      "3480\n",
      "3487\n",
      "3491\n",
      "3497\n",
      "3500\n",
      "3506\n",
      "3511\n",
      "3516\n",
      "3521\n",
      "3527\n",
      "3531\n",
      "3546\n",
      "3547\n",
      "3553\n",
      "3559\n",
      "3561\n",
      "3562\n",
      "3568\n",
      "3572\n",
      "3582\n",
      "3583\n",
      "3588\n",
      "3590\n",
      "3598\n",
      "3620\n",
      "3629\n",
      "3639\n",
      "3643\n",
      "3645\n",
      "3647\n",
      "3656\n",
      "3661\n",
      "3664\n",
      "3672\n",
      "3682\n",
      "3684\n",
      "3686\n",
      "3688\n",
      "3691\n",
      "3697\n",
      "3703\n",
      "3705\n",
      "3713\n",
      "3716\n",
      "3729\n",
      "3731\n",
      "3732\n",
      "3735\n",
      "3737\n",
      "3750\n",
      "3761\n",
      "3769\n",
      "3776\n",
      "3777\n",
      "3783\n",
      "3785\n",
      "3800\n",
      "3802\n",
      "3806\n",
      "3817\n",
      "3827\n",
      "3831\n",
      "3836\n",
      "3845\n",
      "3855\n",
      "3859\n",
      "3866\n",
      "3867\n",
      "3868\n",
      "3871\n",
      "3873\n",
      "3879\n",
      "3895\n",
      "3898\n",
      "3904\n",
      "3922\n",
      "3938\n",
      "3946\n",
      "3952\n",
      "3957\n",
      "3961\n",
      "3979\n",
      "3995\n",
      "3996\n",
      "4006\n",
      "4038\n",
      "4040\n",
      "4051\n",
      "4052\n",
      "4059\n",
      "4066\n",
      "4068\n",
      "4079\n",
      "4091\n",
      "4095\n",
      "4099\n",
      "4111\n",
      "4112\n",
      "4121\n",
      "4123\n",
      "4125\n",
      "4128\n",
      "4140\n",
      "4143\n",
      "4151\n",
      "4155\n",
      "4156\n",
      "4158\n",
      "4168\n",
      "4169\n",
      "4170\n",
      "4172\n",
      "4177\n",
      "4180\n",
      "4184\n",
      "4186\n",
      "4192\n",
      "4200\n",
      "4201\n",
      "4203\n",
      "4210\n",
      "4214\n",
      "4216\n",
      "4228\n",
      "4232\n",
      "4234\n",
      "4236\n",
      "4239\n",
      "4241\n",
      "4245\n",
      "4247\n",
      "4254\n",
      "4267\n",
      "4271\n",
      "4274\n",
      "4277\n",
      "4280\n",
      "4287\n",
      "4301\n",
      "4306\n",
      "4308\n",
      "4311\n",
      "4317\n",
      "4322\n",
      "4326\n",
      "4331\n",
      "4334\n",
      "4338\n",
      "4345\n",
      "4358\n",
      "4364\n",
      "4378\n",
      "4386\n",
      "4388\n",
      "4389\n",
      "4391\n",
      "4404\n",
      "4415\n",
      "4419\n",
      "4423\n",
      "4428\n",
      "4445\n",
      "4446\n",
      "4448\n",
      "4455\n",
      "4460\n",
      "4464\n",
      "4480\n",
      "4481\n",
      "4491\n",
      "4494\n",
      "4499\n",
      "4519\n",
      "4528\n",
      "4533\n",
      "4535\n",
      "4541\n",
      "4548\n",
      "4554\n",
      "4556\n",
      "4563\n",
      "4564\n",
      "4576\n",
      "4577\n",
      "4587\n",
      "4588\n",
      "4600\n",
      "4609\n",
      "4622\n",
      "4628\n",
      "4630\n",
      "4633\n",
      "4638\n",
      "4642\n",
      "4643\n",
      "4648\n",
      "4654\n",
      "4674\n",
      "4677\n",
      "4681\n",
      "4706\n",
      "4716\n",
      "4720\n",
      "4728\n",
      "4735\n",
      "4748\n",
      "4755\n",
      "4756\n",
      "4759\n",
      "4764\n",
      "4768\n",
      "4770\n",
      "4779\n",
      "4783\n",
      "4785\n",
      "4789\n",
      "4803\n",
      "4811\n",
      "4815\n",
      "4819\n",
      "4826\n",
      "4835\n",
      "4840\n",
      "4842\n",
      "4864\n",
      "4871\n",
      "4875\n",
      "4878\n",
      "4881\n",
      "4886\n",
      "4900\n",
      "4909\n",
      "4917\n",
      "4934\n",
      "4936\n",
      "4941\n",
      "4944\n",
      "4947\n",
      "4951\n",
      "4956\n",
      "4964\n",
      "4967\n",
      "4977\n",
      "4978\n",
      "4982\n",
      "4990\n",
      "4992\n",
      "4995\n"
     ]
    }
   ],
   "source": [
    "predictions = []\n",
    "# Initialize an empty list to store the indices of the rows that meet the conditions\n",
    "indices = []\n",
    "\n",
    "# Iterate over the test dataset\n",
    "for index, row in df_test.iterrows():\n",
    "    # Check if the conditions are met\n",
    "    if (0.415 <= row['acousticness'] <= 0.996) and (-0.001 <= row['speechiness'] <= 0.0412) and (row['explicit'] == 0):\n",
    "        # If the conditions are met, append the index to the list\n",
    "        indices.append(index)\n",
    "        print(index)\n",
    "        predictions.append('1')\n",
    "    else: \n",
    "        predictions.append('0')\n",
    "\n",
    "# Print the indices of the rows that meet the conditions"
   ],
   "metadata": {
    "collapsed": false,
    "ExecuteTime": {
     "end_time": "2023-12-31T14:03:25.614181Z",
     "start_time": "2023-12-31T14:03:24.440817Z"
    }
   },
   "id": "7bcdee6743eca0c7"
  },
  {
   "cell_type": "code",
   "execution_count": 317,
   "outputs": [
    {
     "data": {
      "text/plain": "825"
     },
     "execution_count": 317,
     "metadata": {},
     "output_type": "execute_result"
    }
   ],
   "source": [
    "len(indices)"
   ],
   "metadata": {
    "collapsed": false,
    "ExecuteTime": {
     "end_time": "2023-12-31T14:04:32.932972Z",
     "start_time": "2023-12-31T14:04:32.851200Z"
    }
   },
   "id": "4e22a7a77c171213"
  },
  {
   "cell_type": "code",
   "execution_count": 318,
   "outputs": [
    {
     "name": "stdout",
     "output_type": "stream",
     "text": [
      "name                    678\n",
      "duration_ms             678\n",
      "explicit                678\n",
      "popularity              678\n",
      "artists                 678\n",
      "album_name              678\n",
      "danceability            678\n",
      "energy                  678\n",
      "key                     678\n",
      "loudness                678\n",
      "mode                    678\n",
      "speechiness             678\n",
      "acousticness            678\n",
      "instrumentalness        678\n",
      "liveness                678\n",
      "valence                 678\n",
      "tempo                   678\n",
      "features_duration_ms    678\n",
      "time_signature          678\n",
      "n_beats                 678\n",
      "n_bars                  678\n",
      "processing              678\n",
      "genre                   678\n",
      "predictions             678\n",
      "dtype: int64\n"
     ]
    }
   ],
   "source": [
    "#count the number of times mode is 1 and predictions is 1\n",
    "x = df_test[(df_test['mode'] == 1) & (df_test['predictions'] == 1)].count()\n",
    "print(x)"
   ],
   "metadata": {
    "collapsed": false,
    "ExecuteTime": {
     "end_time": "2023-12-31T14:08:23.565574Z",
     "start_time": "2023-12-31T14:08:23.363509Z"
    }
   },
   "id": "bfd695583aec093e"
  },
  {
   "cell_type": "code",
   "execution_count": 314,
   "outputs": [],
   "source": [
    "# for each indices in the list create a new column in the test dataset and set the value to 1\n",
    "df_test['predictions'] = 0\n",
    "df_test.loc[indices, 'predictions'] = 1\n"
   ],
   "metadata": {
    "collapsed": false,
    "ExecuteTime": {
     "end_time": "2023-12-31T14:03:43.797490Z",
     "start_time": "2023-12-31T14:03:43.697626Z"
    }
   },
   "id": "c04980178972aede"
  },
  {
   "cell_type": "code",
   "execution_count": 296,
   "outputs": [],
   "source": [
    "#drop NaN from 'mode' column\n",
    "df_test.dropna(subset=['mode'], inplace=True)"
   ],
   "metadata": {
    "collapsed": false,
    "ExecuteTime": {
     "end_time": "2023-12-30T16:56:18.967892Z",
     "start_time": "2023-12-30T16:56:18.871746Z"
    }
   },
   "id": "89635e7faffda7c6"
  },
  {
   "cell_type": "code",
   "execution_count": 299,
   "outputs": [
    {
     "data": {
      "text/plain": "<Figure size 640x480 with 2 Axes>",
      "image/png": "[encoded data removed]"
     },
     "metadata": {},
     "output_type": "display_data"
    }
   ],
   "source": [
    "#count the number of times mode is 1 and predictions is 1 and print it\n",
    "df_test[(df_test['mode'] == 1) & (df_test['predictions'] == 1)].count()\n",
    "\n",
    "#count the number of times mode is 1 and predictions is 0\n",
    "df_test[(df_test['mode'] == 1) & (df_test['predictions'] == 0)].count()\n",
    "\n",
    "#count the number of times mode is 0 and predictions is 1\n",
    "df_test[(df_test['mode'] == 0) & (df_test['predictions'] == 1)].count()\n",
    "\n",
    "#count the number of times mode is 0 and predictions is 0\n",
    "df_test[(df_test['mode'] == 0) & (df_test['predictions'] == 0)].count()\n",
    "\n",
    "\n",
    "# Calculate the counts\n",
    "TN = df_test[(df_test['mode'] == 0) & (df_test['predictions'] == 0)].count()[0]\n",
    "FP = df_test[(df_test['mode'] == 0) & (df_test['predictions'] == 1)].count()[0]\n",
    "FN = df_test[(df_test['mode'] == 1) & (df_test['predictions'] == 0)].count()[0]\n",
    "TP = df_test[(df_test['mode'] == 1) & (df_test['predictions'] == 1)].count()[0]\n",
    "\n",
    "# Create the confusion matrix\n",
    "conf_matrix = np.array([[TN, FP], [FN, TP]])\n",
    "\n",
    "# Plot the confusion matrix\n",
    "sns.heatmap(conf_matrix, annot=True, fmt='d', cmap='Blues')\n",
    "plt.xlabel('Predicted')\n",
    "plt.ylabel('True')\n",
    "plt.show()\n"
   ],
   "metadata": {
    "collapsed": false,
    "ExecuteTime": {
     "end_time": "2023-12-30T16:58:48.616021Z",
     "start_time": "2023-12-30T16:58:48.081988Z"
    }
   },
   "id": "749c74ae0a2582e9"
  },
  {
   "cell_type": "code",
   "execution_count": 291,
   "outputs": [
    {
     "name": "stderr",
     "output_type": "stream",
     "text": [
      "/Users/lorenzocascone/anaconda3/envs/DM1/lib/python3.11/site-packages/sklearn/utils/multiclass.py:380: RuntimeWarning: invalid value encountered in cast\n",
      "  if xp.any(data != data.astype(int)):\n"
     ]
    },
    {
     "ename": "ValueError",
     "evalue": "Input y_true contains NaN.",
     "output_type": "error",
     "traceback": [
      "\u001B[0;31m---------------------------------------------------------------------------\u001B[0m",
      "\u001B[0;31mValueError\u001B[0m                                Traceback (most recent call last)",
      "Cell \u001B[0;32mIn[291], line 10\u001B[0m\n\u001B[1;32m      4\u001B[0m df_test_explicit_acousticness_speechiness \u001B[38;5;241m=\u001B[39m df_test[[\u001B[38;5;124m'\u001B[39m\u001B[38;5;124macousticness\u001B[39m\u001B[38;5;124m'\u001B[39m, \u001B[38;5;124m'\u001B[39m\u001B[38;5;124mspeechiness\u001B[39m\u001B[38;5;124m'\u001B[39m, \u001B[38;5;124m'\u001B[39m\u001B[38;5;124mmode\u001B[39m\u001B[38;5;124m'\u001B[39m]]\n\u001B[1;32m      9\u001B[0m \u001B[38;5;66;03m# Calculate evaluation metrics\u001B[39;00m\n\u001B[0;32m---> 10\u001B[0m accuracy \u001B[38;5;241m=\u001B[39m accuracy_score(true_labels, predictions)\n\u001B[1;32m     11\u001B[0m precision \u001B[38;5;241m=\u001B[39m precision_score(true_labels, predictions, average\u001B[38;5;241m=\u001B[39m\u001B[38;5;124m'\u001B[39m\u001B[38;5;124mmacro\u001B[39m\u001B[38;5;124m'\u001B[39m, zero_division\u001B[38;5;241m=\u001B[39m\u001B[38;5;241m1\u001B[39m)\n\u001B[1;32m     12\u001B[0m recall \u001B[38;5;241m=\u001B[39m recall_score(true_labels, predictions, average\u001B[38;5;241m=\u001B[39m\u001B[38;5;124m'\u001B[39m\u001B[38;5;124mmacro\u001B[39m\u001B[38;5;124m'\u001B[39m, zero_division\u001B[38;5;241m=\u001B[39m\u001B[38;5;241m1\u001B[39m)\n",
      "File \u001B[0;32m~/anaconda3/envs/DM1/lib/python3.11/site-packages/sklearn/utils/_param_validation.py:192\u001B[0m, in \u001B[0;36mvalidate_params.<locals>.decorator.<locals>.wrapper\u001B[0;34m(*args, **kwargs)\u001B[0m\n\u001B[1;32m    187\u001B[0m validate_parameter_constraints(\n\u001B[1;32m    188\u001B[0m     parameter_constraints, params, caller_name\u001B[38;5;241m=\u001B[39mfunc\u001B[38;5;241m.\u001B[39m\u001B[38;5;18m__qualname__\u001B[39m\n\u001B[1;32m    189\u001B[0m )\n\u001B[1;32m    191\u001B[0m \u001B[38;5;28;01mtry\u001B[39;00m:\n\u001B[0;32m--> 192\u001B[0m     \u001B[38;5;28;01mreturn\u001B[39;00m func(\u001B[38;5;241m*\u001B[39margs, \u001B[38;5;241m*\u001B[39m\u001B[38;5;241m*\u001B[39mkwargs)\n\u001B[1;32m    193\u001B[0m \u001B[38;5;28;01mexcept\u001B[39;00m InvalidParameterError \u001B[38;5;28;01mas\u001B[39;00m e:\n\u001B[1;32m    194\u001B[0m     \u001B[38;5;66;03m# When the function is just a wrapper around an estimator, we allow\u001B[39;00m\n\u001B[1;32m    195\u001B[0m     \u001B[38;5;66;03m# the function to delegate validation to the estimator, but we replace\u001B[39;00m\n\u001B[1;32m    196\u001B[0m     \u001B[38;5;66;03m# the name of the estimator by the name of the function in the error\u001B[39;00m\n\u001B[1;32m    197\u001B[0m     \u001B[38;5;66;03m# message to avoid confusion.\u001B[39;00m\n\u001B[1;32m    198\u001B[0m     msg \u001B[38;5;241m=\u001B[39m re\u001B[38;5;241m.\u001B[39msub(\n\u001B[1;32m    199\u001B[0m         \u001B[38;5;124mr\u001B[39m\u001B[38;5;124m\"\u001B[39m\u001B[38;5;124mparameter of \u001B[39m\u001B[38;5;124m\\\u001B[39m\u001B[38;5;124mw+ must be\u001B[39m\u001B[38;5;124m\"\u001B[39m,\n\u001B[1;32m    200\u001B[0m         \u001B[38;5;124mf\u001B[39m\u001B[38;5;124m\"\u001B[39m\u001B[38;5;124mparameter of \u001B[39m\u001B[38;5;132;01m{\u001B[39;00mfunc\u001B[38;5;241m.\u001B[39m\u001B[38;5;18m__qualname__\u001B[39m\u001B[38;5;132;01m}\u001B[39;00m\u001B[38;5;124m must be\u001B[39m\u001B[38;5;124m\"\u001B[39m,\n\u001B[1;32m    201\u001B[0m         \u001B[38;5;28mstr\u001B[39m(e),\n\u001B[1;32m    202\u001B[0m     )\n",
      "File \u001B[0;32m~/anaconda3/envs/DM1/lib/python3.11/site-packages/sklearn/metrics/_classification.py:221\u001B[0m, in \u001B[0;36maccuracy_score\u001B[0;34m(y_true, y_pred, normalize, sample_weight)\u001B[0m\n\u001B[1;32m    155\u001B[0m \u001B[38;5;250m\u001B[39m\u001B[38;5;124;03m\"\"\"Accuracy classification score.\u001B[39;00m\n\u001B[1;32m    156\u001B[0m \n\u001B[1;32m    157\u001B[0m \u001B[38;5;124;03mIn multilabel classification, this function computes subset accuracy:\u001B[39;00m\n\u001B[0;32m   (...)\u001B[0m\n\u001B[1;32m    217\u001B[0m \u001B[38;5;124;03m0.5\u001B[39;00m\n\u001B[1;32m    218\u001B[0m \u001B[38;5;124;03m\"\"\"\u001B[39;00m\n\u001B[1;32m    220\u001B[0m \u001B[38;5;66;03m# Compute accuracy for each possible representation\u001B[39;00m\n\u001B[0;32m--> 221\u001B[0m y_type, y_true, y_pred \u001B[38;5;241m=\u001B[39m _check_targets(y_true, y_pred)\n\u001B[1;32m    222\u001B[0m check_consistent_length(y_true, y_pred, sample_weight)\n\u001B[1;32m    223\u001B[0m \u001B[38;5;28;01mif\u001B[39;00m y_type\u001B[38;5;241m.\u001B[39mstartswith(\u001B[38;5;124m\"\u001B[39m\u001B[38;5;124mmultilabel\u001B[39m\u001B[38;5;124m\"\u001B[39m):\n",
      "File \u001B[0;32m~/anaconda3/envs/DM1/lib/python3.11/site-packages/sklearn/metrics/_classification.py:87\u001B[0m, in \u001B[0;36m_check_targets\u001B[0;34m(y_true, y_pred)\u001B[0m\n\u001B[1;32m     60\u001B[0m \u001B[38;5;250m\u001B[39m\u001B[38;5;124;03m\"\"\"Check that y_true and y_pred belong to the same classification task.\u001B[39;00m\n\u001B[1;32m     61\u001B[0m \n\u001B[1;32m     62\u001B[0m \u001B[38;5;124;03mThis converts multiclass or binary types to a common shape, and raises a\u001B[39;00m\n\u001B[0;32m   (...)\u001B[0m\n\u001B[1;32m     84\u001B[0m \u001B[38;5;124;03my_pred : array or indicator matrix\u001B[39;00m\n\u001B[1;32m     85\u001B[0m \u001B[38;5;124;03m\"\"\"\u001B[39;00m\n\u001B[1;32m     86\u001B[0m check_consistent_length(y_true, y_pred)\n\u001B[0;32m---> 87\u001B[0m type_true \u001B[38;5;241m=\u001B[39m type_of_target(y_true, input_name\u001B[38;5;241m=\u001B[39m\u001B[38;5;124m\"\u001B[39m\u001B[38;5;124my_true\u001B[39m\u001B[38;5;124m\"\u001B[39m)\n\u001B[1;32m     88\u001B[0m type_pred \u001B[38;5;241m=\u001B[39m type_of_target(y_pred, input_name\u001B[38;5;241m=\u001B[39m\u001B[38;5;124m\"\u001B[39m\u001B[38;5;124my_pred\u001B[39m\u001B[38;5;124m\"\u001B[39m)\n\u001B[1;32m     90\u001B[0m y_type \u001B[38;5;241m=\u001B[39m {type_true, type_pred}\n",
      "File \u001B[0;32m~/anaconda3/envs/DM1/lib/python3.11/site-packages/sklearn/utils/multiclass.py:381\u001B[0m, in \u001B[0;36mtype_of_target\u001B[0;34m(y, input_name)\u001B[0m\n\u001B[1;32m    379\u001B[0m     data \u001B[38;5;241m=\u001B[39m y\u001B[38;5;241m.\u001B[39mdata \u001B[38;5;28;01mif\u001B[39;00m issparse(y) \u001B[38;5;28;01melse\u001B[39;00m y\n\u001B[1;32m    380\u001B[0m     \u001B[38;5;28;01mif\u001B[39;00m xp\u001B[38;5;241m.\u001B[39many(data \u001B[38;5;241m!=\u001B[39m data\u001B[38;5;241m.\u001B[39mastype(\u001B[38;5;28mint\u001B[39m)):\n\u001B[0;32m--> 381\u001B[0m         _assert_all_finite(data, input_name\u001B[38;5;241m=\u001B[39minput_name)\n\u001B[1;32m    382\u001B[0m         \u001B[38;5;28;01mreturn\u001B[39;00m \u001B[38;5;124m\"\u001B[39m\u001B[38;5;124mcontinuous\u001B[39m\u001B[38;5;124m\"\u001B[39m \u001B[38;5;241m+\u001B[39m suffix\n\u001B[1;32m    384\u001B[0m \u001B[38;5;66;03m# Check multiclass\u001B[39;00m\n",
      "File \u001B[0;32m~/anaconda3/envs/DM1/lib/python3.11/site-packages/sklearn/utils/validation.py:161\u001B[0m, in \u001B[0;36m_assert_all_finite\u001B[0;34m(X, allow_nan, msg_dtype, estimator_name, input_name)\u001B[0m\n\u001B[1;32m    144\u001B[0m \u001B[38;5;28;01mif\u001B[39;00m estimator_name \u001B[38;5;129;01mand\u001B[39;00m input_name \u001B[38;5;241m==\u001B[39m \u001B[38;5;124m\"\u001B[39m\u001B[38;5;124mX\u001B[39m\u001B[38;5;124m\"\u001B[39m \u001B[38;5;129;01mand\u001B[39;00m has_nan_error:\n\u001B[1;32m    145\u001B[0m     \u001B[38;5;66;03m# Improve the error message on how to handle missing values in\u001B[39;00m\n\u001B[1;32m    146\u001B[0m     \u001B[38;5;66;03m# scikit-learn.\u001B[39;00m\n\u001B[1;32m    147\u001B[0m     msg_err \u001B[38;5;241m+\u001B[39m\u001B[38;5;241m=\u001B[39m (\n\u001B[1;32m    148\u001B[0m         \u001B[38;5;124mf\u001B[39m\u001B[38;5;124m\"\u001B[39m\u001B[38;5;130;01m\\n\u001B[39;00m\u001B[38;5;132;01m{\u001B[39;00mestimator_name\u001B[38;5;132;01m}\u001B[39;00m\u001B[38;5;124m does not accept missing values\u001B[39m\u001B[38;5;124m\"\u001B[39m\n\u001B[1;32m    149\u001B[0m         \u001B[38;5;124m\"\u001B[39m\u001B[38;5;124m encoded as NaN natively. For supervised learning, you might want\u001B[39m\u001B[38;5;124m\"\u001B[39m\n\u001B[0;32m   (...)\u001B[0m\n\u001B[1;32m    159\u001B[0m         \u001B[38;5;124m\"\u001B[39m\u001B[38;5;124m#estimators-that-handle-nan-values\u001B[39m\u001B[38;5;124m\"\u001B[39m\n\u001B[1;32m    160\u001B[0m     )\n\u001B[0;32m--> 161\u001B[0m \u001B[38;5;28;01mraise\u001B[39;00m \u001B[38;5;167;01mValueError\u001B[39;00m(msg_err)\n",
      "\u001B[0;31mValueError\u001B[0m: Input y_true contains NaN."
     ]
    }
   ],
   "source": [
    "true_labels = df_test['mode']  # Replace 'target_variable' with the name of your actual target variable column\n",
    "#transform true label to string\n",
    "#create dataset with only explicit, acousticness and speechiness and mode\n",
    "df_test_explicit_acousticness_speechiness = df_test[['explicit', 'acousticness', 'speechiness', 'mode']]\n",
    "\n",
    "\n",
    "# Calculate evaluation metrics\n",
    "accuracy = accuracy_score(true_labels, predictions)\n",
    "precision = precision_score(true_labels, predictions, average='macro', zero_division=1)\n",
    "recall = recall_score(true_labels, predictions, average='macro', zero_division=1)\n",
    "conf_matrix = confusion_matrix(true_labels, predictions)\n",
    "\n",
    "# Print the evaluation results\n",
    "print(f\"Accuracy: {accuracy}\")\n",
    "print(f\"Precision: {precision}\")\n",
    "print(f\"Recall: {recall}\")\n",
    "\n",
    "#plot the confusion matrix\n",
    "sns.heatmap(conf_matrix, annot=True, fmt='g')\n",
    "plt.xlabel('Predicted')\n",
    "plt.ylabel('True')\n",
    "plt.show()"
   ],
   "metadata": {
    "collapsed": false,
    "ExecuteTime": {
     "end_time": "2023-12-30T16:53:06.555608Z",
     "start_time": "2023-12-30T16:53:06.373704Z"
    }
   },
   "id": "8843916dc812fecb"
  },
  {
   "cell_type": "code",
   "execution_count": 274,
   "outputs": [],
   "source": [
    "#create dataset with true labels and predictions\n",
    "df_test['predictions'] = predictions\n",
    "df_test['true_labels'] = true_labels"
   ],
   "metadata": {
    "collapsed": false,
    "ExecuteTime": {
     "end_time": "2023-12-30T16:41:36.356771Z",
     "start_time": "2023-12-30T16:41:36.276737Z"
    }
   },
   "id": "a26f5d41d339db26"
  },
  {
   "cell_type": "code",
   "execution_count": 315,
   "outputs": [
    {
     "data": {
      "text/plain": "                             name  duration_ms  explicit  popularity  \\\n0                          Untrue       206826         0          32   \n1                     High Roller       329733         0          41   \n2     Na Tum Jano Na Hum (ReVibe)       136000         0          40   \n3                        いじわるなハロー       247040         0          25   \n4                 Hit The Ceiling       208120         0           0   \n...                           ...          ...       ...         ...   \n4995                   Ich war es        80813         0          17   \n4996                 Giahe Vahshi       261500         0           2   \n4997         Taste - Reaper Remix       258000         0          19   \n4998                       Romove       404506         0          19   \n4999                8 Figure Bass       266430         0          13   \n\n                                       artists  \\\n0                                 Coal Chamber   \n1                           The Crystal Method   \n2                                Ashwin Adwani   \n3                                      Perfume   \n4                                 Audio Bullys   \n...                                        ...   \n4995                           Germaine Franco   \n4996  Saeed Dehghan;Pari Eskandari;Beatbynajwa   \n4997                                    Shiv-R   \n4998                                 Skyforger   \n4999                              Original Sin   \n\n                                        album_name  danceability  energy  key  \\\n0                                    Chamber Music         0.383  0.9510    0   \n1                                            Vegas         0.464  0.5790    5   \n2                      Na Tum Jano Na Hum (ReVibe)         0.611  0.7780    9   \n3                                      Cling Cling         0.500  0.9580    0   \n4                                          Ego War         0.802  0.6840    1   \n...                                            ...           ...     ...  ...   \n4995  Encanto (Deutscher Original Film-Soundtrack)         0.217  0.0754   11   \n4996                                         Oryan         0.467  0.7820   10   \n4997                  Infacted Compilation, Vol. 5         0.524  0.9730    0   \n4998                                    Senprusija         0.166  0.9750    2   \n4999                              Dr Feels Good EP         0.450  0.9680   11   \n\n      loudness  ...  liveness  valence    tempo  features_duration_ms  \\\n0       -3.743  ...    0.2610    0.668  110.584                206827   \n1       -9.136  ...    0.0992    0.140  171.752                329733   \n2       -4.803  ...    0.1390    0.285   90.024                136000   \n3       -1.695  ...    0.7320    0.955  130.059                247040   \n4       -8.839  ...    0.2360    0.637  130.022                208120   \n...        ...  ...       ...      ...      ...                   ...   \n4995   -16.629  ...    0.1350    0.201  142.026                 80813   \n4996    -8.136  ...    0.0971    0.203  145.059                261500   \n4997    -5.214  ...    0.1070    0.840  140.029                258000   \n4998    -3.585  ...    0.0656    0.233   75.005                404507   \n4999    -2.248  ...    0.2490    0.498  175.083                266430   \n\n      time_signature  n_beats  n_bars  processing  genre  predictions  \n0                4.0    385.0    96.0    3.349057      5            0  \n1                4.0    935.0   235.0    1.279305     19            0  \n2                4.0    200.0    49.0    1.343558     14            0  \n3                4.0    526.0   132.0    3.349057      6            0  \n4                4.0    440.0   110.0    2.367412     19            0  \n...              ...      ...     ...         ...    ...          ...  \n4995             5.0    175.0    44.0    0.748116     12            1  \n4996             4.0    621.0   158.0    0.757389      1            0  \n4997             4.0    594.0   149.0    3.349057      5            0  \n4998             4.0    550.0   138.0    3.700483      2            0  \n4999             4.0    770.0   191.0    0.748116      5            0  \n\n[5000 rows x 24 columns]",
      "text/html": "<div>\n<style scoped>\n    .dataframe tbody tr th:only-of-type {\n        vertical-align: middle;\n    }\n\n    .dataframe tbody tr th {\n        vertical-align: top;\n    }\n\n    .dataframe thead th {\n        text-align: right;\n    }\n</style>\n<table border=\"1\" class=\"dataframe\">\n  <thead>\n    <tr style=\"text-align: right;\">\n      <th></th>\n      <th>name</th>\n      <th>duration_ms</th>\n      <th>explicit</th>\n      <th>popularity</th>\n      <th>artists</th>\n      <th>album_name</th>\n      <th>danceability</th>\n      <th>energy</th>\n      <th>key</th>\n      <th>loudness</th>\n      <th>...</th>\n      <th>liveness</th>\n      <th>valence</th>\n      <th>tempo</th>\n      <th>features_duration_ms</th>\n      <th>time_signature</th>\n      <th>n_beats</th>\n      <th>n_bars</th>\n      <th>processing</th>\n      <th>genre</th>\n      <th>predictions</th>\n    </tr>\n  </thead>\n  <tbody>\n    <tr>\n      <th>0</th>\n      <td>Untrue</td>\n      <td>206826</td>\n      <td>0</td>\n      <td>32</td>\n      <td>Coal Chamber</td>\n      <td>Chamber Music</td>\n      <td>0.383</td>\n      <td>0.9510</td>\n      <td>0</td>\n      <td>-3.743</td>\n      <td>...</td>\n      <td>0.2610</td>\n      <td>0.668</td>\n      <td>110.584</td>\n      <td>206827</td>\n      <td>4.0</td>\n      <td>385.0</td>\n      <td>96.0</td>\n      <td>3.349057</td>\n      <td>5</td>\n      <td>0</td>\n    </tr>\n    <tr>\n      <th>1</th>\n      <td>High Roller</td>\n      <td>329733</td>\n      <td>0</td>\n      <td>41</td>\n      <td>The Crystal Method</td>\n      <td>Vegas</td>\n      <td>0.464</td>\n      <td>0.5790</td>\n      <td>5</td>\n      <td>-9.136</td>\n      <td>...</td>\n      <td>0.0992</td>\n      <td>0.140</td>\n      <td>171.752</td>\n      <td>329733</td>\n      <td>4.0</td>\n      <td>935.0</td>\n      <td>235.0</td>\n      <td>1.279305</td>\n      <td>19</td>\n      <td>0</td>\n    </tr>\n    <tr>\n      <th>2</th>\n      <td>Na Tum Jano Na Hum (ReVibe)</td>\n      <td>136000</td>\n      <td>0</td>\n      <td>40</td>\n      <td>Ashwin Adwani</td>\n      <td>Na Tum Jano Na Hum (ReVibe)</td>\n      <td>0.611</td>\n      <td>0.7780</td>\n      <td>9</td>\n      <td>-4.803</td>\n      <td>...</td>\n      <td>0.1390</td>\n      <td>0.285</td>\n      <td>90.024</td>\n      <td>136000</td>\n      <td>4.0</td>\n      <td>200.0</td>\n      <td>49.0</td>\n      <td>1.343558</td>\n      <td>14</td>\n      <td>0</td>\n    </tr>\n    <tr>\n      <th>3</th>\n      <td>いじわるなハロー</td>\n      <td>247040</td>\n      <td>0</td>\n      <td>25</td>\n      <td>Perfume</td>\n      <td>Cling Cling</td>\n      <td>0.500</td>\n      <td>0.9580</td>\n      <td>0</td>\n      <td>-1.695</td>\n      <td>...</td>\n      <td>0.7320</td>\n      <td>0.955</td>\n      <td>130.059</td>\n      <td>247040</td>\n      <td>4.0</td>\n      <td>526.0</td>\n      <td>132.0</td>\n      <td>3.349057</td>\n      <td>6</td>\n      <td>0</td>\n    </tr>\n    <tr>\n      <th>4</th>\n      <td>Hit The Ceiling</td>\n      <td>208120</td>\n      <td>0</td>\n      <td>0</td>\n      <td>Audio Bullys</td>\n      <td>Ego War</td>\n      <td>0.802</td>\n      <td>0.6840</td>\n      <td>1</td>\n      <td>-8.839</td>\n      <td>...</td>\n      <td>0.2360</td>\n      <td>0.637</td>\n      <td>130.022</td>\n      <td>208120</td>\n      <td>4.0</td>\n      <td>440.0</td>\n      <td>110.0</td>\n      <td>2.367412</td>\n      <td>19</td>\n      <td>0</td>\n    </tr>\n    <tr>\n      <th>...</th>\n      <td>...</td>\n      <td>...</td>\n      <td>...</td>\n      <td>...</td>\n      <td>...</td>\n      <td>...</td>\n      <td>...</td>\n      <td>...</td>\n      <td>...</td>\n      <td>...</td>\n      <td>...</td>\n      <td>...</td>\n      <td>...</td>\n      <td>...</td>\n      <td>...</td>\n      <td>...</td>\n      <td>...</td>\n      <td>...</td>\n      <td>...</td>\n      <td>...</td>\n      <td>...</td>\n    </tr>\n    <tr>\n      <th>4995</th>\n      <td>Ich war es</td>\n      <td>80813</td>\n      <td>0</td>\n      <td>17</td>\n      <td>Germaine Franco</td>\n      <td>Encanto (Deutscher Original Film-Soundtrack)</td>\n      <td>0.217</td>\n      <td>0.0754</td>\n      <td>11</td>\n      <td>-16.629</td>\n      <td>...</td>\n      <td>0.1350</td>\n      <td>0.201</td>\n      <td>142.026</td>\n      <td>80813</td>\n      <td>5.0</td>\n      <td>175.0</td>\n      <td>44.0</td>\n      <td>0.748116</td>\n      <td>12</td>\n      <td>1</td>\n    </tr>\n    <tr>\n      <th>4996</th>\n      <td>Giahe Vahshi</td>\n      <td>261500</td>\n      <td>0</td>\n      <td>2</td>\n      <td>Saeed Dehghan;Pari Eskandari;Beatbynajwa</td>\n      <td>Oryan</td>\n      <td>0.467</td>\n      <td>0.7820</td>\n      <td>10</td>\n      <td>-8.136</td>\n      <td>...</td>\n      <td>0.0971</td>\n      <td>0.203</td>\n      <td>145.059</td>\n      <td>261500</td>\n      <td>4.0</td>\n      <td>621.0</td>\n      <td>158.0</td>\n      <td>0.757389</td>\n      <td>1</td>\n      <td>0</td>\n    </tr>\n    <tr>\n      <th>4997</th>\n      <td>Taste - Reaper Remix</td>\n      <td>258000</td>\n      <td>0</td>\n      <td>19</td>\n      <td>Shiv-R</td>\n      <td>Infacted Compilation, Vol. 5</td>\n      <td>0.524</td>\n      <td>0.9730</td>\n      <td>0</td>\n      <td>-5.214</td>\n      <td>...</td>\n      <td>0.1070</td>\n      <td>0.840</td>\n      <td>140.029</td>\n      <td>258000</td>\n      <td>4.0</td>\n      <td>594.0</td>\n      <td>149.0</td>\n      <td>3.349057</td>\n      <td>5</td>\n      <td>0</td>\n    </tr>\n    <tr>\n      <th>4998</th>\n      <td>Romove</td>\n      <td>404506</td>\n      <td>0</td>\n      <td>19</td>\n      <td>Skyforger</td>\n      <td>Senprusija</td>\n      <td>0.166</td>\n      <td>0.9750</td>\n      <td>2</td>\n      <td>-3.585</td>\n      <td>...</td>\n      <td>0.0656</td>\n      <td>0.233</td>\n      <td>75.005</td>\n      <td>404507</td>\n      <td>4.0</td>\n      <td>550.0</td>\n      <td>138.0</td>\n      <td>3.700483</td>\n      <td>2</td>\n      <td>0</td>\n    </tr>\n    <tr>\n      <th>4999</th>\n      <td>8 Figure Bass</td>\n      <td>266430</td>\n      <td>0</td>\n      <td>13</td>\n      <td>Original Sin</td>\n      <td>Dr Feels Good EP</td>\n      <td>0.450</td>\n      <td>0.9680</td>\n      <td>11</td>\n      <td>-2.248</td>\n      <td>...</td>\n      <td>0.2490</td>\n      <td>0.498</td>\n      <td>175.083</td>\n      <td>266430</td>\n      <td>4.0</td>\n      <td>770.0</td>\n      <td>191.0</td>\n      <td>0.748116</td>\n      <td>5</td>\n      <td>0</td>\n    </tr>\n  </tbody>\n</table>\n<p>5000 rows × 24 columns</p>\n</div>"
     },
     "execution_count": 315,
     "metadata": {},
     "output_type": "execute_result"
    }
   ],
   "source": [
    "df_test"
   ],
   "metadata": {
    "collapsed": false,
    "ExecuteTime": {
     "end_time": "2023-12-31T14:03:53.275799Z",
     "start_time": "2023-12-31T14:03:53.079442Z"
    }
   },
   "id": "97c8b46311d044af"
  },
  {
   "cell_type": "code",
   "execution_count": null,
   "outputs": [],
   "source": [],
   "metadata": {
    "collapsed": false
   },
   "id": "5e42b47bd1dbbbe2"
  }
 ],
 "metadata": {
  "kernelspec": {
   "display_name": "Python 3",
   "language": "python",
   "name": "python3"
  },
  "language_info": {
   "codemirror_mode": {
    "name": "ipython",
    "version": 2
   },
   "file_extension": ".py",
   "mimetype": "text/x-python",
   "name": "python",
   "nbconvert_exporter": "python",
   "pygments_lexer": "ipython2",
   "version": "2.7.6"
  }
 },
 "nbformat": 4,
 "nbformat_minor": 5
}
