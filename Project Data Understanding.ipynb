{
 "cells": [
  {
   "cell_type": "code",
   "execution_count": 1,
   "id": "f1de6836",
   "metadata": {
    "ExecuteTime": {
     "end_time": "2023-10-09T15:30:42.775928Z",
     "start_time": "2023-10-09T15:30:42.764636Z"
    }
   },
   "outputs": [],
   "source": [
    "import numpy as np\n",
    "import pandas as pd\n",
    "import matplotlib.pyplot as plt\n",
    "from scipy.stats import pearsonr"
   ]
  },
  {
   "cell_type": "markdown",
   "id": "8ccb8686",
   "metadata": {},
   "source": [
    "## Dataset Import and simple statistics visualization"
   ]
  },
  {
   "cell_type": "code",
   "execution_count": null,
   "id": "08281784",
   "metadata": {},
   "outputs": [],
   "source": [
    "df_train = pd.read_csv('project dataset (missing + split)/train.csv', skipinitialspace=True)\n",
    "\n",
    "df_test = pd.read_csv('project dataset (missing + split)/test.csv', skipinitialspace=True)"
   ]
  },
  {
   "cell_type": "code",
   "execution_count": null,
   "id": "24953ca4",
   "metadata": {},
   "outputs": [],
   "source": [
    "df_test.columns"
   ]
  },
  {
   "cell_type": "code",
   "execution_count": null,
   "id": "5aa056ec",
   "metadata": {},
   "outputs": [],
   "source": [
    "df_train"
   ]
  },
  {
   "cell_type": "code",
   "execution_count": null,
   "id": "4b9a2c23",
   "metadata": {},
   "outputs": [],
   "source": [
    "df_train.shape"
   ]
  },
  {
   "cell_type": "code",
   "execution_count": null,
   "id": "7a667d03",
   "metadata": {},
   "outputs": [],
   "source": [
    "df_train.dtypes"
   ]
  },
  {
   "cell_type": "code",
   "execution_count": null,
   "id": "ca098da9",
   "metadata": {},
   "outputs": [],
   "source": [
    "df_train.info()"
   ]
  },
  {
   "cell_type": "code",
   "execution_count": null,
   "id": "ab8f6cea",
   "metadata": {},
   "outputs": [],
   "source": [
    "df_train.describe()"
   ]
  },
  {
   "cell_type": "code",
   "execution_count": null,
   "id": "71f70d4e",
   "metadata": {},
   "outputs": [],
   "source": [
    "df_mean = df_train.drop(columns=['name', 'explicit', 'artists','mode','popularity_confidence', 'album_name', 'features_duration_ms'], axis=1)\n",
    "df_mean.groupby(['genre']).mean().T"
   ]
  },
  {
   "cell_type": "markdown",
   "id": "6731cc06",
   "metadata": {},
   "source": [
    "# Checking for duplicates"
   ]
  },
  {
   "cell_type": "code",
   "execution_count": null,
   "id": "20e27631",
   "metadata": {},
   "outputs": [],
   "source": [
    "# Checking for duplicated records\n",
    "\n",
    "print(df_train.duplicated().sum(), df_test.duplicated().sum())\n"
   ]
  },
  {
   "cell_type": "code",
   "execution_count": null,
   "id": "c41b2b37",
   "metadata": {},
   "outputs": [],
   "source": [
    "# Checking for duplicated songs\n",
    "print(df_train['name'].duplicated().sum(), df_test['name'].duplicated().sum())"
   ]
  },
  {
   "cell_type": "code",
   "execution_count": null,
   "id": "25067410",
   "metadata": {},
   "outputs": [],
   "source": [
    "# Checking differences between duration_ms and features_duration_ms\n",
    "\n",
    "values = df_train[df_train['duration_ms'] != df_train['features_duration_ms']]\n",
    "columns_to_print = ['duration_ms', 'features_duration_ms']\n",
    "values[columns_to_print]\n",
    "\n",
    "\n",
    "valu = values['features_duration_ms'] - values['duration_ms']\n",
    "\n",
    "print(\"Number of different records: \", valu.size)\n",
    "\n",
    "differences_count = 0\n",
    "for i in valu:\n",
    "    if(i != 1 and i != -1):\n",
    "        differences_count += 1\n",
    "        \n",
    "print(\"Number of different records with a difference greater than 1: \", differences_count)"
   ]
  },
  {
   "cell_type": "markdown",
   "id": "6462ce14",
   "metadata": {},
   "source": [
    "## Dropping useless features"
   ]
  },
  {
   "cell_type": "code",
   "execution_count": null,
   "id": "f489dd74",
   "metadata": {},
   "outputs": [],
   "source": [
    "# Dropping features_duration_ms column since we are going to take in consideration only duration_ms\n",
    "\n",
    "df_train.drop('features_duration_ms', axis=1)\n",
    "df_test.drop('features_duration_ms', axis=1)"
   ]
  },
  {
   "cell_type": "markdown",
   "id": "5ac7b09a",
   "metadata": {},
   "source": [
    "## Data Distribution"
   ]
  },
  {
   "cell_type": "code",
   "execution_count": null,
   "id": "fe55bf88",
   "metadata": {},
   "outputs": [],
   "source": [
    "df_train.groupby('genre')['popularity'].mean().sort_values().plot(kind='bar')\n",
    "plt.ylabel('popularity')\n",
    "plt.show()"
   ]
  },
  {
   "cell_type": "code",
   "execution_count": null,
   "id": "3639bc3f",
   "metadata": {},
   "outputs": [],
   "source": [
    "df_train['genre'].value_counts().plot(kind='bar')\n",
    "plt.show()"
   ]
  },
  {
   "cell_type": "code",
   "execution_count": null,
   "id": "7929cf3b",
   "metadata": {},
   "outputs": [],
   "source": [
    "df_train['duration_min'] = df_train['duration_ms'] / 60000\n",
    "\n",
    "plt.hist(df_train['duration_min'], bins=50)\n",
    "plt.xlabel('sepal length')\n",
    "plt.ylabel('petal length')\n",
    "plt.show()\n",
    "\n"
   ]
  },
  {
   "cell_type": "markdown",
   "id": "6024cb0f",
   "metadata": {},
   "source": [
    "## Checking for NaN values"
   ]
  },
  {
   "cell_type": "code",
   "execution_count": null,
   "id": "04a84624",
   "metadata": {},
   "outputs": [],
   "source": [
    "for column in list(df_train.columns):\n",
    "    containsNaN = df_train[column].isnull().sum()\n",
    "    if(containsNaN):\n",
    "        print(\"Column: \" + column + \" hasNaN: \" + str(containsNaN))"
   ]
  },
  {
   "cell_type": "code",
   "execution_count": null,
   "id": "0396aa9b",
   "metadata": {},
   "outputs": [],
   "source": [
    "for column in list(df_test.columns):\n",
    "    containsNaN = df_test[column].isnull().sum()\n",
    "    if(containsNaN):\n",
    "        print(\"Column: \" + column + \" hasNaN: \" + str(containsNaN))"
   ]
  },
  {
   "cell_type": "code",
   "execution_count": null,
   "id": "4726f944",
   "metadata": {},
   "outputs": [],
   "source": [
    "df_test['popularity_confidence'].isnull().sum()"
   ]
  },
  {
   "cell_type": "markdown",
   "id": "518bd84b",
   "metadata": {},
   "source": [
    "## Genre splitting and analysis"
   ]
  },
  {
   "cell_type": "code",
   "execution_count": null,
   "id": "3d942459",
   "metadata": {},
   "outputs": [],
   "source": [
    "len(list(df_train['genre'].unique()))"
   ]
  },
  {
   "cell_type": "code",
   "execution_count": null,
   "id": "56e4a4bc",
   "metadata": {},
   "outputs": [],
   "source": [
    "genresData = []\n",
    "for genre in df_train['genre'].unique():\n",
    "    genresData.append(df_train[df_train['genre'] == genre])\n",
    "    \n",
    "genresData[0].describe()"
   ]
  },
  {
   "cell_type": "code",
   "execution_count": null,
   "id": "3e7681af",
   "metadata": {},
   "outputs": [],
   "source": [
    "import pandas as pd\n",
    "from scipy.stats import pearsonr\n",
    "\n",
    "# Initialize empty lists to store information\n",
    "genre_list = []\n",
    "feature_1_list = []\n",
    "feature_2_list = []\n",
    "correlation_list = []\n",
    "\n",
    "for genre_df in genresData:\n",
    "    # Drop NaN values and unwanted columns\n",
    "    genre_df = genre_df.dropna(axis=1)\n",
    "    genre_df = genre_df.drop(columns=['name', 'explicit', 'artists', 'album_name', 'features_duration_ms'], axis=1)\n",
    "    genre = genre_df.iloc[0]['genre']\n",
    "    \n",
    "    for feature_1 in list(genre_df.columns):\n",
    "        if feature_1 != 'genre':\n",
    "            for feature_2 in list(genre_df.columns):\n",
    "                if feature_2 != 'genre' and feature_1 != feature_2:\n",
    "                    corr, p_val = pearsonr(genre_df[feature_1], genre_df[feature_2])\n",
    "                    if abs(corr) > 0.7:  # Filter based on correlation threshold\n",
    "                        if not feature_1 in feature_2_list or not feature_2 in feature_1_list:\n",
    "                            genre_list.append(genre)\n",
    "                            feature_1_list.append(feature_1)\n",
    "                            feature_2_list.append(feature_2)\n",
    "                            correlation_list.append(corr)\n",
    "\n",
    "# Create a DataFrame from the lists\n",
    "correlation_df = pd.DataFrame({\n",
    "    'genre': genre_list,\n",
    "    'feature_1': feature_1_list,\n",
    "    'feature_2': feature_2_list,\n",
    "    'correlation': correlation_list\n",
    "})\n",
    "\n",
    "correlation_df\n"
   ]
  },
  {
   "cell_type": "code",
   "execution_count": null,
   "id": "1b223101",
   "metadata": {},
   "outputs": [],
   "source": [
    "features_list = list(set(feature_1_list)) + list(set(feature_2_list))\n",
    "features_list"
   ]
  },
  {
   "cell_type": "code",
   "execution_count": null,
   "id": "9bdbe048",
   "metadata": {
    "scrolled": true
   },
   "outputs": [],
   "source": [
    "\n",
    "df_scatter_matrix = df_train.drop(columns=['name', 'artists', 'genre', 'explicit','album_name'])\n",
    "\n",
    "    \n",
    "    \n",
    "pd.plotting.scatter_matrix(df_scatter_matrix[list(set(features_list))], figsize=(16, 8))\n",
    "plt.show()\n",
    "\n"
   ]
  },
  {
   "cell_type": "code",
   "execution_count": null,
   "id": "fa7eae80",
   "metadata": {},
   "outputs": [],
   "source": [
    "import seaborn as sns"
   ]
  },
  {
   "cell_type": "code",
   "execution_count": null,
   "id": "2ecb6154",
   "metadata": {},
   "outputs": [],
   "source": [
    "sns.pairplot(correlation_df,hue='genre')"
   ]
  },
  {
   "cell_type": "code",
   "execution_count": null,
   "id": "f3273d00",
   "metadata": {},
   "outputs": [],
   "source": [
    "df_train"
   ]
  },
  {
   "cell_type": "code",
   "execution_count": null,
   "id": "6e2cd814",
   "metadata": {},
   "outputs": [],
   "source": []
  }
 ],
 "metadata": {
  "kernelspec": {
   "display_name": "Python 3 (ipykernel)",
   "language": "python",
   "name": "python3"
  },
  "language_info": {
   "codemirror_mode": {
    "name": "ipython",
    "version": 3
   },
   "file_extension": ".py",
   "mimetype": "text/x-python",
   "name": "python",
   "nbconvert_exporter": "python",
   "pygments_lexer": "ipython3",
   "version": "3.8.10"
  }
 },
 "nbformat": 4,
 "nbformat_minor": 5
}
