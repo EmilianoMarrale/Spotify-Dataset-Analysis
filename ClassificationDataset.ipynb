{
 "cells": [
  {
   "cell_type": "code",
   "execution_count": null,
   "id": "initial_id",
   "metadata": {
    "collapsed": true
   },
   "outputs": [],
   "source": [
    "import numpy as np\n",
    "import pandas as pd\n",
    "import matplotlib.pyplot as plt\n",
    "import seaborn as sns\n",
    "from scipy.stats import pearsonr\n",
    "from sklearn.model_selection import train_test_split\n",
    "from sklearn.ensemble import RandomForestClassifier\n",
    "from sklearn.metrics import accuracy_score\n",
    "from sklearn.preprocessing import StandardScaler, MinMaxScaler\n",
    "from sklearn.metrics import silhouette_score\n",
    "from scipy.spatial.distance import pdist, squareform\n",
    "from scipy.stats import norm\n",
    "from sklearn.metrics import (\n",
    "    accuracy_score,\n",
    "    f1_score,\n",
    "    classification_report,\n",
    "    confusion_matrix,\n",
    "    roc_auc_score,\n",
    ")\n",
    "from scikitplot.metrics import plot_roc\n",
    "from scikitplot.metrics import plot_precision_recall"
   ]
  },
  {
   "cell_type": "code",
   "execution_count": null,
   "outputs": [],
   "source": [
    "df_train = pd.read_csv('train.csv', skipinitialspace=True)\n",
    "\n",
    "df_test = pd.read_csv('test.csv', skipinitialspace=True)"
   ],
   "metadata": {
    "collapsed": false
   },
   "id": "feb8e500eee8dd07"
  },
  {
   "cell_type": "code",
   "execution_count": null,
   "outputs": [],
   "source": [],
   "metadata": {
    "collapsed": false
   },
   "id": "a3ab697c0e43cf0e"
  },
  {
   "cell_type": "markdown",
   "source": [
    "## Data transformation"
   ],
   "metadata": {
    "collapsed": false
   },
   "id": "e7b72ab070f6ae34"
  },
  {
   "cell_type": "code",
   "execution_count": null,
   "outputs": [],
   "source": [
    "genres = df_train['genre'].unique()\n",
    "# creo un dizionario per tenerli associati ad un numero\n",
    "genres_dict = dict(zip(genres, range(len(genres))))\n",
    "# Mappo i generi con i numeri\n",
    "df_train['genre'] = df_train['genre'].map(genres_dict)\n",
    "df_test['genre'] = df_test['genre'].map(genres_dict)\n",
    "print(genres_dict)"
   ],
   "metadata": {
    "collapsed": false
   },
   "id": "1d21aefd5fb3647"
  },
  {
   "cell_type": "code",
   "execution_count": null,
   "outputs": [],
   "source": [
    "df_train['explicit'] = df_train['explicit'].astype(int)\n",
    "df_test['explicit'] = df_test['explicit'].astype(int)"
   ],
   "metadata": {
    "collapsed": false
   },
   "id": "dc30ee2aaf1f5864"
  },
  {
   "cell_type": "code",
   "execution_count": 1,
   "outputs": [
    {
     "ename": "NameError",
     "evalue": "name 'df_train' is not defined",
     "output_type": "error",
     "traceback": [
      "\u001B[0;31m---------------------------------------------------------------------------\u001B[0m",
      "\u001B[0;31mNameError\u001B[0m                                 Traceback (most recent call last)",
      "Cell \u001B[0;32mIn[1], line 1\u001B[0m\n\u001B[0;32m----> 1\u001B[0m df_train\u001B[38;5;241m.\u001B[39mloc[df_train[\u001B[38;5;124m'\u001B[39m\u001B[38;5;124mtime_signature\u001B[39m\u001B[38;5;124m'\u001B[39m]\u001B[38;5;241m.\u001B[39misna(), \u001B[38;5;124m'\u001B[39m\u001B[38;5;124mtime_signature\u001B[39m\u001B[38;5;124m'\u001B[39m] \u001B[38;5;241m=\u001B[39m \u001B[38;5;28mround\u001B[39m(df_train[\u001B[38;5;124m'\u001B[39m\u001B[38;5;124mn_beats\u001B[39m\u001B[38;5;124m'\u001B[39m] \u001B[38;5;241m/\u001B[39m df_train[\u001B[38;5;124m'\u001B[39m\u001B[38;5;124mn_bars\u001B[39m\u001B[38;5;124m'\u001B[39m])\n",
      "\u001B[0;31mNameError\u001B[0m: name 'df_train' is not defined"
     ]
    }
   ],
   "source": [
    "#Calculating only for the missing values in time_signature column by dividing n_beats/n_bars and rounding the result\n",
    "df_train.loc[df_train['time_signature'].isna(), 'time_signature'] = round(df_train['n_beats'] / df_train['n_bars'])"
   ],
   "metadata": {
    "collapsed": false,
    "ExecuteTime": {
     "end_time": "2023-12-23T13:26:44.553935Z",
     "start_time": "2023-12-23T13:26:43.824454Z"
    }
   },
   "id": "f637365d525c692e"
  },
  {
   "cell_type": "code",
   "execution_count": null,
   "outputs": [],
   "source": [
    "scaler = MinMaxScaler()\n",
    "\n",
    "# Normalizing duration_ms\n",
    "df_train['duration_ms'] = scaler.fit_transform(df_train['duration_ms'].values.reshape(-1, 1))\n",
    "# Normalizing features_duration_ms\n",
    "df_train['features_duration_ms'] = scaler.fit_transform(df_train['features_duration_ms'].values.reshape(-1, 1))\n",
    "# Normalizing n_bars\n",
    "df_train['n_bars'] = scaler.fit_transform(df_train['n_bars'].values.reshape(-1, 1))\n",
    "# Normalizing n_beats\n",
    "df_train['n_beats'] = scaler.fit_transform(df_train['n_beats'].values.reshape(-1, 1))\n",
    "# Normalizing loudness\n",
    "df_train['loudness'] = scaler.fit_transform(df_train['loudness'].values.reshape(-1, 1))\n",
    "# Normalizing tempo\n",
    "df_train['tempo'] = scaler.fit_transform(df_train['tempo'].values.reshape(-1, 1))\n",
    "# Normalizing processing\n",
    "df_train['processing'] = scaler.fit_transform(df_train['processing'].values.reshape(-1, 1))"
   ],
   "metadata": {
    "collapsed": false
   },
   "id": "2bd7779314f02de3"
  },
  {
   "cell_type": "code",
   "execution_count": null,
   "outputs": [],
   "source": [
    "#Dropping popularity confidence column\n",
    "df_train.drop(columns=['popularity_confidence'], axis=1, inplace=True)"
   ],
   "metadata": {
    "collapsed": false
   },
   "id": "bffb01bfb34298f7"
  },
  {
   "cell_type": "code",
   "execution_count": null,
   "outputs": [],
   "source": [
    "# Load your dataset\n",
    "df_copy = df_train.copy()\n",
    "\n",
    "df_copy.drop(columns=['name', 'artists', 'album_name'], axis=1, inplace=True)\n",
    "\n",
    "#divide the dataset in 2 parts: one with known mode and one with missing mode\n",
    "data_with_mode = df_copy.dropna(subset=['mode'])\n",
    "data_missing_mode = df_copy[df_copy['mode'].isna()]\n",
    "\n",
    "# Features and target variable for the known 'mode'\n",
    "X_known = data_with_mode.drop(columns=['mode'])\n",
    "y_known = data_with_mode['mode']\n",
    "\n",
    "# Features for the rows with missing 'mode'\n",
    "X_missing = data_missing_mode.drop(columns=['mode'])\n",
    "\n",
    "# Train a classifier (e.g., Random Forest) on data with known 'mode'\n",
    "clf = RandomForestClassifier(n_estimators=500, random_state=42, max_features=20)\n",
    "clf.fit(X_known, y_known)\n",
    "\n",
    "# Use the trained model to predict 'mode' for rows with missing 'mode'\n",
    "y_missing_pred = clf.predict(X_missing)\n",
    "\n",
    "# Fill in the missing 'mode' values with predictions\n",
    "df_train.loc[df_train['mode'].isna(), 'mode'] = y_missing_pred"
   ],
   "metadata": {
    "collapsed": false
   },
   "id": "7c7475266d4a0ed"
  },
  {
   "cell_type": "markdown",
   "source": [
    "## Data classification"
   ],
   "metadata": {
    "collapsed": false
   },
   "id": "52d4acda05259e7c"
  },
  {
   "cell_type": "markdown",
   "source": [
    "### Partitioning "
   ],
   "metadata": {
    "collapsed": false
   },
   "id": "959c325fb81f4032"
  },
  {
   "cell_type": "code",
   "execution_count": null,
   "outputs": [],
   "source": [
    "from sklearn.model_selection import train_test_split\n"
   ],
   "metadata": {
    "collapsed": false
   },
   "id": "1ec10656c7c92021"
  },
  {
   "cell_type": "markdown",
   "source": [],
   "metadata": {
    "collapsed": false
   },
   "id": "fa4f4c9c8d531272"
  }
 ],
 "metadata": {
  "kernelspec": {
   "display_name": "Python 3",
   "language": "python",
   "name": "python3"
  },
  "language_info": {
   "codemirror_mode": {
    "name": "ipython",
    "version": 2
   },
   "file_extension": ".py",
   "mimetype": "text/x-python",
   "name": "python",
   "nbconvert_exporter": "python",
   "pygments_lexer": "ipython2",
   "version": "2.7.6"
  }
 },
 "nbformat": 4,
 "nbformat_minor": 5
}
