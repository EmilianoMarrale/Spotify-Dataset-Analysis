{
 "cells": [
  {
   "cell_type": "code",
   "execution_count": 43,
   "id": "initial_id",
   "metadata": {
    "collapsed": true,
    "ExecuteTime": {
     "end_time": "2023-11-15T19:34:06.802581Z",
     "start_time": "2023-11-15T19:34:06.765760Z"
    }
   },
   "outputs": [],
   "source": [
    "import numpy as np\n",
    "import pandas as pd\n",
    "import matplotlib.pyplot as plt\n",
    "import seaborn as sns\n",
    "from pycaret.datasets import get_data\n",
    "from pycaret.utils import version\n",
    "from pycaret.clustering import *\n"
   ]
  },
  {
   "cell_type": "code",
   "execution_count": 11,
   "outputs": [],
   "source": [
    "df_train = pd.read_csv('train.csv', skipinitialspace=True)\n",
    "df_test = pd.read_csv('test.csv', skipinitialspace=True)"
   ],
   "metadata": {
    "collapsed": false,
    "ExecuteTime": {
     "end_time": "2023-11-15T18:32:19.398783Z",
     "start_time": "2023-11-15T18:32:19.150959Z"
    }
   },
   "id": "6bd89fe5ad819cdb"
  },
  {
   "cell_type": "code",
   "execution_count": 35,
   "outputs": [
    {
     "data": {
      "text/plain": "<IPython.core.display.HTML object>",
      "text/html": ""
     },
     "metadata": {},
     "output_type": "display_data"
    },
    {
     "data": {
      "text/plain": "                                                    name  duration_ms  \\\n0                                              Long Road       241760   \n1                   Daniâl My Son, Where Did You Vanish?       444000   \n2                                     Ondskapens Galakse       333506   \n3                                        Can't Look Away       269800   \n4                                          Thunderground       307651   \n...                                                  ...          ...   \n14995                                              Outpt       432026   \n14996  Natural Environment Sounds: To Improve Sleep a...       182746   \n14997                               Psychological Attack       400091   \n14998             Don't Hate The 808 (feat. Lafa Taylor)       197250   \n14999                                    Parchaiyon Mein       198409   \n\n       explicit  popularity                         artists  \\\n0         False          46                   Funki Porcini   \n1         False           0                   Siavash Amini   \n2         False           3                       Kvelertak   \n3         False          23               The Wood Brothers   \n4         False          25          The Darkraver;DJ Vince   \n...         ...         ...                             ...   \n14995     False           0                        Autechre   \n14996     False          44  Natural White Noise Relaxation   \n14997     False          43                         Droplex   \n14998     False          37          Bassnectar;Lafa Taylor   \n14999     False          36                   Ashwin Adwani   \n\n                                              album_name  danceability  \\\n0                                          Hed Phone Sex         0.690   \n1                                   A Trail of Laughters         0.069   \n2                                             Nattesferd         0.363   \n3                                      One Drop of Truth         0.523   \n4                                 Happy Hardcore Top 100         0.643   \n...                                                  ...           ...   \n14995                                                EP7         0.554   \n14996  Baby Sleep White Noise: Ultimate Album to Help...         0.103   \n14997                               Psychological Attack         0.799   \n14998                                    Noise vs Beauty         0.511   \n14999                                    Parchaiyon Mein         0.678   \n\n       energy  key  loudness  ...  liveness  valence    tempo  \\\n0       0.513    5   -12.529  ...    0.2810   0.6350  142.221   \n1       0.196    1   -24.801  ...    0.3600   0.0336   75.596   \n2       0.854    2    -7.445  ...    0.2620   0.4890  116.628   \n3       0.585    5    -5.607  ...    0.1170   0.3850  140.880   \n4       0.687    7   -11.340  ...    0.2990   0.6370  143.956   \n...       ...  ...       ...  ...       ...      ...      ...   \n14995   0.657    1   -14.232  ...    0.1320   0.0335  117.319   \n14996   0.860    1   -19.627  ...    0.1230   0.0016   92.323   \n14997   0.535    1    -9.103  ...    0.0713   0.0708  126.000   \n14998   0.970    5    -2.299  ...    0.4020   0.2700  160.044   \n14999   0.518    6    -7.790  ...    0.0880   0.7840   88.003   \n\n       features_duration_ms  time_signature  n_beats  n_bars  \\\n0                    241760             4.0    567.0   141.0   \n1                    444000             4.0    617.0   155.0   \n2                    333507             4.0    652.0   162.0   \n3                    269800             4.0    619.0   155.0   \n4                    307652             4.0    733.0   183.0   \n...                     ...             ...      ...     ...   \n14995                432027             NaN    837.0   212.0   \n14996                182747             3.0    277.0    92.0   \n14997                400091             4.0    837.0   209.0   \n14998                197250             4.0    513.0   130.0   \n14999                198409             4.0    286.0    72.0   \n\n       popularity_confidence  processing        genre  \n0                        NaN    1.279305      j-dance  \n1                        NaN    2.367412      iranian  \n2                        NaN    3.700483  black-metal  \n3                      0.469    1.279305    bluegrass  \n4                        NaN    4.067086        happy  \n...                      ...         ...          ...  \n14995                    NaN    2.367412          idm  \n14996                    NaN    2.367412        sleep  \n14997                    NaN    2.367412       techno  \n14998                    NaN    1.279305    breakbeat  \n14999                    NaN    1.170953       indian  \n\n[15000 rows x 24 columns]",
      "text/html": "<div>\n<style scoped>\n    .dataframe tbody tr th:only-of-type {\n        vertical-align: middle;\n    }\n\n    .dataframe tbody tr th {\n        vertical-align: top;\n    }\n\n    .dataframe thead th {\n        text-align: right;\n    }\n</style>\n<table border=\"1\" class=\"dataframe\">\n  <thead>\n    <tr style=\"text-align: right;\">\n      <th></th>\n      <th>name</th>\n      <th>duration_ms</th>\n      <th>explicit</th>\n      <th>popularity</th>\n      <th>artists</th>\n      <th>album_name</th>\n      <th>danceability</th>\n      <th>energy</th>\n      <th>key</th>\n      <th>loudness</th>\n      <th>...</th>\n      <th>liveness</th>\n      <th>valence</th>\n      <th>tempo</th>\n      <th>features_duration_ms</th>\n      <th>time_signature</th>\n      <th>n_beats</th>\n      <th>n_bars</th>\n      <th>popularity_confidence</th>\n      <th>processing</th>\n      <th>genre</th>\n    </tr>\n  </thead>\n  <tbody>\n    <tr>\n      <th>0</th>\n      <td>Long Road</td>\n      <td>241760</td>\n      <td>False</td>\n      <td>46</td>\n      <td>Funki Porcini</td>\n      <td>Hed Phone Sex</td>\n      <td>0.690</td>\n      <td>0.513</td>\n      <td>5</td>\n      <td>-12.529</td>\n      <td>...</td>\n      <td>0.2810</td>\n      <td>0.6350</td>\n      <td>142.221</td>\n      <td>241760</td>\n      <td>4.0</td>\n      <td>567.0</td>\n      <td>141.0</td>\n      <td>NaN</td>\n      <td>1.279305</td>\n      <td>j-dance</td>\n    </tr>\n    <tr>\n      <th>1</th>\n      <td>Daniâl My Son, Where Did You Vanish?</td>\n      <td>444000</td>\n      <td>False</td>\n      <td>0</td>\n      <td>Siavash Amini</td>\n      <td>A Trail of Laughters</td>\n      <td>0.069</td>\n      <td>0.196</td>\n      <td>1</td>\n      <td>-24.801</td>\n      <td>...</td>\n      <td>0.3600</td>\n      <td>0.0336</td>\n      <td>75.596</td>\n      <td>444000</td>\n      <td>4.0</td>\n      <td>617.0</td>\n      <td>155.0</td>\n      <td>NaN</td>\n      <td>2.367412</td>\n      <td>iranian</td>\n    </tr>\n    <tr>\n      <th>2</th>\n      <td>Ondskapens Galakse</td>\n      <td>333506</td>\n      <td>False</td>\n      <td>3</td>\n      <td>Kvelertak</td>\n      <td>Nattesferd</td>\n      <td>0.363</td>\n      <td>0.854</td>\n      <td>2</td>\n      <td>-7.445</td>\n      <td>...</td>\n      <td>0.2620</td>\n      <td>0.4890</td>\n      <td>116.628</td>\n      <td>333507</td>\n      <td>4.0</td>\n      <td>652.0</td>\n      <td>162.0</td>\n      <td>NaN</td>\n      <td>3.700483</td>\n      <td>black-metal</td>\n    </tr>\n    <tr>\n      <th>3</th>\n      <td>Can't Look Away</td>\n      <td>269800</td>\n      <td>False</td>\n      <td>23</td>\n      <td>The Wood Brothers</td>\n      <td>One Drop of Truth</td>\n      <td>0.523</td>\n      <td>0.585</td>\n      <td>5</td>\n      <td>-5.607</td>\n      <td>...</td>\n      <td>0.1170</td>\n      <td>0.3850</td>\n      <td>140.880</td>\n      <td>269800</td>\n      <td>4.0</td>\n      <td>619.0</td>\n      <td>155.0</td>\n      <td>0.469</td>\n      <td>1.279305</td>\n      <td>bluegrass</td>\n    </tr>\n    <tr>\n      <th>4</th>\n      <td>Thunderground</td>\n      <td>307651</td>\n      <td>False</td>\n      <td>25</td>\n      <td>The Darkraver;DJ Vince</td>\n      <td>Happy Hardcore Top 100</td>\n      <td>0.643</td>\n      <td>0.687</td>\n      <td>7</td>\n      <td>-11.340</td>\n      <td>...</td>\n      <td>0.2990</td>\n      <td>0.6370</td>\n      <td>143.956</td>\n      <td>307652</td>\n      <td>4.0</td>\n      <td>733.0</td>\n      <td>183.0</td>\n      <td>NaN</td>\n      <td>4.067086</td>\n      <td>happy</td>\n    </tr>\n    <tr>\n      <th>...</th>\n      <td>...</td>\n      <td>...</td>\n      <td>...</td>\n      <td>...</td>\n      <td>...</td>\n      <td>...</td>\n      <td>...</td>\n      <td>...</td>\n      <td>...</td>\n      <td>...</td>\n      <td>...</td>\n      <td>...</td>\n      <td>...</td>\n      <td>...</td>\n      <td>...</td>\n      <td>...</td>\n      <td>...</td>\n      <td>...</td>\n      <td>...</td>\n      <td>...</td>\n      <td>...</td>\n    </tr>\n    <tr>\n      <th>14995</th>\n      <td>Outpt</td>\n      <td>432026</td>\n      <td>False</td>\n      <td>0</td>\n      <td>Autechre</td>\n      <td>EP7</td>\n      <td>0.554</td>\n      <td>0.657</td>\n      <td>1</td>\n      <td>-14.232</td>\n      <td>...</td>\n      <td>0.1320</td>\n      <td>0.0335</td>\n      <td>117.319</td>\n      <td>432027</td>\n      <td>NaN</td>\n      <td>837.0</td>\n      <td>212.0</td>\n      <td>NaN</td>\n      <td>2.367412</td>\n      <td>idm</td>\n    </tr>\n    <tr>\n      <th>14996</th>\n      <td>Natural Environment Sounds: To Improve Sleep a...</td>\n      <td>182746</td>\n      <td>False</td>\n      <td>44</td>\n      <td>Natural White Noise Relaxation</td>\n      <td>Baby Sleep White Noise: Ultimate Album to Help...</td>\n      <td>0.103</td>\n      <td>0.860</td>\n      <td>1</td>\n      <td>-19.627</td>\n      <td>...</td>\n      <td>0.1230</td>\n      <td>0.0016</td>\n      <td>92.323</td>\n      <td>182747</td>\n      <td>3.0</td>\n      <td>277.0</td>\n      <td>92.0</td>\n      <td>NaN</td>\n      <td>2.367412</td>\n      <td>sleep</td>\n    </tr>\n    <tr>\n      <th>14997</th>\n      <td>Psychological Attack</td>\n      <td>400091</td>\n      <td>False</td>\n      <td>43</td>\n      <td>Droplex</td>\n      <td>Psychological Attack</td>\n      <td>0.799</td>\n      <td>0.535</td>\n      <td>1</td>\n      <td>-9.103</td>\n      <td>...</td>\n      <td>0.0713</td>\n      <td>0.0708</td>\n      <td>126.000</td>\n      <td>400091</td>\n      <td>4.0</td>\n      <td>837.0</td>\n      <td>209.0</td>\n      <td>NaN</td>\n      <td>2.367412</td>\n      <td>techno</td>\n    </tr>\n    <tr>\n      <th>14998</th>\n      <td>Don't Hate The 808 (feat. Lafa Taylor)</td>\n      <td>197250</td>\n      <td>False</td>\n      <td>37</td>\n      <td>Bassnectar;Lafa Taylor</td>\n      <td>Noise vs Beauty</td>\n      <td>0.511</td>\n      <td>0.970</td>\n      <td>5</td>\n      <td>-2.299</td>\n      <td>...</td>\n      <td>0.4020</td>\n      <td>0.2700</td>\n      <td>160.044</td>\n      <td>197250</td>\n      <td>4.0</td>\n      <td>513.0</td>\n      <td>130.0</td>\n      <td>NaN</td>\n      <td>1.279305</td>\n      <td>breakbeat</td>\n    </tr>\n    <tr>\n      <th>14999</th>\n      <td>Parchaiyon Mein</td>\n      <td>198409</td>\n      <td>False</td>\n      <td>36</td>\n      <td>Ashwin Adwani</td>\n      <td>Parchaiyon Mein</td>\n      <td>0.678</td>\n      <td>0.518</td>\n      <td>6</td>\n      <td>-7.790</td>\n      <td>...</td>\n      <td>0.0880</td>\n      <td>0.7840</td>\n      <td>88.003</td>\n      <td>198409</td>\n      <td>4.0</td>\n      <td>286.0</td>\n      <td>72.0</td>\n      <td>NaN</td>\n      <td>1.170953</td>\n      <td>indian</td>\n    </tr>\n  </tbody>\n</table>\n<p>15000 rows × 24 columns</p>\n</div>"
     },
     "execution_count": 35,
     "metadata": {},
     "output_type": "execute_result"
    }
   ],
   "source": [
    "data = get_data('train')\n",
    "data"
   ],
   "metadata": {
    "collapsed": false,
    "ExecuteTime": {
     "end_time": "2023-11-15T19:24:09.477876Z",
     "start_time": "2023-11-15T19:24:08.876372Z"
    }
   },
   "id": "898d4b256f75c2be"
  },
  {
   "cell_type": "code",
   "execution_count": null,
   "outputs": [],
   "source": [
    "clu1 = setup(data, ignore_features = ['mode', 'time_signature', 'popularity_confidence'], session_id=123, log_experiment=False, log_plots = True,\n",
    "             experiment_name='first_try')"
   ],
   "metadata": {
    "collapsed": false,
    "is_executing": true,
    "ExecuteTime": {
     "start_time": "2023-11-15T19:36:52.102373Z"
    }
   },
   "id": "d47d9d679078a1e5"
  },
  {
   "cell_type": "code",
   "execution_count": 34,
   "outputs": [
    {
     "data": {
      "text/plain": "<pycaret.classification.oop.ClassificationExperiment at 0x123ea9810>"
     },
     "execution_count": 34,
     "metadata": {},
     "output_type": "execute_result"
    }
   ],
   "source": [],
   "metadata": {
    "collapsed": false,
    "ExecuteTime": {
     "end_time": "2023-11-15T19:17:25.214879Z",
     "start_time": "2023-11-15T19:17:25.148231Z"
    }
   },
   "id": "6d1d7628103cabad"
  },
  {
   "cell_type": "code",
   "execution_count": null,
   "outputs": [],
   "source": [
    "plot_model(kmeans, plot = 'elbow')"
   ],
   "metadata": {
    "collapsed": false
   },
   "id": "c9583758617e1447"
  }
 ],
 "metadata": {
  "kernelspec": {
   "display_name": "Python 3",
   "language": "python",
   "name": "python3"
  },
  "language_info": {
   "codemirror_mode": {
    "name": "ipython",
    "version": 2
   },
   "file_extension": ".py",
   "mimetype": "text/x-python",
   "name": "python",
   "nbconvert_exporter": "python",
   "pygments_lexer": "ipython2",
   "version": "2.7.6"
  }
 },
 "nbformat": 4,
 "nbformat_minor": 5
}
